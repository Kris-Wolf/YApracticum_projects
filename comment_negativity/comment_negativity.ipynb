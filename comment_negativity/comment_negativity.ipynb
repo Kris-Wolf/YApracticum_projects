{
 "cells": [
  {
   "cell_type": "markdown",
   "id": "e02ea8eb",
   "metadata": {},
   "source": [
    "# Проект для «Викишоп»"
   ]
  },
  {
   "cell_type": "markdown",
   "id": "d267d6b7",
   "metadata": {},
   "source": [
    "<a id='task'></a>\n",
    "## Постановка задачи\n",
    "\n",
    "**Тема проекта:**  разработка модели машинного обучения для поиска токсичных комментариев."
   ]
  },
  {
   "cell_type": "markdown",
   "id": "c963fc7b",
   "metadata": {},
   "source": [
    "### Назначение\n",
    "\n",
    "**Цели проекта:** обучить модель классифицировать комментарии на позитивные и негативные.\n",
    "\n",
    "- постройть модель со значением метрики качества F1 не меньше 0.75. "
   ]
  },
  {
   "cell_type": "markdown",
   "id": "b04e3211",
   "metadata": {},
   "source": [
    "### Структура проекта\n",
    "1. [Постановка задачи][1]\n",
    "    1. Назначение\n",
    "    2. Структура проекта\n",
    "    3. Описание данных\n",
    "2. [Загрузка и подготовка данных][2]\n",
    "3. [Лемматизация текста][3]\n",
    "4. [Обучение моделей][4]\n",
    "5. [Общие выводы][5]\n",
    "\n",
    "[1]:#task\n",
    "[2]:#general\n",
    "[3]:#lem\n",
    "[4]:#model\n",
    "[5]:#fin"
   ]
  },
  {
   "cell_type": "markdown",
   "id": "e8fcd9c8",
   "metadata": {},
   "source": [
    "### Описание данных\n",
    "\n",
    "Данные находятся в файле `toxic_comments.csv`.\n",
    "- Столбец `text` содержит текст комментария.\n",
    "- `toxic` - целевой признак."
   ]
  },
  {
   "cell_type": "markdown",
   "id": "0c8da3f7",
   "metadata": {},
   "source": [
    "<a id='general'></a>\n",
    "## Загрузка и подготовка данных\n",
    "\n",
    "Подготовка к работе с данными: загружаем библиотеки."
   ]
  },
  {
   "cell_type": "code",
   "execution_count": 1,
   "id": "11ad0cf5",
   "metadata": {},
   "outputs": [],
   "source": [
    "import os\n",
    "import re\n",
    "import nltk\n",
    "import numpy as np\n",
    "import pandas as pd\n",
    "import seaborn as sns\n",
    "import matplotlib.pyplot as plt\n",
    "\n",
    "import warnings\n",
    "warnings.filterwarnings(\"ignore\")\n",
    "\n",
    "from sklearn.metrics import f1_score\n",
    "\n",
    "try:\n",
    "    from imblearn.pipeline import Pipeline \n",
    "except:\n",
    "    !pip install imbalanced-learn\n",
    "    from imblearn.pipeline import Pipeline \n",
    "\n",
    "from sklearn.model_selection import (\n",
    "    train_test_split, \n",
    "    RandomizedSearchCV\n",
    ")\n",
    "from sklearn.tree import DecisionTreeClassifier\n",
    "from sklearn.linear_model import LogisticRegression\n",
    "from sklearn.feature_extraction.text import TfidfVectorizer\n",
    "\n",
    "from nltk.corpus import stopwords as nltk_stopwords\n",
    "from nltk.stem import WordNetLemmatizer\n",
    "from nltk.tokenize import word_tokenize\n",
    "from nltk.corpus import wordnet\n",
    "from nltk import pos_tag\n",
    "from tqdm.notebook import tqdm  "
   ]
  },
  {
   "cell_type": "code",
   "execution_count": 2,
   "id": "317ae4e2",
   "metadata": {},
   "outputs": [],
   "source": [
    "RANDOM_STATE = 52\n",
    "TEST_SIZE = 0.25"
   ]
  },
  {
   "cell_type": "code",
   "execution_count": 3,
   "id": "b0dc4d98",
   "metadata": {},
   "outputs": [],
   "source": [
    "# подготовка для графиков\n",
    "palette = [\"#F72585\", \"#4361EE\",\n",
    "           \"#b5179e\", \"#4CC9F0\", \n",
    "           \"#7209B7\", \"#3A0CA3\"]\n",
    "sns.set(rc={'figure.figsize':(7,5)},\n",
    "        palette=palette, \n",
    "        font_scale=0.95)\n",
    "sns.set_style(rc = {'axes.facecolor': '#e9e9f0'})"
   ]
  },
  {
   "cell_type": "code",
   "execution_count": 4,
   "id": "ecb147b5",
   "metadata": {},
   "outputs": [
    {
     "data": {
      "text/html": [
       "<style>.container { width:90% !important; }</style>"
      ],
      "text/plain": [
       "<IPython.core.display.HTML object>"
      ]
     },
     "metadata": {},
     "output_type": "display_data"
    }
   ],
   "source": [
    "# расширение границ для работы с тетрадкой\n",
    "from IPython.core.display import display, HTML\n",
    "display(HTML(\"<style>.container { width:90% !important; }</style>\"))"
   ]
  },
  {
   "cell_type": "markdown",
   "id": "a5f7898d",
   "metadata": {},
   "source": [
    "Считываем датафрейм."
   ]
  },
  {
   "cell_type": "code",
   "execution_count": 5,
   "id": "7385957c",
   "metadata": {},
   "outputs": [],
   "source": [
    "# функция считывания датафрейма\n",
    "def read_dfs(path, name):\n",
    "    for i in path:\n",
    "        if os.path.exists(i+name):\n",
    "            return pd.read_csv(i+name, index_col=[0], parse_dates=[0])\n",
    "    return print('File not found')"
   ]
  },
  {
   "cell_type": "code",
   "execution_count": 6,
   "id": "cad5007b",
   "metadata": {},
   "outputs": [
    {
     "data": {
      "text/html": [
       "<div>\n",
       "<style scoped>\n",
       "    .dataframe tbody tr th:only-of-type {\n",
       "        vertical-align: middle;\n",
       "    }\n",
       "\n",
       "    .dataframe tbody tr th {\n",
       "        vertical-align: top;\n",
       "    }\n",
       "\n",
       "    .dataframe thead th {\n",
       "        text-align: right;\n",
       "    }\n",
       "</style>\n",
       "<table border=\"1\" class=\"dataframe\">\n",
       "  <thead>\n",
       "    <tr style=\"text-align: right;\">\n",
       "      <th></th>\n",
       "      <th>text</th>\n",
       "      <th>toxic</th>\n",
       "    </tr>\n",
       "  </thead>\n",
       "  <tbody>\n",
       "    <tr>\n",
       "      <th>0</th>\n",
       "      <td>Explanation\\nWhy the edits made under my usern...</td>\n",
       "      <td>0</td>\n",
       "    </tr>\n",
       "    <tr>\n",
       "      <th>1</th>\n",
       "      <td>D'aww! He matches this background colour I'm s...</td>\n",
       "      <td>0</td>\n",
       "    </tr>\n",
       "    <tr>\n",
       "      <th>2</th>\n",
       "      <td>Hey man, I'm really not trying to edit war. It...</td>\n",
       "      <td>0</td>\n",
       "    </tr>\n",
       "    <tr>\n",
       "      <th>3</th>\n",
       "      <td>\"\\nMore\\nI can't make any real suggestions on ...</td>\n",
       "      <td>0</td>\n",
       "    </tr>\n",
       "    <tr>\n",
       "      <th>4</th>\n",
       "      <td>You, sir, are my hero. Any chance you remember...</td>\n",
       "      <td>0</td>\n",
       "    </tr>\n",
       "    <tr>\n",
       "      <th>5</th>\n",
       "      <td>\"\\n\\nCongratulations from me as well, use the ...</td>\n",
       "      <td>0</td>\n",
       "    </tr>\n",
       "    <tr>\n",
       "      <th>6</th>\n",
       "      <td>COCKSUCKER BEFORE YOU PISS AROUND ON MY WORK</td>\n",
       "      <td>1</td>\n",
       "    </tr>\n",
       "    <tr>\n",
       "      <th>7</th>\n",
       "      <td>Your vandalism to the Matt Shirvington article...</td>\n",
       "      <td>0</td>\n",
       "    </tr>\n",
       "    <tr>\n",
       "      <th>8</th>\n",
       "      <td>Sorry if the word 'nonsense' was offensive to ...</td>\n",
       "      <td>0</td>\n",
       "    </tr>\n",
       "    <tr>\n",
       "      <th>9</th>\n",
       "      <td>alignment on this subject and which are contra...</td>\n",
       "      <td>0</td>\n",
       "    </tr>\n",
       "  </tbody>\n",
       "</table>\n",
       "</div>"
      ],
      "text/plain": [
       "                                                text  toxic\n",
       "0  Explanation\\nWhy the edits made under my usern...      0\n",
       "1  D'aww! He matches this background colour I'm s...      0\n",
       "2  Hey man, I'm really not trying to edit war. It...      0\n",
       "3  \"\\nMore\\nI can't make any real suggestions on ...      0\n",
       "4  You, sir, are my hero. Any chance you remember...      0\n",
       "5  \"\\n\\nCongratulations from me as well, use the ...      0\n",
       "6       COCKSUCKER BEFORE YOU PISS AROUND ON MY WORK      1\n",
       "7  Your vandalism to the Matt Shirvington article...      0\n",
       "8  Sorry if the word 'nonsense' was offensive to ...      0\n",
       "9  alignment on this subject and which are contra...      0"
      ]
     },
     "execution_count": 6,
     "metadata": {},
     "output_type": "execute_result"
    }
   ],
   "source": [
    "# записываем возможные пути\n",
    "paths = ['/datasets/', \n",
    "         'https://code.s3.yandex.net/datasets/', \n",
    "         'C:\\\\Users\\\\Admin\\\\YandexDisk\\\\']\n",
    "# разделение данных\n",
    "df_name = 'toxic_comments.csv'\n",
    "comments = read_dfs(paths, df_name)\n",
    "\n",
    "comments.head(10)"
   ]
  },
  {
   "cell_type": "code",
   "execution_count": 7,
   "id": "00db78d3",
   "metadata": {},
   "outputs": [
    {
     "name": "stdout",
     "output_type": "stream",
     "text": [
      "<class 'pandas.core.frame.DataFrame'>\n",
      "Int64Index: 159292 entries, 0 to 159450\n",
      "Data columns (total 2 columns):\n",
      " #   Column  Non-Null Count   Dtype \n",
      "---  ------  --------------   ----- \n",
      " 0   text    159292 non-null  object\n",
      " 1   toxic   159292 non-null  int64 \n",
      "dtypes: int64(1), object(1)\n",
      "memory usage: 3.6+ MB\n"
     ]
    }
   ],
   "source": [
    "comments.info()"
   ]
  },
  {
   "cell_type": "markdown",
   "id": "9c210b97",
   "metadata": {},
   "source": [
    "Пропусков нет. Всего в датафрейме 159 292 записей. Есть пропущенные индексы - исправим, пронумеровав записи по порядку."
   ]
  },
  {
   "cell_type": "code",
   "execution_count": 8,
   "id": "6c4cf981",
   "metadata": {},
   "outputs": [
    {
     "name": "stdout",
     "output_type": "stream",
     "text": [
      "<class 'pandas.core.frame.DataFrame'>\n",
      "RangeIndex: 159292 entries, 0 to 159291\n",
      "Data columns (total 2 columns):\n",
      " #   Column  Non-Null Count   Dtype \n",
      "---  ------  --------------   ----- \n",
      " 0   text    159292 non-null  object\n",
      " 1   toxic   159292 non-null  int64 \n",
      "dtypes: int64(1), object(1)\n",
      "memory usage: 2.4+ MB\n"
     ]
    }
   ],
   "source": [
    "comments = comments.reset_index(drop=True)\n",
    "comments.info()"
   ]
  },
  {
   "cell_type": "markdown",
   "id": "12a0badd",
   "metadata": {},
   "source": [
    "Проверим датафрейм на наличие дубликатов."
   ]
  },
  {
   "cell_type": "code",
   "execution_count": 9,
   "id": "b8029253",
   "metadata": {},
   "outputs": [
    {
     "data": {
      "text/plain": [
       "0"
      ]
     },
     "execution_count": 9,
     "metadata": {},
     "output_type": "execute_result"
    }
   ],
   "source": [
    "comments.duplicated().sum()"
   ]
  },
  {
   "cell_type": "markdown",
   "id": "a392bd60",
   "metadata": {},
   "source": [
    "Дубликатов нет.\n",
    "\n",
    "Проверим баланс классов."
   ]
  },
  {
   "cell_type": "code",
   "execution_count": 10,
   "id": "0a6b0b69",
   "metadata": {},
   "outputs": [
    {
     "data": {
      "image/png": "[encoded data removed]",
      "text/plain": [
       "<Figure size 700x500 with 1 Axes>"
      ]
     },
     "metadata": {},
     "output_type": "display_data"
    }
   ],
   "source": [
    "sns.countplot(\n",
    "    x='toxic',\n",
    "    data=comments, \n",
    "    hue='toxic', \n",
    "    dodge=False)\n",
    "plt.title('Распределение оценки комментариев по токсичности')\n",
    "plt.ylabel('Кол-во')\n",
    "plt.xlabel('Токсичность комментариев')\n",
    "\n",
    "plt.show();"
   ]
  },
  {
   "cell_type": "markdown",
   "id": "1b970917",
   "metadata": {},
   "source": [
    "Негативных (оценка `1`) комментариев значительно меньше, чем положительных."
   ]
  },
  {
   "cell_type": "markdown",
   "id": "d2b17a1f",
   "metadata": {},
   "source": [
    "**Вывод:**\n",
    "- датафрейм содержит 159 292 строк;\n",
    "- пропусков в данных нет;\n",
    "- в данных пропущены некоторые индексы, записи пронумерованы по порядку;\n",
    "- дубликатов нет;\n",
    "- в данных наблюдается дисбаланс классов целевого признака (перевес класса `0`). Это следует учесть при делении датафрейма на обучающие и тестовые выборки."
   ]
  },
  {
   "cell_type": "markdown",
   "id": "b590aa4c",
   "metadata": {},
   "source": [
    "<a id='lem'></a>\n",
    "## Лемматизация текста"
   ]
  },
  {
   "cell_type": "code",
   "execution_count": 11,
   "id": "6da45839",
   "metadata": {},
   "outputs": [
    {
     "name": "stderr",
     "output_type": "stream",
     "text": [
      "[nltk_data] Downloading package wordnet to\n",
      "[nltk_data]     C:\\Users\\Admin\\AppData\\Roaming\\nltk_data...\n",
      "[nltk_data]   Package wordnet is already up-to-date!\n",
      "[nltk_data] Downloading package stopwords to\n",
      "[nltk_data]     C:\\Users\\Admin\\AppData\\Roaming\\nltk_data...\n",
      "[nltk_data]   Package stopwords is already up-to-date!\n",
      "[nltk_data] Downloading package punkt to\n",
      "[nltk_data]     C:\\Users\\Admin\\AppData\\Roaming\\nltk_data...\n",
      "[nltk_data]   Package punkt is already up-to-date!\n",
      "[nltk_data] Downloading package averaged_perceptron_tagger to\n",
      "[nltk_data]     C:\\Users\\Admin\\AppData\\Roaming\\nltk_data...\n",
      "[nltk_data]   Package averaged_perceptron_tagger is already up-to-\n",
      "[nltk_data]       date!\n"
     ]
    }
   ],
   "source": [
    "# загружаем списки со стоп-словами, пунктуацией и тд.\n",
    "nltk.download('wordnet')\n",
    "nltk.download('stopwords')\n",
    "nltk.download('punkt')\n",
    "nltk.download('averaged_perceptron_tagger')\n",
    "stopwords = set(nltk_stopwords.words('english'))\n",
    "stopwords = list(stopwords)\n",
    "\n",
    "lemmatizer = WordNetLemmatizer()"
   ]
  },
  {
   "cell_type": "code",
   "execution_count": 12,
   "id": "0ebf907d",
   "metadata": {},
   "outputs": [],
   "source": [
    "# функция для получения тега-части-речи\n",
    "def get_pos_tag(tag):\n",
    "    if tag.startswith('J'):\n",
    "        return wordnet.ADJ\n",
    "    elif tag.startswith('V'):\n",
    "        return wordnet.VERB\n",
    "    elif tag.startswith('N'):\n",
    "        return wordnet.NOUN\n",
    "    elif tag.startswith('R'):\n",
    "        return wordnet.ADV\n",
    "    else:\n",
    "        return wordnet.NOUN\n",
    "\n",
    "# лемматизация текста\n",
    "def do_lemm(text):\n",
    "    # приводим в нижний регистр\n",
    "    text = text.lower()\n",
    "    # разбиваем текст на токены\n",
    "    tokens = word_tokenize(text)\n",
    "    # получаем тег к каждому токену\n",
    "    tagged_tokens = pos_tag(tokens)\n",
    "    \n",
    "    # приводим слова к лемме\n",
    "    lemmas = [lemmatizer.lemmatize(\n",
    "        token, get_pos_tag(tag)) \n",
    "              for token, tag in tagged_tokens]\n",
    "    # объединяем элементы списка в строку\n",
    "    lemmatized_text = ' '.join(lemmas)\n",
    "    # очищаем текст\n",
    "    cleaned_text = re.sub(r'[^a-zA-Z ]', '', lemmatized_text)\n",
    "    cleaned_text = cleaned_text.replace('\\n', '')\n",
    "    \n",
    "    return cleaned_text"
   ]
  },
  {
   "cell_type": "code",
   "execution_count": 15,
   "id": "9f7e3429",
   "metadata": {},
   "outputs": [
    {
     "data": {
      "application/vnd.jupyter.widget-view+json": {
       "model_id": "961878bc63174f6ab3f8af3a9b56ebbb",
       "version_major": 2,
       "version_minor": 0
      },
      "text/plain": [
       "  0%|          | 0/159292 [00:00<?, ?it/s]"
      ]
     },
     "metadata": {},
     "output_type": "display_data"
    }
   ],
   "source": [
    "tqdm.pandas()\n",
    "comments['lemm_text'] = comments['text'].progress_apply(do_lemm)"
   ]
  },
  {
   "cell_type": "code",
   "execution_count": 16,
   "id": "8b70611f",
   "metadata": {},
   "outputs": [
    {
     "data": {
      "text/html": [
       "<div>\n",
       "<style scoped>\n",
       "    .dataframe tbody tr th:only-of-type {\n",
       "        vertical-align: middle;\n",
       "    }\n",
       "\n",
       "    .dataframe tbody tr th {\n",
       "        vertical-align: top;\n",
       "    }\n",
       "\n",
       "    .dataframe thead th {\n",
       "        text-align: right;\n",
       "    }\n",
       "</style>\n",
       "<table border=\"1\" class=\"dataframe\">\n",
       "  <thead>\n",
       "    <tr style=\"text-align: right;\">\n",
       "      <th></th>\n",
       "      <th>toxic</th>\n",
       "      <th>lemm_text</th>\n",
       "    </tr>\n",
       "  </thead>\n",
       "  <tbody>\n",
       "    <tr>\n",
       "      <th>0</th>\n",
       "      <td>0</td>\n",
       "      <td>explanation why the edits make under my userna...</td>\n",
       "    </tr>\n",
       "    <tr>\n",
       "      <th>1</th>\n",
       "      <td>0</td>\n",
       "      <td>daww  he match this background colour i m seem...</td>\n",
       "    </tr>\n",
       "    <tr>\n",
       "      <th>2</th>\n",
       "      <td>0</td>\n",
       "      <td>hey man  i m really not try to edit war  it s ...</td>\n",
       "    </tr>\n",
       "    <tr>\n",
       "      <th>3</th>\n",
       "      <td>0</td>\n",
       "      <td>more i ca nt make any real suggestion on impr...</td>\n",
       "    </tr>\n",
       "    <tr>\n",
       "      <th>4</th>\n",
       "      <td>0</td>\n",
       "      <td>you  sir  be my hero  any chance you remember ...</td>\n",
       "    </tr>\n",
       "  </tbody>\n",
       "</table>\n",
       "</div>"
      ],
      "text/plain": [
       "   toxic                                          lemm_text\n",
       "0      0  explanation why the edits make under my userna...\n",
       "1      0  daww  he match this background colour i m seem...\n",
       "2      0  hey man  i m really not try to edit war  it s ...\n",
       "3      0   more i ca nt make any real suggestion on impr...\n",
       "4      0  you  sir  be my hero  any chance you remember ..."
      ]
     },
     "execution_count": 16,
     "metadata": {},
     "output_type": "execute_result"
    }
   ],
   "source": [
    "lemm_df = comments.drop(['text'], axis=1)\n",
    "lemm_df.head()"
   ]
  },
  {
   "cell_type": "markdown",
   "id": "5debccf6",
   "metadata": {},
   "source": [
    "После очищения и лемматизации текстов еще раз проверим на наличие дубликатов."
   ]
  },
  {
   "cell_type": "code",
   "execution_count": 17,
   "id": "f35f5405",
   "metadata": {},
   "outputs": [
    {
     "data": {
      "text/plain": [
       "650"
      ]
     },
     "execution_count": 17,
     "metadata": {},
     "output_type": "execute_result"
    }
   ],
   "source": [
    "lemm_df.duplicated().sum()"
   ]
  },
  {
   "cell_type": "markdown",
   "id": "3d296a5c",
   "metadata": {},
   "source": [
    "Избавляемся от дубликатов."
   ]
  },
  {
   "cell_type": "code",
   "execution_count": 18,
   "id": "9d8b80a3",
   "metadata": {},
   "outputs": [
    {
     "data": {
      "text/plain": [
       "0"
      ]
     },
     "execution_count": 18,
     "metadata": {},
     "output_type": "execute_result"
    }
   ],
   "source": [
    "lemm_df = lemm_df.drop_duplicates()\n",
    "lemm_df.duplicated().sum()"
   ]
  },
  {
   "cell_type": "markdown",
   "id": "f028b63f",
   "metadata": {},
   "source": [
    "**Вывод:** проведена лемматизация, тексты очищены от знаков препинания и стоп-слов, найдены и удалены дубликаты."
   ]
  },
  {
   "cell_type": "markdown",
   "id": "dba62e7a",
   "metadata": {},
   "source": [
    "<a id='model'></a>\n",
    "## Обучение моделей\n",
    "\n",
    "Подготовим данные: разобьем их на выборки."
   ]
  },
  {
   "cell_type": "code",
   "execution_count": 19,
   "id": "8896ba1b",
   "metadata": {},
   "outputs": [
    {
     "data": {
      "text/plain": [
       "((118981,), (39661,))"
      ]
     },
     "execution_count": 19,
     "metadata": {},
     "output_type": "execute_result"
    }
   ],
   "source": [
    "X = lemm_df['lemm_text']\n",
    "y = lemm_df['toxic']\n",
    "X_train, X_test, y_train, y_test = train_test_split(\n",
    "    X,\n",
    "    y,\n",
    "    test_size=TEST_SIZE,\n",
    "    stratify=y,\n",
    "    random_state=RANDOM_STATE)\n",
    "\n",
    "X_train.shape, X_test.shape"
   ]
  },
  {
   "cell_type": "markdown",
   "id": "81690536",
   "metadata": {},
   "source": [
    "Переведем тексты в векторы."
   ]
  },
  {
   "cell_type": "code",
   "execution_count": 24,
   "id": "8b2766f9",
   "metadata": {},
   "outputs": [],
   "source": [
    "pipeline = Pipeline(\n",
    "    [\n",
    "        ('vect', TfidfVectorizer(stop_words=stopwords)),\n",
    "        ('models', LogisticRegression(\n",
    "            solver='liblinear', \n",
    "            random_state = RANDOM_STATE)\n",
    "        ),\n",
    "    ]\n",
    ")"
   ]
  },
  {
   "cell_type": "markdown",
   "id": "632c2ff7",
   "metadata": {},
   "source": [
    "Создаем словарь с гиперпараметрами для моделей и обучаем модели."
   ]
  },
  {
   "cell_type": "code",
   "execution_count": 25,
   "id": "8c02c084",
   "metadata": {
    "scrolled": false
   },
   "outputs": [],
   "source": [
    "param_grid = [\n",
    "    # словарь для модели DecisionTreeClassifier()\n",
    "   {\n",
    "       'models': [DecisionTreeClassifier(random_state=RANDOM_STATE)],\n",
    "       'models__max_depth': range(2, 10)\n",
    "   },\n",
    "    # словарь для модели LogisticRegression()\n",
    "    {\n",
    "        'models': [LogisticRegression(\n",
    "            random_state=RANDOM_STATE,\n",
    "            solver='liblinear'\n",
    "        )],  \n",
    "        'models__penalty': ('l1', 'l2'),\n",
    "        'models__C': list(range(5, 10, 1))\n",
    "    },\n",
    "    \n",
    "]"
   ]
  },
  {
   "cell_type": "code",
   "execution_count": 26,
   "id": "e43f4274",
   "metadata": {
    "scrolled": true
   },
   "outputs": [
    {
     "name": "stdout",
     "output_type": "stream",
     "text": [
      "Модель и лучшие параметры:\n",
      "\n",
      " Pipeline(steps=[('vect',\n",
      "                 TfidfVectorizer(stop_words=['whom', 'an', 'y', 'by', 'once',\n",
      "                                             \"shan't\", 'just', 'they', 'then',\n",
      "                                             'your', 'his', 'ours', 'will',\n",
      "                                             'until', 'out', \"she's\", \"won't\",\n",
      "                                             \"weren't\", 'own', 'hers', 'to',\n",
      "                                             'ma', \"haven't\", 'should', 'why',\n",
      "                                             'yours', 'ain', 'this', 'too',\n",
      "                                             'because', ...])),\n",
      "                ('models',\n",
      "                 LogisticRegression(C=6, penalty='l1', random_state=52,\n",
      "                                    solver='liblinear'))])\n",
      "Метрика F1: 0.768479935022879\n"
     ]
    }
   ],
   "source": [
    "rs_model = RandomizedSearchCV(\n",
    "    pipeline,\n",
    "    param_grid,\n",
    "    cv = 5,\n",
    "    n_iter=5,\n",
    "    scoring = 'f1',\n",
    "    error_score='raise',\n",
    "    random_state = RANDOM_STATE,\n",
    "    n_jobs = -1\n",
    ")\n",
    "\n",
    "    \n",
    "rs_model.fit(X_train, y_train)\n",
    "\n",
    "print('Модель и лучшие параметры:\\n\\n', rs_model.best_estimator_)\n",
    "print ('Метрика F1:', rs_model.best_score_)"
   ]
  },
  {
   "cell_type": "markdown",
   "id": "db800919",
   "metadata": {},
   "source": [
    "Лучшая модель - **LogisticRegression** с параметрами `C=6`, `penalty='l1'`. Метрика F1 при кросс-валидации равна 0.77, что соответствует поставленным критериям.\n",
    "\n",
    "Проверим метрику лучшей модели на тестовой выборке."
   ]
  },
  {
   "cell_type": "code",
   "execution_count": 27,
   "id": "80863228",
   "metadata": {},
   "outputs": [
    {
     "name": "stdout",
     "output_type": "stream",
     "text": [
      "Метрика F1: 0.77518327450448\n"
     ]
    }
   ],
   "source": [
    "preds = rs_model.predict(X_test)\n",
    "print('Метрика F1:', f1_score(y_test, preds))"
   ]
  },
  {
   "cell_type": "markdown",
   "id": "705fb41a",
   "metadata": {},
   "source": [
    "Метрика на тестовой выборке равна 0.78.\n",
    "\n",
    "Посмотрим на разные пороги."
   ]
  },
  {
   "cell_type": "code",
   "execution_count": 98,
   "id": "5548b4a0",
   "metadata": {},
   "outputs": [
    {
     "name": "stdout",
     "output_type": "stream",
     "text": [
      "F1, thresh 0.41: 0.7791217459900079\n",
      "F1, thresh 0.61: 0.7692307692307693\n",
      "F1, thresh 0.46: 0.7794019042510393\n",
      "F1, thresh 0.36: 0.7787816210635002\n"
     ]
    }
   ],
   "source": [
    "def get_thresh(THRESHOLD):\n",
    "    preds = np.where(rs_model.predict_proba(X_test)[:,1] > THRESHOLD, 1, 0)\n",
    "    f1 = f1_score(y_test, preds)\n",
    "    print('F1, thresh {}: {}'.format(THRESHOLD, f1))\n",
    "\n",
    "\n",
    "get_thresh(0.41)\n",
    "get_thresh(0.61)\n",
    "get_thresh(0.46)\n",
    "get_thresh(0.36)"
   ]
  },
  {
   "cell_type": "markdown",
   "id": "34fdad30",
   "metadata": {},
   "source": [
    "Порог 0.46 улучшает значение метрики на 0.0042 пункта."
   ]
  },
  {
   "cell_type": "markdown",
   "id": "0e68394c",
   "metadata": {},
   "source": [
    "<a id='fin'></a>\n",
    "## Общие выводы\n",
    "\n",
    "**Цели проекта выполнены:** \n",
    "- Загружен датафрейм и выполнена обработка данных.\n",
    "- Подготовлены выборки для обучения моделей.\n",
    "- Обучены разные модели и подобраны гиперпараметры.\n",
    "- Найдена лучшая модель предсказания негативного оттенка комментраиев, метрика F1 которой равна не меньше 0.75.\n",
    "\n",
    "**Исходные данные:**\n",
    "Данные из файлеа `toxic_comments.csv`.\n",
    "- Столбец `text` - текст комментария.\n",
    "- `toxic` - целевой признак."
   ]
  },
  {
   "cell_type": "markdown",
   "id": "3611af7e",
   "metadata": {},
   "source": [
    "**В ходе выполнения работы проделаны следующие шаги:**\n",
    "- Загружены и проверены соответствия данных в датафреймах;\n",
    "- Индексы установлены по порядку возрастания без пропусков;\n",
    "- Проверено наличие дубликатов и пропусков (отсутствуют);\n",
    "- Проведена лемматизация текста, удалены неинформативные символы;\n",
    "- Данные разбиты на тренировочную и обучающую выборки;\n",
    "- Тексты приведены к векторному представлению;\n",
    "- Обучены модели (`LinearRegression`, `DecisionTree`)\n",
    "- Найдена лучшая модель:\n",
    "    - Лучшей моделью является **LinearRegression** с параметрами `C=6`, `penalty='l1'`. Метрика модели соответсвует критериям заказчика (*значение на тестовой выборке F1 не меньше 0.75*) и дает следующие результаты:\n",
    "        - Метрика **F1** на тренировочной выборке: 0.77\n",
    "        - Метрика **F1** на тестовой выбборке: 0.78  "
   ]
  },
  {
   "cell_type": "markdown",
   "id": "654688ad",
   "metadata": {},
   "source": [
    "[Наверх][1]\n",
    "\n",
    "[1]:#task"
   ]
  }
 ],
 "metadata": {
  "kernelspec": {
   "display_name": "Python 3 (ipykernel)",
   "language": "python",
   "name": "python3"
  },
  "language_info": {
   "codemirror_mode": {
    "name": "ipython",
    "version": 3
   },
   "file_extension": ".py",
   "mimetype": "text/x-python",
   "name": "python",
   "nbconvert_exporter": "python",
   "pygments_lexer": "ipython3",
   "version": "3.9.18"
  },
  "toc": {
   "base_numbering": 1,
   "nav_menu": {},
   "number_sections": true,
   "sideBar": true,
   "skip_h1_title": true,
   "title_cell": "Table of Contents",
   "title_sidebar": "Contents",
   "toc_cell": false,
   "toc_position": {},
   "toc_section_display": true,
   "toc_window_display": false
  },
  "varInspector": {
   "cols": {
    "lenName": 16,
    "lenType": 16,
    "lenVar": 40
   },
   "kernels_config": {
    "python": {
     "delete_cmd_postfix": "",
     "delete_cmd_prefix": "del ",
     "library": "var_list.py",
     "varRefreshCmd": "print(var_dic_list())"
    },
    "r": {
     "delete_cmd_postfix": ") ",
     "delete_cmd_prefix": "rm(",
     "library": "var_list.r",
     "varRefreshCmd": "cat(var_dic_list()) "
    }
   },
   "types_to_exclude": [
    "module",
    "function",
    "builtin_function_or_method",
    "instance",
    "_Feature"
   ],
   "window_display": false
  }
 },
 "nbformat": 4,
 "nbformat_minor": 5
}
