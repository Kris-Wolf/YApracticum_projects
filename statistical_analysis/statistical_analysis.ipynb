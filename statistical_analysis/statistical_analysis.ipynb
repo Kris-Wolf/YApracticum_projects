{
 "cells": [
  {
   "cell_type": "markdown",
   "id": "3cf775a8",
   "metadata": {},
   "source": [
    "# Статистический анализ данных"
   ]
  },
  {
   "cell_type": "markdown",
   "id": "719c9067",
   "metadata": {},
   "source": [
    "<a id=\"task\"></a>\n",
    "## Постановка задачи"
   ]
  },
  {
   "cell_type": "markdown",
   "id": "a9cbd327",
   "metadata": {},
   "source": [
    "Тема проекта: \"Статистический анализ данных сервиса аренды самокатов GoFast\"."
   ]
  },
  {
   "cell_type": "markdown",
   "id": "2e6fceec",
   "metadata": {},
   "source": [
    "### Назначение"
   ]
  },
  {
   "cell_type": "markdown",
   "id": "314e03a1",
   "metadata": {},
   "source": [
    "**Цель:** Проанализировать данные и проверить гипотезы, которые могут помочь бизнесу вырасти."
   ]
  },
  {
   "cell_type": "markdown",
   "id": "d6bb5ca6",
   "metadata": {},
   "source": [
    "### Структура проекта"
   ]
  },
  {
   "cell_type": "markdown",
   "id": "671d2e87",
   "metadata": {},
   "source": [
    "1. [Постановка задачи][1]\n",
    "    1. Назначение\n",
    "    2. Структура проекта\n",
    "    3. Описание данных\n",
    "        1. Пользователи\n",
    "        2. Поездки\n",
    "        3. Подписки\n",
    "2. [Общая информация о данных][2]\n",
    "    1. [Загрузка данных][2.1]\n",
    "    2. [Изучение общей информации][2.2]\n",
    "3. [Предобработка данных][3]\n",
    "    1. [Изменение типа данных][3.1]\n",
    "    2. [Новый столбец с номером месяца][3.2]\n",
    "    3. [Дубликаты и пропуски][3.3]\n",
    "4. [Исследовательский анализ данных][4]\n",
    "    1. [Частота встречаемости городов][4.1]\n",
    "    2. [Соотношение пользователей с подпиской и без подписки][4.2]\n",
    "    3. [Возраст пользователей][4.3]\n",
    "    4. [Расстояние, которое пользователь преодолел за одну поездку][4.4]\n",
    "    5. [Продолжительность поездок][4.5]\n",
    "5. [Объединение данных][5]\n",
    "    1. [Объединение данные о пользователях, поездках и подписках в один датафрейм][5.1]\n",
    "    2. [Дополнительные датафреймы с подписками][5.2]\n",
    "    3. [Визуализация расстояния и времени поездок для датафреймов с подписками][5.3]\n",
    "6. [Подсчёт выручки][6]\n",
    "7. [Проверка гипотез][7]\n",
    "8. [Распределения][8]\n",
    "9. [Общие выводы][9]\n",
    "\n",
    "[1]:#task\n",
    "[2]:#general\n",
    "[2.1]:#load\n",
    "[2.2]:#info\n",
    "[3]:#preprocess\n",
    "[3.1]:#type\n",
    "[3.2]:#column\n",
    "[3.3]:#dupl\n",
    "[4]:#research\n",
    "[4.1]:#cities\n",
    "[4.2]:#subs_rel\n",
    "[4.3]:#age\n",
    "[4.4]:#dist\n",
    "[4.5]:#dur\n",
    "[5]:#merge\n",
    "[5.1]:#join_all\n",
    "[5.2]:#sub_df\n",
    "[5.3]:#visual\n",
    "[6]:#count\n",
    "[7]:#hypo\n",
    "[8]:#distrib\n",
    "[9]:#fin"
   ]
  },
  {
   "cell_type": "markdown",
   "id": "eb20e657",
   "metadata": {},
   "source": [
    "### Описание данных"
   ]
  },
  {
   "cell_type": "markdown",
   "id": "5c4d1abd",
   "metadata": {},
   "source": [
    "Чтобы совершать поездки по городу, пользователи сервиса GoFast пользуются мобильным приложением. Сервисом можно пользоваться:\n",
    "- без подписки\n",
    "    - абонентская плата отсутствует;\n",
    "    - стоимость одной минуты поездки — 8 рублей;\n",
    "    - стоимость старта (начала поездки) — 50 рублей;\n",
    "- с подпиской Ultra\n",
    "    - абонентская плата — 199 рублей в месяц;\n",
    "    - стоимость одной минуты поездки — 6 рублей;\n",
    "    - стоимость старта — бесплатно."
   ]
  },
  {
   "cell_type": "markdown",
   "id": "33c523c7",
   "metadata": {},
   "source": [
    "В основных данных есть информация о пользователях, их поездках и подписках."
   ]
  },
  {
   "cell_type": "markdown",
   "id": "fc59a6cf",
   "metadata": {},
   "source": [
    "#### Пользователи -  users_go.csv"
   ]
  },
  {
   "cell_type": "markdown",
   "id": "53ee3fbc",
   "metadata": {},
   "source": [
    "- user_id: уникальный идентификатор пользователя\n",
    "- name:\tимя пользователя\n",
    "- age: возраст\n",
    "- city:\tгород\n",
    "- subscription_type: тип подписки (free, ultra)"
   ]
  },
  {
   "cell_type": "markdown",
   "id": "7fed4eae",
   "metadata": {},
   "source": [
    "#### Поездки - rides_go.csv"
   ]
  },
  {
   "cell_type": "markdown",
   "id": "bed9dae2",
   "metadata": {},
   "source": [
    "- user_id: уникальный идентификатор пользователя\n",
    "- distance: расстояние, которое пользователь проехал в текущей сессии (в метрах)\n",
    "- duration: продолжительность сессии (в минутах) — время с того момента, как пользователь нажал кнопку «Начать поездку» до момента, как он нажал кнопку «Завершить поездку»\n",
    "- date: дата совершения поездки"
   ]
  },
  {
   "cell_type": "markdown",
   "id": "ef26dc1a",
   "metadata": {},
   "source": [
    "#### Подписки - subscriptions_go.csv"
   ]
  },
  {
   "cell_type": "markdown",
   "id": "741e9e9b",
   "metadata": {},
   "source": [
    "- subscription_type: тип подписки\n",
    "- minute_price: стоимость одной минуты поездки по данной подписке\n",
    "- start_ride_price: стоимость начала поездки\n",
    "- subscription_fee: стоимость ежемесячного платежа"
   ]
  },
  {
   "cell_type": "markdown",
   "id": "9feafbcc",
   "metadata": {},
   "source": [
    "<a id=\"general\"></a>\n",
    "## Общая информация о данных"
   ]
  },
  {
   "cell_type": "markdown",
   "id": "7241b84f",
   "metadata": {},
   "source": [
    "<a id=\"load\"></a>\n",
    "### Загрузка данных"
   ]
  },
  {
   "cell_type": "markdown",
   "id": "35d29c1f",
   "metadata": {},
   "source": [
    "Импортируем необходимые библиотеки."
   ]
  },
  {
   "cell_type": "code",
   "execution_count": 1,
   "id": "cc5dd403",
   "metadata": {},
   "outputs": [],
   "source": [
    "import pandas as pd\n",
    "from math import sqrt, factorial\n",
    "import matplotlib.pyplot as plt\n",
    "#игнорируем предупреждение\n",
    "import warnings\n",
    "warnings.simplefilter(\"ignore\", UserWarning)\n",
    "import numpy as np\n",
    "from scipy import stats as st\n",
    "from scipy.stats import binom, poisson, norm"
   ]
  },
  {
   "cell_type": "markdown",
   "id": "aacfc72a",
   "metadata": {},
   "source": [
    "Считываем файлы и сохраняем в датафреймы."
   ]
  },
  {
   "cell_type": "code",
   "execution_count": 2,
   "id": "b5d58b18",
   "metadata": {},
   "outputs": [],
   "source": [
    "try:\n",
    "    data_users = pd.read_csv('/datasets/users_go.csv', sep=',')\n",
    "    data_rides = pd.read_csv('/datasets/rides_go.csv', sep=',')\n",
    "    data_subs = pd.read_csv('/datasets/subscriptions_go.csv', sep=',')\n",
    "except:\n",
    "    data_users = pd.read_csv('/users_go.csv', sep=',')\n",
    "    data_rides = pd.read_csv('/rides_go.csv', sep=',')\n",
    "    data_subs = pd.read_csv('/subscriptions_go.csv', sep=',')"
   ]
  },
  {
   "cell_type": "markdown",
   "id": "99495321",
   "metadata": {},
   "source": [
    "<a id=\"info\"></a>\n",
    "### Изучение общей информации"
   ]
  },
  {
   "cell_type": "markdown",
   "id": "24368acb",
   "metadata": {},
   "source": [
    "#### Пользователи"
   ]
  },
  {
   "cell_type": "markdown",
   "id": "ff971866",
   "metadata": {},
   "source": [
    "Выводим первые 10 строк датафрейма с информацией о пользователях."
   ]
  },
  {
   "cell_type": "code",
   "execution_count": 3,
   "id": "0eae2213",
   "metadata": {},
   "outputs": [
    {
     "data": {
      "text/html": [
       "<div>\n",
       "<style scoped>\n",
       "    .dataframe tbody tr th:only-of-type {\n",
       "        vertical-align: middle;\n",
       "    }\n",
       "\n",
       "    .dataframe tbody tr th {\n",
       "        vertical-align: top;\n",
       "    }\n",
       "\n",
       "    .dataframe thead th {\n",
       "        text-align: right;\n",
       "    }\n",
       "</style>\n",
       "<table border=\"1\" class=\"dataframe\">\n",
       "  <thead>\n",
       "    <tr style=\"text-align: right;\">\n",
       "      <th></th>\n",
       "      <th>user_id</th>\n",
       "      <th>name</th>\n",
       "      <th>age</th>\n",
       "      <th>city</th>\n",
       "      <th>subscription_type</th>\n",
       "    </tr>\n",
       "  </thead>\n",
       "  <tbody>\n",
       "    <tr>\n",
       "      <th>0</th>\n",
       "      <td>1</td>\n",
       "      <td>Кира</td>\n",
       "      <td>22</td>\n",
       "      <td>Тюмень</td>\n",
       "      <td>ultra</td>\n",
       "    </tr>\n",
       "    <tr>\n",
       "      <th>1</th>\n",
       "      <td>2</td>\n",
       "      <td>Станислав</td>\n",
       "      <td>31</td>\n",
       "      <td>Омск</td>\n",
       "      <td>ultra</td>\n",
       "    </tr>\n",
       "    <tr>\n",
       "      <th>2</th>\n",
       "      <td>3</td>\n",
       "      <td>Алексей</td>\n",
       "      <td>20</td>\n",
       "      <td>Москва</td>\n",
       "      <td>ultra</td>\n",
       "    </tr>\n",
       "    <tr>\n",
       "      <th>3</th>\n",
       "      <td>4</td>\n",
       "      <td>Константин</td>\n",
       "      <td>26</td>\n",
       "      <td>Ростов-на-Дону</td>\n",
       "      <td>ultra</td>\n",
       "    </tr>\n",
       "    <tr>\n",
       "      <th>4</th>\n",
       "      <td>5</td>\n",
       "      <td>Адель</td>\n",
       "      <td>28</td>\n",
       "      <td>Омск</td>\n",
       "      <td>ultra</td>\n",
       "    </tr>\n",
       "    <tr>\n",
       "      <th>5</th>\n",
       "      <td>6</td>\n",
       "      <td>Регина</td>\n",
       "      <td>25</td>\n",
       "      <td>Краснодар</td>\n",
       "      <td>ultra</td>\n",
       "    </tr>\n",
       "    <tr>\n",
       "      <th>6</th>\n",
       "      <td>7</td>\n",
       "      <td>Игорь</td>\n",
       "      <td>23</td>\n",
       "      <td>Омск</td>\n",
       "      <td>ultra</td>\n",
       "    </tr>\n",
       "    <tr>\n",
       "      <th>7</th>\n",
       "      <td>8</td>\n",
       "      <td>Юрий</td>\n",
       "      <td>23</td>\n",
       "      <td>Краснодар</td>\n",
       "      <td>ultra</td>\n",
       "    </tr>\n",
       "    <tr>\n",
       "      <th>8</th>\n",
       "      <td>9</td>\n",
       "      <td>Ян</td>\n",
       "      <td>21</td>\n",
       "      <td>Пятигорск</td>\n",
       "      <td>ultra</td>\n",
       "    </tr>\n",
       "    <tr>\n",
       "      <th>9</th>\n",
       "      <td>10</td>\n",
       "      <td>Валерий</td>\n",
       "      <td>18</td>\n",
       "      <td>Екатеринбург</td>\n",
       "      <td>ultra</td>\n",
       "    </tr>\n",
       "  </tbody>\n",
       "</table>\n",
       "</div>"
      ],
      "text/plain": [
       "   user_id        name  age            city subscription_type\n",
       "0        1        Кира   22          Тюмень             ultra\n",
       "1        2   Станислав   31            Омск             ultra\n",
       "2        3     Алексей   20          Москва             ultra\n",
       "3        4  Константин   26  Ростов-на-Дону             ultra\n",
       "4        5       Адель   28            Омск             ultra\n",
       "5        6      Регина   25       Краснодар             ultra\n",
       "6        7       Игорь   23            Омск             ultra\n",
       "7        8        Юрий   23       Краснодар             ultra\n",
       "8        9          Ян   21       Пятигорск             ultra\n",
       "9       10     Валерий   18    Екатеринбург             ultra"
      ]
     },
     "execution_count": 3,
     "metadata": {},
     "output_type": "execute_result"
    }
   ],
   "source": [
    "data_users.head(10)"
   ]
  },
  {
   "cell_type": "markdown",
   "id": "51b31396",
   "metadata": {},
   "source": [
    "Выводим основную информацию о датафрейме."
   ]
  },
  {
   "cell_type": "code",
   "execution_count": 4,
   "id": "3756e372",
   "metadata": {},
   "outputs": [
    {
     "name": "stdout",
     "output_type": "stream",
     "text": [
      "<class 'pandas.core.frame.DataFrame'>\n",
      "RangeIndex: 1565 entries, 0 to 1564\n",
      "Data columns (total 5 columns):\n",
      " #   Column             Non-Null Count  Dtype \n",
      "---  ------             --------------  ----- \n",
      " 0   user_id            1565 non-null   int64 \n",
      " 1   name               1565 non-null   object\n",
      " 2   age                1565 non-null   int64 \n",
      " 3   city               1565 non-null   object\n",
      " 4   subscription_type  1565 non-null   object\n",
      "dtypes: int64(2), object(3)\n",
      "memory usage: 61.3+ KB\n"
     ]
    }
   ],
   "source": [
    "data_users.info()"
   ]
  },
  {
   "cell_type": "markdown",
   "id": "90946126",
   "metadata": {},
   "source": [
    "Все типы данных в датафрейме `data_users` - правильные, пропусков нет, всего - 1565 записей."
   ]
  },
  {
   "cell_type": "markdown",
   "id": "f01fd9da",
   "metadata": {},
   "source": [
    "#### Поездки"
   ]
  },
  {
   "cell_type": "markdown",
   "id": "e095ed54",
   "metadata": {},
   "source": [
    "Выводим первые 10 строк датафрейма с информацией о поездках."
   ]
  },
  {
   "cell_type": "code",
   "execution_count": 5,
   "id": "3e899f62",
   "metadata": {},
   "outputs": [
    {
     "data": {
      "text/html": [
       "<div>\n",
       "<style scoped>\n",
       "    .dataframe tbody tr th:only-of-type {\n",
       "        vertical-align: middle;\n",
       "    }\n",
       "\n",
       "    .dataframe tbody tr th {\n",
       "        vertical-align: top;\n",
       "    }\n",
       "\n",
       "    .dataframe thead th {\n",
       "        text-align: right;\n",
       "    }\n",
       "</style>\n",
       "<table border=\"1\" class=\"dataframe\">\n",
       "  <thead>\n",
       "    <tr style=\"text-align: right;\">\n",
       "      <th></th>\n",
       "      <th>user_id</th>\n",
       "      <th>distance</th>\n",
       "      <th>duration</th>\n",
       "      <th>date</th>\n",
       "    </tr>\n",
       "  </thead>\n",
       "  <tbody>\n",
       "    <tr>\n",
       "      <th>0</th>\n",
       "      <td>1</td>\n",
       "      <td>4409.919140</td>\n",
       "      <td>25.599769</td>\n",
       "      <td>2021-01-01</td>\n",
       "    </tr>\n",
       "    <tr>\n",
       "      <th>1</th>\n",
       "      <td>1</td>\n",
       "      <td>2617.592153</td>\n",
       "      <td>15.816871</td>\n",
       "      <td>2021-01-18</td>\n",
       "    </tr>\n",
       "    <tr>\n",
       "      <th>2</th>\n",
       "      <td>1</td>\n",
       "      <td>754.159807</td>\n",
       "      <td>6.232113</td>\n",
       "      <td>2021-04-20</td>\n",
       "    </tr>\n",
       "    <tr>\n",
       "      <th>3</th>\n",
       "      <td>1</td>\n",
       "      <td>2694.783254</td>\n",
       "      <td>18.511000</td>\n",
       "      <td>2021-08-11</td>\n",
       "    </tr>\n",
       "    <tr>\n",
       "      <th>4</th>\n",
       "      <td>1</td>\n",
       "      <td>4028.687306</td>\n",
       "      <td>26.265803</td>\n",
       "      <td>2021-08-28</td>\n",
       "    </tr>\n",
       "    <tr>\n",
       "      <th>5</th>\n",
       "      <td>1</td>\n",
       "      <td>2770.890808</td>\n",
       "      <td>16.650138</td>\n",
       "      <td>2021-10-09</td>\n",
       "    </tr>\n",
       "    <tr>\n",
       "      <th>6</th>\n",
       "      <td>1</td>\n",
       "      <td>3039.020292</td>\n",
       "      <td>14.927879</td>\n",
       "      <td>2021-10-19</td>\n",
       "    </tr>\n",
       "    <tr>\n",
       "      <th>7</th>\n",
       "      <td>1</td>\n",
       "      <td>2842.118050</td>\n",
       "      <td>23.117468</td>\n",
       "      <td>2021-11-06</td>\n",
       "    </tr>\n",
       "    <tr>\n",
       "      <th>8</th>\n",
       "      <td>1</td>\n",
       "      <td>3412.690668</td>\n",
       "      <td>15.238072</td>\n",
       "      <td>2021-11-14</td>\n",
       "    </tr>\n",
       "    <tr>\n",
       "      <th>9</th>\n",
       "      <td>1</td>\n",
       "      <td>748.690645</td>\n",
       "      <td>15.041884</td>\n",
       "      <td>2021-11-22</td>\n",
       "    </tr>\n",
       "  </tbody>\n",
       "</table>\n",
       "</div>"
      ],
      "text/plain": [
       "   user_id     distance   duration        date\n",
       "0        1  4409.919140  25.599769  2021-01-01\n",
       "1        1  2617.592153  15.816871  2021-01-18\n",
       "2        1   754.159807   6.232113  2021-04-20\n",
       "3        1  2694.783254  18.511000  2021-08-11\n",
       "4        1  4028.687306  26.265803  2021-08-28\n",
       "5        1  2770.890808  16.650138  2021-10-09\n",
       "6        1  3039.020292  14.927879  2021-10-19\n",
       "7        1  2842.118050  23.117468  2021-11-06\n",
       "8        1  3412.690668  15.238072  2021-11-14\n",
       "9        1   748.690645  15.041884  2021-11-22"
      ]
     },
     "execution_count": 5,
     "metadata": {},
     "output_type": "execute_result"
    }
   ],
   "source": [
    "data_rides.head(10)"
   ]
  },
  {
   "cell_type": "markdown",
   "id": "523ccc49",
   "metadata": {},
   "source": [
    "Выводим основную информацию о датафрейме."
   ]
  },
  {
   "cell_type": "code",
   "execution_count": 6,
   "id": "eb8f97b8",
   "metadata": {},
   "outputs": [
    {
     "name": "stdout",
     "output_type": "stream",
     "text": [
      "<class 'pandas.core.frame.DataFrame'>\n",
      "RangeIndex: 18068 entries, 0 to 18067\n",
      "Data columns (total 4 columns):\n",
      " #   Column    Non-Null Count  Dtype  \n",
      "---  ------    --------------  -----  \n",
      " 0   user_id   18068 non-null  int64  \n",
      " 1   distance  18068 non-null  float64\n",
      " 2   duration  18068 non-null  float64\n",
      " 3   date      18068 non-null  object \n",
      "dtypes: float64(2), int64(1), object(1)\n",
      "memory usage: 564.8+ KB\n"
     ]
    }
   ],
   "source": [
    "data_rides.info()"
   ]
  },
  {
   "cell_type": "markdown",
   "id": "7f6aa4d6",
   "metadata": {},
   "source": [
    "Столбец `date` будет необходимо перевести в тип данных datetime, пропусков нет, всего 18068 записей в датафрейме."
   ]
  },
  {
   "cell_type": "markdown",
   "id": "7f3924fc",
   "metadata": {},
   "source": [
    "#### Подписки"
   ]
  },
  {
   "cell_type": "markdown",
   "id": "4a2193fe",
   "metadata": {},
   "source": [
    "Выводим строки датафрейма с информацией о подписках."
   ]
  },
  {
   "cell_type": "code",
   "execution_count": 7,
   "id": "f795fd2c",
   "metadata": {},
   "outputs": [
    {
     "data": {
      "text/html": [
       "<div>\n",
       "<style scoped>\n",
       "    .dataframe tbody tr th:only-of-type {\n",
       "        vertical-align: middle;\n",
       "    }\n",
       "\n",
       "    .dataframe tbody tr th {\n",
       "        vertical-align: top;\n",
       "    }\n",
       "\n",
       "    .dataframe thead th {\n",
       "        text-align: right;\n",
       "    }\n",
       "</style>\n",
       "<table border=\"1\" class=\"dataframe\">\n",
       "  <thead>\n",
       "    <tr style=\"text-align: right;\">\n",
       "      <th></th>\n",
       "      <th>subscription_type</th>\n",
       "      <th>minute_price</th>\n",
       "      <th>start_ride_price</th>\n",
       "      <th>subscription_fee</th>\n",
       "    </tr>\n",
       "  </thead>\n",
       "  <tbody>\n",
       "    <tr>\n",
       "      <th>0</th>\n",
       "      <td>free</td>\n",
       "      <td>8</td>\n",
       "      <td>50</td>\n",
       "      <td>0</td>\n",
       "    </tr>\n",
       "    <tr>\n",
       "      <th>1</th>\n",
       "      <td>ultra</td>\n",
       "      <td>6</td>\n",
       "      <td>0</td>\n",
       "      <td>199</td>\n",
       "    </tr>\n",
       "  </tbody>\n",
       "</table>\n",
       "</div>"
      ],
      "text/plain": [
       "  subscription_type  minute_price  start_ride_price  subscription_fee\n",
       "0              free             8                50                 0\n",
       "1             ultra             6                 0               199"
      ]
     },
     "execution_count": 7,
     "metadata": {},
     "output_type": "execute_result"
    }
   ],
   "source": [
    "data_subs.head()"
   ]
  },
  {
   "cell_type": "markdown",
   "id": "7d6505c8",
   "metadata": {},
   "source": [
    "Выводим основную информацию о датафрейме."
   ]
  },
  {
   "cell_type": "code",
   "execution_count": 8,
   "id": "9b46ac75",
   "metadata": {},
   "outputs": [
    {
     "name": "stdout",
     "output_type": "stream",
     "text": [
      "<class 'pandas.core.frame.DataFrame'>\n",
      "RangeIndex: 2 entries, 0 to 1\n",
      "Data columns (total 4 columns):\n",
      " #   Column             Non-Null Count  Dtype \n",
      "---  ------             --------------  ----- \n",
      " 0   subscription_type  2 non-null      object\n",
      " 1   minute_price       2 non-null      int64 \n",
      " 2   start_ride_price   2 non-null      int64 \n",
      " 3   subscription_fee   2 non-null      int64 \n",
      "dtypes: int64(3), object(1)\n",
      "memory usage: 192.0+ bytes\n"
     ]
    }
   ],
   "source": [
    "data_subs.info()"
   ]
  },
  {
   "cell_type": "markdown",
   "id": "ef088c12",
   "metadata": {},
   "source": [
    "Всего есть два типа подписки, типы данных правильные."
   ]
  },
  {
   "cell_type": "markdown",
   "id": "4c6be79f",
   "metadata": {},
   "source": [
    "**Вывод:** \n",
    "- датафрейм `data_users` содержит информацию о пользователях. Типы данных все правильные, пропусков в столбцах нет. Содержит 1565 записей.\n",
    "- датафрейм `data_rides` содержит информацию о поездках. Столбец `date` необходимо привести к типу datetime, пропуски отсутствуют. Всего в датафрейме 18068 записей.\n",
    "- датафрейм `data_subs` содержит информацию о видах подписок. Типы данных правильные, пропусков нет, всего 2 записи."
   ]
  },
  {
   "cell_type": "markdown",
   "id": "35cb6760",
   "metadata": {},
   "source": [
    "<a id=\"preprocess\"></a>\n",
    "## Предобработка данных"
   ]
  },
  {
   "cell_type": "markdown",
   "id": "12695cfb",
   "metadata": {},
   "source": [
    "<a id=\"type\"></a>\n",
    "### Изменение типа данных"
   ]
  },
  {
   "cell_type": "markdown",
   "id": "4e31e609",
   "metadata": {},
   "source": [
    "Приведем столбец `date` датафрейма `data_rides` к типу datetime."
   ]
  },
  {
   "cell_type": "code",
   "execution_count": 9,
   "id": "6964cdfb",
   "metadata": {},
   "outputs": [],
   "source": [
    "data_rides['date'] = pd.to_datetime(data_rides['date'], format='%Y-%m-%d')"
   ]
  },
  {
   "cell_type": "markdown",
   "id": "2e423b09",
   "metadata": {},
   "source": [
    "Проверяем столбец."
   ]
  },
  {
   "cell_type": "code",
   "execution_count": 10,
   "id": "8760395c",
   "metadata": {},
   "outputs": [
    {
     "name": "stdout",
     "output_type": "stream",
     "text": [
      "<class 'pandas.core.frame.DataFrame'>\n",
      "RangeIndex: 18068 entries, 0 to 18067\n",
      "Data columns (total 4 columns):\n",
      " #   Column    Non-Null Count  Dtype         \n",
      "---  ------    --------------  -----         \n",
      " 0   user_id   18068 non-null  int64         \n",
      " 1   distance  18068 non-null  float64       \n",
      " 2   duration  18068 non-null  float64       \n",
      " 3   date      18068 non-null  datetime64[ns]\n",
      "dtypes: datetime64[ns](1), float64(2), int64(1)\n",
      "memory usage: 564.8 KB\n"
     ]
    }
   ],
   "source": [
    "data_rides.info()"
   ]
  },
  {
   "cell_type": "markdown",
   "id": "cfc08aba",
   "metadata": {},
   "source": [
    "<a id=\"column\"></a>\n",
    "### Новый столбец с номером месяца"
   ]
  },
  {
   "cell_type": "markdown",
   "id": "764e638f",
   "metadata": {},
   "source": [
    "Проверим год, за который хранятся данные."
   ]
  },
  {
   "cell_type": "code",
   "execution_count": 11,
   "id": "3f59216c",
   "metadata": {},
   "outputs": [
    {
     "data": {
      "text/plain": [
       "array([2021])"
      ]
     },
     "execution_count": 11,
     "metadata": {},
     "output_type": "execute_result"
    }
   ],
   "source": [
    "data_rides['date'].dt.year.unique()"
   ]
  },
  {
   "cell_type": "markdown",
   "id": "91b4bd8b",
   "metadata": {},
   "source": [
    "В датафрейме поездок есть данные только за 2021 год. Создаем новый столбец с номером месяца."
   ]
  },
  {
   "cell_type": "code",
   "execution_count": 12,
   "id": "d3df6090",
   "metadata": {},
   "outputs": [],
   "source": [
    "data_rides['month'] = data_rides['date'].dt.month"
   ]
  },
  {
   "cell_type": "markdown",
   "id": "e233b1d2",
   "metadata": {},
   "source": [
    "Проверяем."
   ]
  },
  {
   "cell_type": "code",
   "execution_count": 13,
   "id": "b51e0e9a",
   "metadata": {},
   "outputs": [
    {
     "data": {
      "text/html": [
       "<div>\n",
       "<style scoped>\n",
       "    .dataframe tbody tr th:only-of-type {\n",
       "        vertical-align: middle;\n",
       "    }\n",
       "\n",
       "    .dataframe tbody tr th {\n",
       "        vertical-align: top;\n",
       "    }\n",
       "\n",
       "    .dataframe thead th {\n",
       "        text-align: right;\n",
       "    }\n",
       "</style>\n",
       "<table border=\"1\" class=\"dataframe\">\n",
       "  <thead>\n",
       "    <tr style=\"text-align: right;\">\n",
       "      <th></th>\n",
       "      <th>user_id</th>\n",
       "      <th>distance</th>\n",
       "      <th>duration</th>\n",
       "      <th>date</th>\n",
       "      <th>month</th>\n",
       "    </tr>\n",
       "  </thead>\n",
       "  <tbody>\n",
       "    <tr>\n",
       "      <th>0</th>\n",
       "      <td>1</td>\n",
       "      <td>4409.919140</td>\n",
       "      <td>25.599769</td>\n",
       "      <td>2021-01-01</td>\n",
       "      <td>1</td>\n",
       "    </tr>\n",
       "    <tr>\n",
       "      <th>1</th>\n",
       "      <td>1</td>\n",
       "      <td>2617.592153</td>\n",
       "      <td>15.816871</td>\n",
       "      <td>2021-01-18</td>\n",
       "      <td>1</td>\n",
       "    </tr>\n",
       "    <tr>\n",
       "      <th>2</th>\n",
       "      <td>1</td>\n",
       "      <td>754.159807</td>\n",
       "      <td>6.232113</td>\n",
       "      <td>2021-04-20</td>\n",
       "      <td>4</td>\n",
       "    </tr>\n",
       "    <tr>\n",
       "      <th>3</th>\n",
       "      <td>1</td>\n",
       "      <td>2694.783254</td>\n",
       "      <td>18.511000</td>\n",
       "      <td>2021-08-11</td>\n",
       "      <td>8</td>\n",
       "    </tr>\n",
       "    <tr>\n",
       "      <th>4</th>\n",
       "      <td>1</td>\n",
       "      <td>4028.687306</td>\n",
       "      <td>26.265803</td>\n",
       "      <td>2021-08-28</td>\n",
       "      <td>8</td>\n",
       "    </tr>\n",
       "  </tbody>\n",
       "</table>\n",
       "</div>"
      ],
      "text/plain": [
       "   user_id     distance   duration       date  month\n",
       "0        1  4409.919140  25.599769 2021-01-01      1\n",
       "1        1  2617.592153  15.816871 2021-01-18      1\n",
       "2        1   754.159807   6.232113 2021-04-20      4\n",
       "3        1  2694.783254  18.511000 2021-08-11      8\n",
       "4        1  4028.687306  26.265803 2021-08-28      8"
      ]
     },
     "execution_count": 13,
     "metadata": {},
     "output_type": "execute_result"
    }
   ],
   "source": [
    "data_rides.head()"
   ]
  },
  {
   "cell_type": "markdown",
   "id": "cba2d8e8",
   "metadata": {},
   "source": [
    "<a id=\"dupl\"></a>\n",
    "### Дубликаты и пропуски"
   ]
  },
  {
   "cell_type": "markdown",
   "id": "162a9d74",
   "metadata": {},
   "source": [
    "Проверяем наличие пропусков."
   ]
  },
  {
   "cell_type": "code",
   "execution_count": 14,
   "id": "34b35b61",
   "metadata": {
    "scrolled": false
   },
   "outputs": [
    {
     "name": "stdout",
     "output_type": "stream",
     "text": [
      "Таблица пользователей\n",
      "user_id              0\n",
      "name                 0\n",
      "age                  0\n",
      "city                 0\n",
      "subscription_type    0\n",
      "dtype: int64\n",
      "\n",
      "Таблица поездок\n",
      "user_id     0\n",
      "distance    0\n",
      "duration    0\n",
      "date        0\n",
      "month       0\n",
      "dtype: int64\n",
      "\n",
      "Таблица подписок\n",
      "subscription_type    0\n",
      "minute_price         0\n",
      "start_ride_price     0\n",
      "subscription_fee     0\n",
      "dtype: int64\n"
     ]
    }
   ],
   "source": [
    "print('Таблица пользователей')\n",
    "print(data_users.isna().sum())\n",
    "print()\n",
    "print('Таблица поездок')\n",
    "print(data_rides.isna().sum())\n",
    "print()\n",
    "print('Таблица подписок')\n",
    "print(data_subs.isna().sum())"
   ]
  },
  {
   "cell_type": "markdown",
   "id": "45cd45ab",
   "metadata": {},
   "source": [
    "Проверяем наличие явных дубликатов."
   ]
  },
  {
   "cell_type": "code",
   "execution_count": 15,
   "id": "302dd383",
   "metadata": {},
   "outputs": [
    {
     "name": "stdout",
     "output_type": "stream",
     "text": [
      "Кол-во дублей в data_users: 31\n",
      "Кол-во дублей в data_rides: 0\n",
      "Кол-во дублей в data_subs: 0\n"
     ]
    }
   ],
   "source": [
    "print('Кол-во дублей в data_users:', data_users.duplicated().sum())\n",
    "print('Кол-во дублей в data_rides:', data_rides.duplicated().sum())\n",
    "print('Кол-во дублей в data_subs:', data_subs.duplicated().sum())"
   ]
  },
  {
   "cell_type": "markdown",
   "id": "bb0f8bde",
   "metadata": {},
   "source": [
    "Удаляем явные дубликаты в датафрейме `data_users` и сразу проверяем."
   ]
  },
  {
   "cell_type": "code",
   "execution_count": 16,
   "id": "c2ddbcac",
   "metadata": {},
   "outputs": [
    {
     "name": "stdout",
     "output_type": "stream",
     "text": [
      "Кол-во дублей в data_users: 0\n"
     ]
    }
   ],
   "source": [
    "data_users = data_users.drop_duplicates().reset_index(drop=True)\n",
    "print('Кол-во дублей в data_users:', data_users.duplicated().sum())"
   ]
  },
  {
   "cell_type": "markdown",
   "id": "751d1859",
   "metadata": {},
   "source": [
    "Проверим на наличие неявных дубликатов в столбце `city` датафрейма `data_users`."
   ]
  },
  {
   "cell_type": "code",
   "execution_count": 17,
   "id": "43762fcc",
   "metadata": {},
   "outputs": [
    {
     "name": "stdout",
     "output_type": "stream",
     "text": [
      "Всего уникальных значений городов: 8\n"
     ]
    }
   ],
   "source": [
    "print('Всего уникальных значений городов:', len(data_users['city'].unique()))"
   ]
  },
  {
   "cell_type": "code",
   "execution_count": 18,
   "id": "aa45fed6",
   "metadata": {},
   "outputs": [
    {
     "data": {
      "text/plain": [
       "array(['Тюмень', 'Омск', 'Москва', 'Ростов-на-Дону', 'Краснодар',\n",
       "       'Пятигорск', 'Екатеринбург', 'Сочи'], dtype=object)"
      ]
     },
     "execution_count": 18,
     "metadata": {},
     "output_type": "execute_result"
    }
   ],
   "source": [
    "data_users['city'].unique()"
   ]
  },
  {
   "cell_type": "markdown",
   "id": "2f59caa2",
   "metadata": {},
   "source": [
    "Неявные дубликаты отсутствуют."
   ]
  },
  {
   "cell_type": "markdown",
   "id": "3a973a49",
   "metadata": {},
   "source": [
    "**Вывод:** В результате предобработки данных тип данных столбца `date` датафрейма `data_rides` был изменен на тип datetime, также в этот датафрейм добавлен столбец с номером месяца `month`. Удален 31 дубликат в `data_users`. Пропусков и неявных дубликатов не обнаружено."
   ]
  },
  {
   "cell_type": "markdown",
   "id": "c58a697f",
   "metadata": {},
   "source": [
    "<a id=\"research\"></a>\n",
    "## Исследовательский анализ данных"
   ]
  },
  {
   "cell_type": "markdown",
   "id": "515c73a1",
   "metadata": {},
   "source": [
    "<a id=\"cities\"></a>\n",
    "### Частота встречаемости городов"
   ]
  },
  {
   "cell_type": "code",
   "execution_count": 19,
   "id": "b39b4a89",
   "metadata": {},
   "outputs": [
    {
     "data": {
      "text/html": [
       "<div>\n",
       "<style scoped>\n",
       "    .dataframe tbody tr th:only-of-type {\n",
       "        vertical-align: middle;\n",
       "    }\n",
       "\n",
       "    .dataframe tbody tr th {\n",
       "        vertical-align: top;\n",
       "    }\n",
       "\n",
       "    .dataframe thead th {\n",
       "        text-align: right;\n",
       "    }\n",
       "</style>\n",
       "<table border=\"1\" class=\"dataframe\">\n",
       "  <thead>\n",
       "    <tr style=\"text-align: right;\">\n",
       "      <th></th>\n",
       "      <th>user_id</th>\n",
       "    </tr>\n",
       "    <tr>\n",
       "      <th>city</th>\n",
       "      <th></th>\n",
       "    </tr>\n",
       "  </thead>\n",
       "  <tbody>\n",
       "    <tr>\n",
       "      <th>Москва</th>\n",
       "      <td>168</td>\n",
       "    </tr>\n",
       "    <tr>\n",
       "      <th>Тюмень</th>\n",
       "      <td>180</td>\n",
       "    </tr>\n",
       "    <tr>\n",
       "      <th>Омск</th>\n",
       "      <td>183</td>\n",
       "    </tr>\n",
       "    <tr>\n",
       "      <th>Сочи</th>\n",
       "      <td>189</td>\n",
       "    </tr>\n",
       "    <tr>\n",
       "      <th>Краснодар</th>\n",
       "      <td>193</td>\n",
       "    </tr>\n",
       "    <tr>\n",
       "      <th>Ростов-на-Дону</th>\n",
       "      <td>198</td>\n",
       "    </tr>\n",
       "    <tr>\n",
       "      <th>Екатеринбург</th>\n",
       "      <td>204</td>\n",
       "    </tr>\n",
       "    <tr>\n",
       "      <th>Пятигорск</th>\n",
       "      <td>219</td>\n",
       "    </tr>\n",
       "  </tbody>\n",
       "</table>\n",
       "</div>"
      ],
      "text/plain": [
       "                user_id\n",
       "city                   \n",
       "Москва              168\n",
       "Тюмень              180\n",
       "Омск                183\n",
       "Сочи                189\n",
       "Краснодар           193\n",
       "Ростов-на-Дону      198\n",
       "Екатеринбург        204\n",
       "Пятигорск           219"
      ]
     },
     "execution_count": 19,
     "metadata": {},
     "output_type": "execute_result"
    }
   ],
   "source": [
    "user_city = data_users\\\n",
    ".pivot_table(index='city', values='user_id', aggfunc='count')\\\n",
    ".sort_values(by='user_id', ascending=True)\n",
    "user_city"
   ]
  },
  {
   "cell_type": "code",
   "execution_count": 20,
   "id": "27e646d2",
   "metadata": {
    "scrolled": false
   },
   "outputs": [
    {
     "data": {
      "image/png": "[encoded data removed]",
      "text/plain": [
       "<Figure size 792x432 with 1 Axes>"
      ]
     },
     "metadata": {
      "needs_background": "light"
     },
     "output_type": "display_data"
    }
   ],
   "source": [
    "user_city.plot(\n",
    "    kind='barh',\n",
    "    grid=True, \n",
    "    figsize=(11, 6), \n",
    "    title='график частоты встречаемости городов',\n",
    "    legend=None\n",
    ")\n",
    "plt.ylabel('Города')\n",
    "plt.xlabel('Кол-во пользователей')\n",
    "plt.show()"
   ]
  },
  {
   "cell_type": "markdown",
   "id": "402d2cc0",
   "metadata": {},
   "source": [
    "**Вывод:** данные есть по восьми городам. Больше всего пользователей из Пятигорска и Екатеринбурга, меньше всего из Москвы и Тюмени."
   ]
  },
  {
   "cell_type": "markdown",
   "id": "425c5844",
   "metadata": {},
   "source": [
    "<a id=\"subs_rel\"></a>\n",
    "### Соотношение пользователей с подпиской и без подписки"
   ]
  },
  {
   "cell_type": "code",
   "execution_count": 21,
   "id": "19090d16",
   "metadata": {},
   "outputs": [
    {
     "data": {
      "text/html": [
       "<div>\n",
       "<style scoped>\n",
       "    .dataframe tbody tr th:only-of-type {\n",
       "        vertical-align: middle;\n",
       "    }\n",
       "\n",
       "    .dataframe tbody tr th {\n",
       "        vertical-align: top;\n",
       "    }\n",
       "\n",
       "    .dataframe thead th {\n",
       "        text-align: right;\n",
       "    }\n",
       "</style>\n",
       "<table border=\"1\" class=\"dataframe\">\n",
       "  <thead>\n",
       "    <tr style=\"text-align: right;\">\n",
       "      <th></th>\n",
       "      <th>user_id</th>\n",
       "    </tr>\n",
       "    <tr>\n",
       "      <th>subscription_type</th>\n",
       "      <th></th>\n",
       "    </tr>\n",
       "  </thead>\n",
       "  <tbody>\n",
       "    <tr>\n",
       "      <th>ultra</th>\n",
       "      <td>699</td>\n",
       "    </tr>\n",
       "    <tr>\n",
       "      <th>free</th>\n",
       "      <td>835</td>\n",
       "    </tr>\n",
       "  </tbody>\n",
       "</table>\n",
       "</div>"
      ],
      "text/plain": [
       "                   user_id\n",
       "subscription_type         \n",
       "ultra                  699\n",
       "free                   835"
      ]
     },
     "execution_count": 21,
     "metadata": {},
     "output_type": "execute_result"
    }
   ],
   "source": [
    "user_subs = data_users\\\n",
    ".pivot_table(index='subscription_type', values='user_id', aggfunc='count')\\\n",
    ".sort_values(by='user_id', ascending=True)\n",
    "user_subs"
   ]
  },
  {
   "cell_type": "code",
   "execution_count": 22,
   "id": "177e4a4a",
   "metadata": {},
   "outputs": [
    {
     "data": {
      "image/png": "[encoded data removed]",
      "text/plain": [
       "<Figure size 504x360 with 1 Axes>"
      ]
     },
     "metadata": {},
     "output_type": "display_data"
    }
   ],
   "source": [
    "user_subs.plot(\n",
    "    y='user_id', \n",
    "    kind='pie', \n",
    "    autopct='%.2f%%', \n",
    "    figsize=(7,5),\n",
    "    title='Диаграмма соотношения пользователей и подписки'\n",
    ")\n",
    "plt.ylabel('');"
   ]
  },
  {
   "cell_type": "markdown",
   "id": "dfa632f2",
   "metadata": {},
   "source": [
    "**Вывод:** пользователей без подписки больше чем пользователей с подпиской ultra на 8.86 процентных пункта."
   ]
  },
  {
   "cell_type": "markdown",
   "id": "c5efcd4f",
   "metadata": {},
   "source": [
    "<a id=\"age\"></a>\n",
    "### Возраст пользователей"
   ]
  },
  {
   "cell_type": "code",
   "execution_count": 23,
   "id": "74447f59",
   "metadata": {},
   "outputs": [
    {
     "data": {
      "text/html": [
       "<div>\n",
       "<style scoped>\n",
       "    .dataframe tbody tr th:only-of-type {\n",
       "        vertical-align: middle;\n",
       "    }\n",
       "\n",
       "    .dataframe tbody tr th {\n",
       "        vertical-align: top;\n",
       "    }\n",
       "\n",
       "    .dataframe thead th {\n",
       "        text-align: right;\n",
       "    }\n",
       "</style>\n",
       "<table border=\"1\" class=\"dataframe\">\n",
       "  <thead>\n",
       "    <tr style=\"text-align: right;\">\n",
       "      <th></th>\n",
       "      <th>user_id</th>\n",
       "    </tr>\n",
       "    <tr>\n",
       "      <th>age</th>\n",
       "      <th></th>\n",
       "    </tr>\n",
       "  </thead>\n",
       "  <tbody>\n",
       "    <tr>\n",
       "      <th>12</th>\n",
       "      <td>4</td>\n",
       "    </tr>\n",
       "    <tr>\n",
       "      <th>13</th>\n",
       "      <td>8</td>\n",
       "    </tr>\n",
       "    <tr>\n",
       "      <th>14</th>\n",
       "      <td>9</td>\n",
       "    </tr>\n",
       "    <tr>\n",
       "      <th>15</th>\n",
       "      <td>13</td>\n",
       "    </tr>\n",
       "    <tr>\n",
       "      <th>16</th>\n",
       "      <td>19</td>\n",
       "    </tr>\n",
       "    <tr>\n",
       "      <th>17</th>\n",
       "      <td>26</td>\n",
       "    </tr>\n",
       "    <tr>\n",
       "      <th>18</th>\n",
       "      <td>46</td>\n",
       "    </tr>\n",
       "    <tr>\n",
       "      <th>19</th>\n",
       "      <td>47</td>\n",
       "    </tr>\n",
       "    <tr>\n",
       "      <th>20</th>\n",
       "      <td>71</td>\n",
       "    </tr>\n",
       "    <tr>\n",
       "      <th>21</th>\n",
       "      <td>93</td>\n",
       "    </tr>\n",
       "  </tbody>\n",
       "</table>\n",
       "</div>"
      ],
      "text/plain": [
       "     user_id\n",
       "age         \n",
       "12         4\n",
       "13         8\n",
       "14         9\n",
       "15        13\n",
       "16        19\n",
       "17        26\n",
       "18        46\n",
       "19        47\n",
       "20        71\n",
       "21        93"
      ]
     },
     "execution_count": 23,
     "metadata": {},
     "output_type": "execute_result"
    }
   ],
   "source": [
    "user_age = data_users\\\n",
    ".pivot_table(index='age', values='user_id', aggfunc='count')\\\n",
    ".sort_values(by='age', ascending=True)\n",
    "user_age.head(10)"
   ]
  },
  {
   "cell_type": "code",
   "execution_count": 24,
   "id": "59b55ec5",
   "metadata": {},
   "outputs": [
    {
     "data": {
      "image/png": "[encoded data removed]",
      "text/plain": [
       "<Figure size 504x360 with 1 Axes>"
      ]
     },
     "metadata": {
      "needs_background": "light"
     },
     "output_type": "display_data"
    }
   ],
   "source": [
    "user_age.plot(\n",
    "    y='user_id', \n",
    "    kind='bar', \n",
    "    figsize=(7,5),\n",
    "    title='График возраста пользователей',\n",
    "    legend=None\n",
    ")\n",
    "plt.ylabel('Кол-во пользователей')\n",
    "plt.xlabel('Возраст')\n",
    "plt.show()"
   ]
  },
  {
   "cell_type": "code",
   "execution_count": 25,
   "id": "18c6b200",
   "metadata": {},
   "outputs": [
    {
     "data": {
      "text/plain": [
       "count    1534.000000\n",
       "mean       24.903520\n",
       "std         4.572367\n",
       "min        12.000000\n",
       "25%        22.000000\n",
       "50%        25.000000\n",
       "75%        28.000000\n",
       "max        43.000000\n",
       "Name: age, dtype: float64"
      ]
     },
     "execution_count": 25,
     "metadata": {},
     "output_type": "execute_result"
    }
   ],
   "source": [
    "data_users['age'].describe()"
   ]
  },
  {
   "cell_type": "markdown",
   "id": "b63e08fe",
   "metadata": {},
   "source": [
    "**Вывод:** выборка пользователей по возрасту имеет нормальное распределение. Медиана и средний возраст почти одинаковы и равняются 25 годам."
   ]
  },
  {
   "cell_type": "markdown",
   "id": "bd7ee503",
   "metadata": {},
   "source": [
    "<a id='dist'></a>\n",
    "### Расстояние, которое пользователь преодолел за одну поездку"
   ]
  },
  {
   "cell_type": "code",
   "execution_count": 26,
   "id": "6ab43ff5",
   "metadata": {},
   "outputs": [
    {
     "data": {
      "image/png": "[encoded data removed]",
      "text/plain": [
       "<Figure size 432x288 with 1 Axes>"
      ]
     },
     "metadata": {
      "needs_background": "light"
     },
     "output_type": "display_data"
    }
   ],
   "source": [
    "data_rides['distance'].hist(bins=50);\n",
    "plt.title('Гистограмма расстояния одной поездки')\n",
    "plt.ylabel('Кол-во пользователей')\n",
    "plt.xlabel('Расстояние, метры')\n",
    "plt.show()"
   ]
  },
  {
   "cell_type": "code",
   "execution_count": 27,
   "id": "a46dca6b",
   "metadata": {},
   "outputs": [
    {
     "data": {
      "text/plain": [
       "count    18068.000000\n",
       "mean      3070.659976\n",
       "std       1116.831209\n",
       "min          0.855683\n",
       "25%       2543.226360\n",
       "50%       3133.609994\n",
       "75%       3776.222735\n",
       "max       7211.007745\n",
       "Name: distance, dtype: float64"
      ]
     },
     "execution_count": 27,
     "metadata": {},
     "output_type": "execute_result"
    }
   ],
   "source": [
    "data_rides['distance'].describe()"
   ]
  },
  {
   "cell_type": "code",
   "execution_count": 28,
   "id": "9bb976ca",
   "metadata": {
    "scrolled": false
   },
   "outputs": [
    {
     "data": {
      "text/html": [
       "<div>\n",
       "<style scoped>\n",
       "    .dataframe tbody tr th:only-of-type {\n",
       "        vertical-align: middle;\n",
       "    }\n",
       "\n",
       "    .dataframe tbody tr th {\n",
       "        vertical-align: top;\n",
       "    }\n",
       "\n",
       "    .dataframe thead th {\n",
       "        text-align: right;\n",
       "    }\n",
       "</style>\n",
       "<table border=\"1\" class=\"dataframe\">\n",
       "  <thead>\n",
       "    <tr style=\"text-align: right;\">\n",
       "      <th></th>\n",
       "      <th>user_id</th>\n",
       "      <th>distance</th>\n",
       "      <th>duration</th>\n",
       "      <th>date</th>\n",
       "      <th>month</th>\n",
       "    </tr>\n",
       "  </thead>\n",
       "  <tbody>\n",
       "    <tr>\n",
       "      <th>6611</th>\n",
       "      <td>707</td>\n",
       "      <td>28.793204</td>\n",
       "      <td>14.143966</td>\n",
       "      <td>2021-09-12</td>\n",
       "      <td>9</td>\n",
       "    </tr>\n",
       "    <tr>\n",
       "      <th>6691</th>\n",
       "      <td>712</td>\n",
       "      <td>23.963062</td>\n",
       "      <td>2.053251</td>\n",
       "      <td>2021-11-22</td>\n",
       "      <td>11</td>\n",
       "    </tr>\n",
       "    <tr>\n",
       "      <th>6850</th>\n",
       "      <td>724</td>\n",
       "      <td>30.473763</td>\n",
       "      <td>3.166221</td>\n",
       "      <td>2021-05-09</td>\n",
       "      <td>5</td>\n",
       "    </tr>\n",
       "    <tr>\n",
       "      <th>7389</th>\n",
       "      <td>762</td>\n",
       "      <td>35.061903</td>\n",
       "      <td>7.087655</td>\n",
       "      <td>2021-05-27</td>\n",
       "      <td>5</td>\n",
       "    </tr>\n",
       "    <tr>\n",
       "      <th>7841</th>\n",
       "      <td>796</td>\n",
       "      <td>7.097072</td>\n",
       "      <td>10.026614</td>\n",
       "      <td>2021-11-26</td>\n",
       "      <td>11</td>\n",
       "    </tr>\n",
       "    <tr>\n",
       "      <th>8324</th>\n",
       "      <td>835</td>\n",
       "      <td>12.233115</td>\n",
       "      <td>4.034952</td>\n",
       "      <td>2021-09-19</td>\n",
       "      <td>9</td>\n",
       "    </tr>\n",
       "    <tr>\n",
       "      <th>8658</th>\n",
       "      <td>861</td>\n",
       "      <td>6.784447</td>\n",
       "      <td>6.015656</td>\n",
       "      <td>2021-07-21</td>\n",
       "      <td>7</td>\n",
       "    </tr>\n",
       "    <tr>\n",
       "      <th>8906</th>\n",
       "      <td>880</td>\n",
       "      <td>11.283615</td>\n",
       "      <td>2.035632</td>\n",
       "      <td>2021-03-28</td>\n",
       "      <td>3</td>\n",
       "    </tr>\n",
       "    <tr>\n",
       "      <th>9128</th>\n",
       "      <td>896</td>\n",
       "      <td>31.803410</td>\n",
       "      <td>8.079509</td>\n",
       "      <td>2021-03-16</td>\n",
       "      <td>3</td>\n",
       "    </tr>\n",
       "    <tr>\n",
       "      <th>9439</th>\n",
       "      <td>918</td>\n",
       "      <td>38.711151</td>\n",
       "      <td>11.165905</td>\n",
       "      <td>2021-06-08</td>\n",
       "      <td>6</td>\n",
       "    </tr>\n",
       "    <tr>\n",
       "      <th>9541</th>\n",
       "      <td>925</td>\n",
       "      <td>2.570787</td>\n",
       "      <td>3.011018</td>\n",
       "      <td>2021-10-19</td>\n",
       "      <td>10</td>\n",
       "    </tr>\n",
       "    <tr>\n",
       "      <th>9784</th>\n",
       "      <td>943</td>\n",
       "      <td>26.784378</td>\n",
       "      <td>5.053569</td>\n",
       "      <td>2021-12-29</td>\n",
       "      <td>12</td>\n",
       "    </tr>\n",
       "    <tr>\n",
       "      <th>9927</th>\n",
       "      <td>952</td>\n",
       "      <td>34.287979</td>\n",
       "      <td>9.097966</td>\n",
       "      <td>2021-11-04</td>\n",
       "      <td>11</td>\n",
       "    </tr>\n",
       "    <tr>\n",
       "      <th>10349</th>\n",
       "      <td>982</td>\n",
       "      <td>43.690381</td>\n",
       "      <td>13.201648</td>\n",
       "      <td>2021-07-21</td>\n",
       "      <td>7</td>\n",
       "    </tr>\n",
       "    <tr>\n",
       "      <th>11555</th>\n",
       "      <td>1069</td>\n",
       "      <td>0.855683</td>\n",
       "      <td>10.001902</td>\n",
       "      <td>2021-01-31</td>\n",
       "      <td>1</td>\n",
       "    </tr>\n",
       "    <tr>\n",
       "      <th>11566</th>\n",
       "      <td>1069</td>\n",
       "      <td>44.016496</td>\n",
       "      <td>13.110041</td>\n",
       "      <td>2021-06-20</td>\n",
       "      <td>6</td>\n",
       "    </tr>\n",
       "    <tr>\n",
       "      <th>11862</th>\n",
       "      <td>1091</td>\n",
       "      <td>15.630873</td>\n",
       "      <td>13.044660</td>\n",
       "      <td>2021-03-29</td>\n",
       "      <td>3</td>\n",
       "    </tr>\n",
       "    <tr>\n",
       "      <th>13638</th>\n",
       "      <td>1219</td>\n",
       "      <td>40.287856</td>\n",
       "      <td>8.109876</td>\n",
       "      <td>2021-09-19</td>\n",
       "      <td>9</td>\n",
       "    </tr>\n",
       "    <tr>\n",
       "      <th>13690</th>\n",
       "      <td>1223</td>\n",
       "      <td>4.329506</td>\n",
       "      <td>4.008958</td>\n",
       "      <td>2021-05-22</td>\n",
       "      <td>5</td>\n",
       "    </tr>\n",
       "    <tr>\n",
       "      <th>13940</th>\n",
       "      <td>1240</td>\n",
       "      <td>15.000606</td>\n",
       "      <td>10.045002</td>\n",
       "      <td>2021-08-20</td>\n",
       "      <td>8</td>\n",
       "    </tr>\n",
       "    <tr>\n",
       "      <th>14081</th>\n",
       "      <td>1251</td>\n",
       "      <td>41.212830</td>\n",
       "      <td>2.224797</td>\n",
       "      <td>2021-04-15</td>\n",
       "      <td>4</td>\n",
       "    </tr>\n",
       "    <tr>\n",
       "      <th>14676</th>\n",
       "      <td>1293</td>\n",
       "      <td>30.586955</td>\n",
       "      <td>9.096590</td>\n",
       "      <td>2021-01-14</td>\n",
       "      <td>1</td>\n",
       "    </tr>\n",
       "    <tr>\n",
       "      <th>15104</th>\n",
       "      <td>1323</td>\n",
       "      <td>22.393227</td>\n",
       "      <td>7.061072</td>\n",
       "      <td>2021-10-25</td>\n",
       "      <td>10</td>\n",
       "    </tr>\n",
       "    <tr>\n",
       "      <th>15607</th>\n",
       "      <td>1362</td>\n",
       "      <td>46.560533</td>\n",
       "      <td>2.253967</td>\n",
       "      <td>2021-09-22</td>\n",
       "      <td>9</td>\n",
       "    </tr>\n",
       "    <tr>\n",
       "      <th>15626</th>\n",
       "      <td>1364</td>\n",
       "      <td>15.366168</td>\n",
       "      <td>6.057623</td>\n",
       "      <td>2021-08-22</td>\n",
       "      <td>8</td>\n",
       "    </tr>\n",
       "    <tr>\n",
       "      <th>15870</th>\n",
       "      <td>1381</td>\n",
       "      <td>31.391295</td>\n",
       "      <td>14.099130</td>\n",
       "      <td>2021-06-29</td>\n",
       "      <td>6</td>\n",
       "    </tr>\n",
       "    <tr>\n",
       "      <th>16409</th>\n",
       "      <td>1417</td>\n",
       "      <td>44.728663</td>\n",
       "      <td>10.127796</td>\n",
       "      <td>2021-09-20</td>\n",
       "      <td>9</td>\n",
       "    </tr>\n",
       "    <tr>\n",
       "      <th>16442</th>\n",
       "      <td>1419</td>\n",
       "      <td>41.282076</td>\n",
       "      <td>4.154808</td>\n",
       "      <td>2021-11-20</td>\n",
       "      <td>11</td>\n",
       "    </tr>\n",
       "    <tr>\n",
       "      <th>17173</th>\n",
       "      <td>1471</td>\n",
       "      <td>27.965145</td>\n",
       "      <td>3.093217</td>\n",
       "      <td>2021-10-06</td>\n",
       "      <td>10</td>\n",
       "    </tr>\n",
       "    <tr>\n",
       "      <th>17414</th>\n",
       "      <td>1489</td>\n",
       "      <td>22.314412</td>\n",
       "      <td>6.074381</td>\n",
       "      <td>2021-10-06</td>\n",
       "      <td>10</td>\n",
       "    </tr>\n",
       "    <tr>\n",
       "      <th>17646</th>\n",
       "      <td>1506</td>\n",
       "      <td>37.002836</td>\n",
       "      <td>4.170782</td>\n",
       "      <td>2021-06-27</td>\n",
       "      <td>6</td>\n",
       "    </tr>\n",
       "  </tbody>\n",
       "</table>\n",
       "</div>"
      ],
      "text/plain": [
       "       user_id   distance   duration       date  month\n",
       "6611       707  28.793204  14.143966 2021-09-12      9\n",
       "6691       712  23.963062   2.053251 2021-11-22     11\n",
       "6850       724  30.473763   3.166221 2021-05-09      5\n",
       "7389       762  35.061903   7.087655 2021-05-27      5\n",
       "7841       796   7.097072  10.026614 2021-11-26     11\n",
       "8324       835  12.233115   4.034952 2021-09-19      9\n",
       "8658       861   6.784447   6.015656 2021-07-21      7\n",
       "8906       880  11.283615   2.035632 2021-03-28      3\n",
       "9128       896  31.803410   8.079509 2021-03-16      3\n",
       "9439       918  38.711151  11.165905 2021-06-08      6\n",
       "9541       925   2.570787   3.011018 2021-10-19     10\n",
       "9784       943  26.784378   5.053569 2021-12-29     12\n",
       "9927       952  34.287979   9.097966 2021-11-04     11\n",
       "10349      982  43.690381  13.201648 2021-07-21      7\n",
       "11555     1069   0.855683  10.001902 2021-01-31      1\n",
       "11566     1069  44.016496  13.110041 2021-06-20      6\n",
       "11862     1091  15.630873  13.044660 2021-03-29      3\n",
       "13638     1219  40.287856   8.109876 2021-09-19      9\n",
       "13690     1223   4.329506   4.008958 2021-05-22      5\n",
       "13940     1240  15.000606  10.045002 2021-08-20      8\n",
       "14081     1251  41.212830   2.224797 2021-04-15      4\n",
       "14676     1293  30.586955   9.096590 2021-01-14      1\n",
       "15104     1323  22.393227   7.061072 2021-10-25     10\n",
       "15607     1362  46.560533   2.253967 2021-09-22      9\n",
       "15626     1364  15.366168   6.057623 2021-08-22      8\n",
       "15870     1381  31.391295  14.099130 2021-06-29      6\n",
       "16409     1417  44.728663  10.127796 2021-09-20      9\n",
       "16442     1419  41.282076   4.154808 2021-11-20     11\n",
       "17173     1471  27.965145   3.093217 2021-10-06     10\n",
       "17414     1489  22.314412   6.074381 2021-10-06     10\n",
       "17646     1506  37.002836   4.170782 2021-06-27      6"
      ]
     },
     "execution_count": 28,
     "metadata": {},
     "output_type": "execute_result"
    }
   ],
   "source": [
    "data_rides[data_rides['distance'] <= 50]"
   ]
  },
  {
   "cell_type": "code",
   "execution_count": 29,
   "id": "d30cef0e",
   "metadata": {},
   "outputs": [
    {
     "data": {
      "image/png": "[encoded data removed]",
      "text/plain": [
       "<Figure size 504x360 with 1 Axes>"
      ]
     },
     "metadata": {
      "needs_background": "light"
     },
     "output_type": "display_data"
    }
   ],
   "source": [
    "data_rides.boxplot('distance', figsize=(7,5))\n",
    "plt.title('Диаграмма размаха расстояния поездки')\n",
    "plt.ylabel('расстояние, метры')\n",
    "plt.show()"
   ]
  },
  {
   "cell_type": "markdown",
   "id": "59fdc4f2",
   "metadata": {},
   "source": [
    "**Вывод:** среднее расстояние поездок - около 3 километров. Также есть всплеск около 600-700 метровых поездок. Возможно, это пользователи, которые пытаются успеть на общественный траспорт или с общественного транспорта в точку назначения (например, на работу).\n",
    "\n",
    "Есть несколько очень кородких по расстоянию поездок временем от 2-3 до 14-15 минут. Причиной таких коротких поездок можно предположить желание успеть на общественный транспорт, отмену поездки из-за плохого состояния самоката (возможно, пользователь тут же взял другой самокат) или сложность в понимании эксплуатации самоката."
   ]
  },
  {
   "cell_type": "markdown",
   "id": "edb29b7e",
   "metadata": {},
   "source": [
    "<a id=\"dur\"></a>\n",
    "### Продолжительность поездок"
   ]
  },
  {
   "cell_type": "code",
   "execution_count": 30,
   "id": "61667403",
   "metadata": {},
   "outputs": [
    {
     "data": {
      "image/png": "[encoded data removed]",
      "text/plain": [
       "<Figure size 432x288 with 1 Axes>"
      ]
     },
     "metadata": {
      "needs_background": "light"
     },
     "output_type": "display_data"
    }
   ],
   "source": [
    "data_rides['duration'].hist(bins=50);\n",
    "plt.title('Гистограмма продолжительности поездок')\n",
    "plt.ylabel('Кол-во пользователей')\n",
    "plt.xlabel('Время поездки, минуты')\n",
    "plt.show()"
   ]
  },
  {
   "cell_type": "code",
   "execution_count": 31,
   "id": "48a425d8",
   "metadata": {},
   "outputs": [
    {
     "data": {
      "text/plain": [
       "count    18068.000000\n",
       "mean        17.805011\n",
       "std          6.091051\n",
       "min          0.500000\n",
       "25%         13.597563\n",
       "50%         17.678395\n",
       "75%         21.724800\n",
       "max         40.823963\n",
       "Name: duration, dtype: float64"
      ]
     },
     "execution_count": 31,
     "metadata": {},
     "output_type": "execute_result"
    }
   ],
   "source": [
    "data_rides['duration'].describe()"
   ]
  },
  {
   "cell_type": "code",
   "execution_count": 32,
   "id": "7dcfaf1c",
   "metadata": {},
   "outputs": [
    {
     "data": {
      "image/png": "[encoded data removed]",
      "text/plain": [
       "<Figure size 504x360 with 1 Axes>"
      ]
     },
     "metadata": {
      "needs_background": "light"
     },
     "output_type": "display_data"
    }
   ],
   "source": [
    "data_rides.boxplot('duration', figsize=(7,5))\n",
    "plt.title('Диаграмма размаха времени поездки')\n",
    "plt.ylabel('время, мин')\n",
    "plt.show()"
   ]
  },
  {
   "cell_type": "code",
   "execution_count": 33,
   "id": "c7628fb7",
   "metadata": {},
   "outputs": [
    {
     "data": {
      "text/html": [
       "<div>\n",
       "<style scoped>\n",
       "    .dataframe tbody tr th:only-of-type {\n",
       "        vertical-align: middle;\n",
       "    }\n",
       "\n",
       "    .dataframe tbody tr th {\n",
       "        vertical-align: top;\n",
       "    }\n",
       "\n",
       "    .dataframe thead th {\n",
       "        text-align: right;\n",
       "    }\n",
       "</style>\n",
       "<table border=\"1\" class=\"dataframe\">\n",
       "  <thead>\n",
       "    <tr style=\"text-align: right;\">\n",
       "      <th></th>\n",
       "      <th>user_id</th>\n",
       "      <th>distance</th>\n",
       "      <th>duration</th>\n",
       "      <th>date</th>\n",
       "      <th>month</th>\n",
       "    </tr>\n",
       "  </thead>\n",
       "  <tbody>\n",
       "    <tr>\n",
       "      <th>143</th>\n",
       "      <td>15</td>\n",
       "      <td>4187.621459</td>\n",
       "      <td>38.125729</td>\n",
       "      <td>2021-01-13</td>\n",
       "      <td>1</td>\n",
       "    </tr>\n",
       "    <tr>\n",
       "      <th>499</th>\n",
       "      <td>55</td>\n",
       "      <td>4151.081878</td>\n",
       "      <td>36.906491</td>\n",
       "      <td>2021-06-30</td>\n",
       "      <td>6</td>\n",
       "    </tr>\n",
       "    <tr>\n",
       "      <th>1694</th>\n",
       "      <td>183</td>\n",
       "      <td>4473.798120</td>\n",
       "      <td>36.402535</td>\n",
       "      <td>2021-01-02</td>\n",
       "      <td>1</td>\n",
       "    </tr>\n",
       "    <tr>\n",
       "      <th>1894</th>\n",
       "      <td>205</td>\n",
       "      <td>4218.386189</td>\n",
       "      <td>36.310317</td>\n",
       "      <td>2021-08-26</td>\n",
       "      <td>8</td>\n",
       "    </tr>\n",
       "    <tr>\n",
       "      <th>1998</th>\n",
       "      <td>216</td>\n",
       "      <td>4831.339954</td>\n",
       "      <td>38.352763</td>\n",
       "      <td>2021-05-11</td>\n",
       "      <td>5</td>\n",
       "    </tr>\n",
       "    <tr>\n",
       "      <th>2279</th>\n",
       "      <td>243</td>\n",
       "      <td>3915.218384</td>\n",
       "      <td>36.491310</td>\n",
       "      <td>2021-12-30</td>\n",
       "      <td>12</td>\n",
       "    </tr>\n",
       "    <tr>\n",
       "      <th>2623</th>\n",
       "      <td>278</td>\n",
       "      <td>4754.433686</td>\n",
       "      <td>39.526602</td>\n",
       "      <td>2021-12-02</td>\n",
       "      <td>12</td>\n",
       "    </tr>\n",
       "    <tr>\n",
       "      <th>3729</th>\n",
       "      <td>401</td>\n",
       "      <td>4002.356795</td>\n",
       "      <td>37.014141</td>\n",
       "      <td>2021-09-21</td>\n",
       "      <td>9</td>\n",
       "    </tr>\n",
       "    <tr>\n",
       "      <th>4215</th>\n",
       "      <td>454</td>\n",
       "      <td>5137.327103</td>\n",
       "      <td>40.823963</td>\n",
       "      <td>2021-12-27</td>\n",
       "      <td>12</td>\n",
       "    </tr>\n",
       "    <tr>\n",
       "      <th>4653</th>\n",
       "      <td>501</td>\n",
       "      <td>4103.765788</td>\n",
       "      <td>36.622595</td>\n",
       "      <td>2021-05-24</td>\n",
       "      <td>5</td>\n",
       "    </tr>\n",
       "    <tr>\n",
       "      <th>4709</th>\n",
       "      <td>507</td>\n",
       "      <td>4645.642671</td>\n",
       "      <td>39.873856</td>\n",
       "      <td>2021-01-15</td>\n",
       "      <td>1</td>\n",
       "    </tr>\n",
       "    <tr>\n",
       "      <th>5013</th>\n",
       "      <td>540</td>\n",
       "      <td>4446.311684</td>\n",
       "      <td>36.252609</td>\n",
       "      <td>2021-02-15</td>\n",
       "      <td>2</td>\n",
       "    </tr>\n",
       "    <tr>\n",
       "      <th>6348</th>\n",
       "      <td>681</td>\n",
       "      <td>4134.884947</td>\n",
       "      <td>36.809310</td>\n",
       "      <td>2021-05-01</td>\n",
       "      <td>5</td>\n",
       "    </tr>\n",
       "    <tr>\n",
       "      <th>6453</th>\n",
       "      <td>694</td>\n",
       "      <td>4210.871467</td>\n",
       "      <td>38.265229</td>\n",
       "      <td>2021-03-11</td>\n",
       "      <td>3</td>\n",
       "    </tr>\n",
       "  </tbody>\n",
       "</table>\n",
       "</div>"
      ],
      "text/plain": [
       "      user_id     distance   duration       date  month\n",
       "143        15  4187.621459  38.125729 2021-01-13      1\n",
       "499        55  4151.081878  36.906491 2021-06-30      6\n",
       "1694      183  4473.798120  36.402535 2021-01-02      1\n",
       "1894      205  4218.386189  36.310317 2021-08-26      8\n",
       "1998      216  4831.339954  38.352763 2021-05-11      5\n",
       "2279      243  3915.218384  36.491310 2021-12-30     12\n",
       "2623      278  4754.433686  39.526602 2021-12-02     12\n",
       "3729      401  4002.356795  37.014141 2021-09-21      9\n",
       "4215      454  5137.327103  40.823963 2021-12-27     12\n",
       "4653      501  4103.765788  36.622595 2021-05-24      5\n",
       "4709      507  4645.642671  39.873856 2021-01-15      1\n",
       "5013      540  4446.311684  36.252609 2021-02-15      2\n",
       "6348      681  4134.884947  36.809310 2021-05-01      5\n",
       "6453      694  4210.871467  38.265229 2021-03-11      3"
      ]
     },
     "execution_count": 33,
     "metadata": {},
     "output_type": "execute_result"
    }
   ],
   "source": [
    "data_rides[data_rides['duration'] > 36]"
   ]
  },
  {
   "cell_type": "markdown",
   "id": "396c3f4d",
   "metadata": {},
   "source": [
    "Ограничение по скорости электросамокатов в городе 25 км./ч. Получается примерно 415 м./мин.\n",
    "\n",
    "Возьмем среднюю скорость `200*30=6000` метров за полчаса. Значит, расстояние менее 6 км. за 30-40 минут - нормальные данные."
   ]
  },
  {
   "cell_type": "code",
   "execution_count": 34,
   "id": "d7cd5a10",
   "metadata": {},
   "outputs": [
    {
     "data": {
      "text/html": [
       "<div>\n",
       "<style scoped>\n",
       "    .dataframe tbody tr th:only-of-type {\n",
       "        vertical-align: middle;\n",
       "    }\n",
       "\n",
       "    .dataframe tbody tr th {\n",
       "        vertical-align: top;\n",
       "    }\n",
       "\n",
       "    .dataframe thead th {\n",
       "        text-align: right;\n",
       "    }\n",
       "</style>\n",
       "<table border=\"1\" class=\"dataframe\">\n",
       "  <thead>\n",
       "    <tr style=\"text-align: right;\">\n",
       "      <th></th>\n",
       "      <th>user_id</th>\n",
       "      <th>distance</th>\n",
       "      <th>duration</th>\n",
       "      <th>date</th>\n",
       "      <th>month</th>\n",
       "    </tr>\n",
       "  </thead>\n",
       "  <tbody>\n",
       "    <tr>\n",
       "      <th>10341</th>\n",
       "      <td>981</td>\n",
       "      <td>6671.969833</td>\n",
       "      <td>27.297078</td>\n",
       "      <td>2021-12-06</td>\n",
       "      <td>12</td>\n",
       "    </tr>\n",
       "    <tr>\n",
       "      <th>10915</th>\n",
       "      <td>1022</td>\n",
       "      <td>6535.386520</td>\n",
       "      <td>30.008799</td>\n",
       "      <td>2021-10-14</td>\n",
       "      <td>10</td>\n",
       "    </tr>\n",
       "    <tr>\n",
       "      <th>11319</th>\n",
       "      <td>1052</td>\n",
       "      <td>6503.600402</td>\n",
       "      <td>26.008309</td>\n",
       "      <td>2021-07-01</td>\n",
       "      <td>7</td>\n",
       "    </tr>\n",
       "    <tr>\n",
       "      <th>11385</th>\n",
       "      <td>1057</td>\n",
       "      <td>6601.197575</td>\n",
       "      <td>0.500000</td>\n",
       "      <td>2021-02-07</td>\n",
       "      <td>2</td>\n",
       "    </tr>\n",
       "    <tr>\n",
       "      <th>12086</th>\n",
       "      <td>1108</td>\n",
       "      <td>6538.937375</td>\n",
       "      <td>29.649276</td>\n",
       "      <td>2021-09-27</td>\n",
       "      <td>9</td>\n",
       "    </tr>\n",
       "    <tr>\n",
       "      <th>15580</th>\n",
       "      <td>1361</td>\n",
       "      <td>6908.491343</td>\n",
       "      <td>23.816983</td>\n",
       "      <td>2021-03-27</td>\n",
       "      <td>3</td>\n",
       "    </tr>\n",
       "    <tr>\n",
       "      <th>16309</th>\n",
       "      <td>1411</td>\n",
       "      <td>7211.007745</td>\n",
       "      <td>0.500000</td>\n",
       "      <td>2021-04-15</td>\n",
       "      <td>4</td>\n",
       "    </tr>\n",
       "    <tr>\n",
       "      <th>16484</th>\n",
       "      <td>1422</td>\n",
       "      <td>7066.003772</td>\n",
       "      <td>23.619318</td>\n",
       "      <td>2021-02-12</td>\n",
       "      <td>2</td>\n",
       "    </tr>\n",
       "    <tr>\n",
       "      <th>17171</th>\n",
       "      <td>1471</td>\n",
       "      <td>6760.940067</td>\n",
       "      <td>32.043760</td>\n",
       "      <td>2021-08-03</td>\n",
       "      <td>8</td>\n",
       "    </tr>\n",
       "    <tr>\n",
       "      <th>17242</th>\n",
       "      <td>1477</td>\n",
       "      <td>6724.932981</td>\n",
       "      <td>0.500000</td>\n",
       "      <td>2021-01-12</td>\n",
       "      <td>1</td>\n",
       "    </tr>\n",
       "  </tbody>\n",
       "</table>\n",
       "</div>"
      ],
      "text/plain": [
       "       user_id     distance   duration       date  month\n",
       "10341      981  6671.969833  27.297078 2021-12-06     12\n",
       "10915     1022  6535.386520  30.008799 2021-10-14     10\n",
       "11319     1052  6503.600402  26.008309 2021-07-01      7\n",
       "11385     1057  6601.197575   0.500000 2021-02-07      2\n",
       "12086     1108  6538.937375  29.649276 2021-09-27      9\n",
       "15580     1361  6908.491343  23.816983 2021-03-27      3\n",
       "16309     1411  7211.007745   0.500000 2021-04-15      4\n",
       "16484     1422  7066.003772  23.619318 2021-02-12      2\n",
       "17171     1471  6760.940067  32.043760 2021-08-03      8\n",
       "17242     1477  6724.932981   0.500000 2021-01-12      1"
      ]
     },
     "execution_count": 34,
     "metadata": {},
     "output_type": "execute_result"
    }
   ],
   "source": [
    "data_rides[data_rides['distance'] >= 6500]"
   ]
  },
  {
   "cell_type": "code",
   "execution_count": 35,
   "id": "7f73df6a",
   "metadata": {},
   "outputs": [
    {
     "data": {
      "text/html": [
       "<div>\n",
       "<style scoped>\n",
       "    .dataframe tbody tr th:only-of-type {\n",
       "        vertical-align: middle;\n",
       "    }\n",
       "\n",
       "    .dataframe tbody tr th {\n",
       "        vertical-align: top;\n",
       "    }\n",
       "\n",
       "    .dataframe thead th {\n",
       "        text-align: right;\n",
       "    }\n",
       "</style>\n",
       "<table border=\"1\" class=\"dataframe\">\n",
       "  <thead>\n",
       "    <tr style=\"text-align: right;\">\n",
       "      <th></th>\n",
       "      <th>user_id</th>\n",
       "      <th>distance</th>\n",
       "      <th>duration</th>\n",
       "      <th>date</th>\n",
       "      <th>month</th>\n",
       "    </tr>\n",
       "  </thead>\n",
       "  <tbody>\n",
       "    <tr>\n",
       "      <th>6531</th>\n",
       "      <td>701</td>\n",
       "      <td>4196.445201</td>\n",
       "      <td>0.5</td>\n",
       "      <td>2021-08-31</td>\n",
       "      <td>8</td>\n",
       "    </tr>\n",
       "    <tr>\n",
       "      <th>6570</th>\n",
       "      <td>704</td>\n",
       "      <td>4830.824371</td>\n",
       "      <td>0.5</td>\n",
       "      <td>2021-10-14</td>\n",
       "      <td>10</td>\n",
       "    </tr>\n",
       "    <tr>\n",
       "      <th>6680</th>\n",
       "      <td>712</td>\n",
       "      <td>4684.004397</td>\n",
       "      <td>0.5</td>\n",
       "      <td>2021-03-04</td>\n",
       "      <td>3</td>\n",
       "    </tr>\n",
       "    <tr>\n",
       "      <th>6695</th>\n",
       "      <td>713</td>\n",
       "      <td>5215.642710</td>\n",
       "      <td>0.5</td>\n",
       "      <td>2021-02-25</td>\n",
       "      <td>2</td>\n",
       "    </tr>\n",
       "    <tr>\n",
       "      <th>6768</th>\n",
       "      <td>718</td>\n",
       "      <td>5197.436649</td>\n",
       "      <td>0.5</td>\n",
       "      <td>2021-02-11</td>\n",
       "      <td>2</td>\n",
       "    </tr>\n",
       "    <tr>\n",
       "      <th>...</th>\n",
       "      <td>...</td>\n",
       "      <td>...</td>\n",
       "      <td>...</td>\n",
       "      <td>...</td>\n",
       "      <td>...</td>\n",
       "    </tr>\n",
       "    <tr>\n",
       "      <th>17004</th>\n",
       "      <td>1460</td>\n",
       "      <td>5531.335845</td>\n",
       "      <td>0.5</td>\n",
       "      <td>2021-01-19</td>\n",
       "      <td>1</td>\n",
       "    </tr>\n",
       "    <tr>\n",
       "      <th>17242</th>\n",
       "      <td>1477</td>\n",
       "      <td>6724.932981</td>\n",
       "      <td>0.5</td>\n",
       "      <td>2021-01-12</td>\n",
       "      <td>1</td>\n",
       "    </tr>\n",
       "    <tr>\n",
       "      <th>17314</th>\n",
       "      <td>1483</td>\n",
       "      <td>4445.481070</td>\n",
       "      <td>0.5</td>\n",
       "      <td>2021-03-06</td>\n",
       "      <td>3</td>\n",
       "    </tr>\n",
       "    <tr>\n",
       "      <th>17505</th>\n",
       "      <td>1496</td>\n",
       "      <td>5722.551787</td>\n",
       "      <td>0.5</td>\n",
       "      <td>2021-02-14</td>\n",
       "      <td>2</td>\n",
       "    </tr>\n",
       "    <tr>\n",
       "      <th>17909</th>\n",
       "      <td>1524</td>\n",
       "      <td>4103.998874</td>\n",
       "      <td>0.5</td>\n",
       "      <td>2021-06-18</td>\n",
       "      <td>6</td>\n",
       "    </tr>\n",
       "  </tbody>\n",
       "</table>\n",
       "<p>95 rows × 5 columns</p>\n",
       "</div>"
      ],
      "text/plain": [
       "       user_id     distance  duration       date  month\n",
       "6531       701  4196.445201       0.5 2021-08-31      8\n",
       "6570       704  4830.824371       0.5 2021-10-14     10\n",
       "6680       712  4684.004397       0.5 2021-03-04      3\n",
       "6695       713  5215.642710       0.5 2021-02-25      2\n",
       "6768       718  5197.436649       0.5 2021-02-11      2\n",
       "...        ...          ...       ...        ...    ...\n",
       "17004     1460  5531.335845       0.5 2021-01-19      1\n",
       "17242     1477  6724.932981       0.5 2021-01-12      1\n",
       "17314     1483  4445.481070       0.5 2021-03-06      3\n",
       "17505     1496  5722.551787       0.5 2021-02-14      2\n",
       "17909     1524  4103.998874       0.5 2021-06-18      6\n",
       "\n",
       "[95 rows x 5 columns]"
      ]
     },
     "execution_count": 35,
     "metadata": {},
     "output_type": "execute_result"
    }
   ],
   "source": [
    "check = data_rides[data_rides['distance'] >= 2000]\n",
    "check = check[check['duration'] <= 5]\n",
    "check"
   ]
  },
  {
   "cell_type": "code",
   "execution_count": 36,
   "id": "e190b68b",
   "metadata": {},
   "outputs": [
    {
     "name": "stdout",
     "output_type": "stream",
     "text": [
      "Процент поездок короче 5 мин. но проехавших больше 2 км равен  0.53%\n"
     ]
    }
   ],
   "source": [
    "print('Процент поездок короче 5 мин. но проехавших больше 2 км равен ', \n",
    "      '{:.2%}'.format(len(check) / len(data_rides)))"
   ]
  },
  {
   "cell_type": "markdown",
   "id": "0e6dc13a",
   "metadata": {},
   "source": [
    "Преодолеть около 4-6 км меньше чем за минуту - невозможно. 4-7 км за 20-50 минут - реалистичное значение. Трудно сказать, как должны выглядеть данные: мы не можем утверждать, что все записи с большой дистанцией и временем поездки 0.500000 минут - это ошибочно записанные в часах 30 минут ровно, ни больше ни меньше.\n",
    "К сожалению, выручка подсчитывается по времени поездки, а не по дистанции, поэтому, в зависимости от наличия или отсутствия подписки, такие поездки будут стоить всего 6 или 58 рублей.\n",
    "\n",
    "Время поездки явно высчитывается автоматически, поэтому причиной таких записей, скорее всего, стала техническая ошибка, например, при сохранении или неисправность при получении данных. \n",
    "\n",
    "За неимением логических вариантов исправления аномальных данных, принято решение удалить данные (такие записи составляют 0.53% от всего датафрейма), чтобы не испортить последующие исследования."
   ]
  },
  {
   "cell_type": "code",
   "execution_count": 37,
   "id": "c05230cd",
   "metadata": {
    "scrolled": true
   },
   "outputs": [
    {
     "data": {
      "text/plain": [
       "17973"
      ]
     },
     "execution_count": 37,
     "metadata": {},
     "output_type": "execute_result"
    }
   ],
   "source": [
    "data_rides = data_rides.loc[~((data_rides['distance'] >= 2000) \n",
    "       & (data_rides['duration'] <= 5)),:]\n",
    "len(data_rides)"
   ]
  },
  {
   "cell_type": "markdown",
   "id": "34c9e1ab",
   "metadata": {},
   "source": [
    "Проверяем данные."
   ]
  },
  {
   "cell_type": "code",
   "execution_count": 38,
   "id": "7c24c941",
   "metadata": {},
   "outputs": [
    {
     "data": {
      "text/plain": [
       "2.0356324681963884"
      ]
     },
     "execution_count": 38,
     "metadata": {},
     "output_type": "execute_result"
    }
   ],
   "source": [
    "data_rides['duration'].min()"
   ]
  },
  {
   "cell_type": "code",
   "execution_count": 39,
   "id": "f13a031f",
   "metadata": {},
   "outputs": [
    {
     "data": {
      "image/png": "[encoded data removed]",
      "text/plain": [
       "<Figure size 504x360 with 1 Axes>"
      ]
     },
     "metadata": {
      "needs_background": "light"
     },
     "output_type": "display_data"
    }
   ],
   "source": [
    "data_rides.boxplot('duration', figsize=(7,5))\n",
    "plt.title('Диаграмма размаха времени поездки')\n",
    "plt.ylabel('время, мин')\n",
    "plt.show()\n"
   ]
  },
  {
   "cell_type": "markdown",
   "id": "7567568f",
   "metadata": {},
   "source": [
    "**Вывод:** средняя продолжительность поездки составляет 17-18 минут. Выборка имеет нормальное распределение. \n",
    "Найдены аномальные значения - продолжительность поездки 50 секунд с расстоянием несколько километров. Скорее всего, такие данные появились из-за технической ошибки. Так как такие записи составляли 0.53% от всего датафрейма, они были удалены."
   ]
  },
  {
   "cell_type": "markdown",
   "id": "62a9c180",
   "metadata": {},
   "source": [
    "**Общий вывод:** в ходе исследовательского анализа данных были изучены значения получены следующие выводы\n",
    "- Сервис самокатов представлен в вросьми городах России. Больше всего пользователей из Пятигорска и Екатеринбурга, меньше всего из Москвы и Тюмени.\n",
    "- Пользователей **без** подписки больше, чем пользователей с подпиской ultra на 8.86 процентных пункта.\n",
    "- Средний возраст пользователя - 25 лет.\n",
    "- Среднее расстояние поездок - около 3 километров. Также есть всплеск около 600-700 метровых поездок. Возможно, это пользователи, которые пытаются успеть на общественный траспорт или с общественного транспорта в точку назначения (например, от метро на работу). \n",
    "- Есть несколько очень кородких по расстоянию поездок временем от 2-3 до 14-15 минут. Причиной таких коротких поездок можно предположить желание успеть на общественный транспорт, отмену поездки из-за плохого состояния самоката (возможно, пользователь тут же взял другой самокат) или сложность в понимании эксплуатации самоката.\n",
    "- Средняя продолжительность поездки составляет 17-18 минут.\n",
    "- Найдены аномальные значения - продолжительность поездки 30 секунд с расстоянием несколько километров. Скорее всего, такие данные появились из-за технической ошибки. Так как такие записи составляли 0.53% от всего датафрейма, они были удалены."
   ]
  },
  {
   "cell_type": "markdown",
   "id": "a33302b2",
   "metadata": {},
   "source": [
    "<a id=\"merge\"></a>\n",
    "## Объединение данных"
   ]
  },
  {
   "cell_type": "markdown",
   "id": "62bac9a6",
   "metadata": {},
   "source": [
    "<a id=\"join_all\"></a>\n",
    "### Объединение данные о пользователях, поездках и подписках в один датафрейм"
   ]
  },
  {
   "cell_type": "markdown",
   "id": "f79f90be",
   "metadata": {},
   "source": [
    "Объединим данные о пользователях, поездках и подписках в один датафрейм (`data`) с помощью метода `merge()`."
   ]
  },
  {
   "cell_type": "code",
   "execution_count": 40,
   "id": "c3d09b3f",
   "metadata": {
    "scrolled": true
   },
   "outputs": [
    {
     "name": "stdout",
     "output_type": "stream",
     "text": [
      "Кол-во записей в data_users: 1534\n",
      "Кол-во записей в data_rides: 17973\n",
      "Кол-во записей в data_subs: 2\n",
      "Кол-во записей в data: 17973\n"
     ]
    }
   ],
   "source": [
    "data = data_users.merge(data_rides, on='user_id', how='left')\n",
    "# проверяем количество записей\n",
    "print('Кол-во записей в data_users:', len(data_users))\n",
    "print('Кол-во записей в data_rides:', len(data_rides))\n",
    "print('Кол-во записей в data_subs:', len(data_subs))\n",
    "print('Кол-во записей в data:', len(data))"
   ]
  },
  {
   "cell_type": "code",
   "execution_count": 41,
   "id": "efb8ab94",
   "metadata": {},
   "outputs": [
    {
     "name": "stdout",
     "output_type": "stream",
     "text": [
      "Кол-во записей в data_rides: 17973\n",
      "Кол-во записей в data: 17973\n"
     ]
    }
   ],
   "source": [
    "data = data.merge(data_subs, on='subscription_type', how='left')\n",
    "# проверяем количество записей\n",
    "print('Кол-во записей в data_rides:', len(data_rides))\n",
    "print('Кол-во записей в data:', len(data))"
   ]
  },
  {
   "cell_type": "code",
   "execution_count": 42,
   "id": "efc9e29a",
   "metadata": {},
   "outputs": [
    {
     "data": {
      "text/plain": [
       "user_id              0\n",
       "name                 0\n",
       "age                  0\n",
       "city                 0\n",
       "subscription_type    0\n",
       "distance             0\n",
       "duration             0\n",
       "date                 0\n",
       "month                0\n",
       "minute_price         0\n",
       "start_ride_price     0\n",
       "subscription_fee     0\n",
       "dtype: int64"
      ]
     },
     "execution_count": 42,
     "metadata": {},
     "output_type": "execute_result"
    }
   ],
   "source": [
    "data.isna().sum()"
   ]
  },
  {
   "cell_type": "code",
   "execution_count": 43,
   "id": "ead58edf",
   "metadata": {},
   "outputs": [
    {
     "data": {
      "text/html": [
       "<div>\n",
       "<style scoped>\n",
       "    .dataframe tbody tr th:only-of-type {\n",
       "        vertical-align: middle;\n",
       "    }\n",
       "\n",
       "    .dataframe tbody tr th {\n",
       "        vertical-align: top;\n",
       "    }\n",
       "\n",
       "    .dataframe thead th {\n",
       "        text-align: right;\n",
       "    }\n",
       "</style>\n",
       "<table border=\"1\" class=\"dataframe\">\n",
       "  <thead>\n",
       "    <tr style=\"text-align: right;\">\n",
       "      <th></th>\n",
       "      <th>user_id</th>\n",
       "      <th>name</th>\n",
       "      <th>age</th>\n",
       "      <th>city</th>\n",
       "      <th>subscription_type</th>\n",
       "      <th>distance</th>\n",
       "      <th>duration</th>\n",
       "      <th>date</th>\n",
       "      <th>month</th>\n",
       "      <th>minute_price</th>\n",
       "      <th>start_ride_price</th>\n",
       "      <th>subscription_fee</th>\n",
       "    </tr>\n",
       "  </thead>\n",
       "  <tbody>\n",
       "    <tr>\n",
       "      <th>0</th>\n",
       "      <td>1</td>\n",
       "      <td>Кира</td>\n",
       "      <td>22</td>\n",
       "      <td>Тюмень</td>\n",
       "      <td>ultra</td>\n",
       "      <td>4409.919140</td>\n",
       "      <td>25.599769</td>\n",
       "      <td>2021-01-01</td>\n",
       "      <td>1</td>\n",
       "      <td>6</td>\n",
       "      <td>0</td>\n",
       "      <td>199</td>\n",
       "    </tr>\n",
       "    <tr>\n",
       "      <th>1</th>\n",
       "      <td>1</td>\n",
       "      <td>Кира</td>\n",
       "      <td>22</td>\n",
       "      <td>Тюмень</td>\n",
       "      <td>ultra</td>\n",
       "      <td>2617.592153</td>\n",
       "      <td>15.816871</td>\n",
       "      <td>2021-01-18</td>\n",
       "      <td>1</td>\n",
       "      <td>6</td>\n",
       "      <td>0</td>\n",
       "      <td>199</td>\n",
       "    </tr>\n",
       "    <tr>\n",
       "      <th>2</th>\n",
       "      <td>1</td>\n",
       "      <td>Кира</td>\n",
       "      <td>22</td>\n",
       "      <td>Тюмень</td>\n",
       "      <td>ultra</td>\n",
       "      <td>754.159807</td>\n",
       "      <td>6.232113</td>\n",
       "      <td>2021-04-20</td>\n",
       "      <td>4</td>\n",
       "      <td>6</td>\n",
       "      <td>0</td>\n",
       "      <td>199</td>\n",
       "    </tr>\n",
       "    <tr>\n",
       "      <th>3</th>\n",
       "      <td>1</td>\n",
       "      <td>Кира</td>\n",
       "      <td>22</td>\n",
       "      <td>Тюмень</td>\n",
       "      <td>ultra</td>\n",
       "      <td>2694.783254</td>\n",
       "      <td>18.511000</td>\n",
       "      <td>2021-08-11</td>\n",
       "      <td>8</td>\n",
       "      <td>6</td>\n",
       "      <td>0</td>\n",
       "      <td>199</td>\n",
       "    </tr>\n",
       "    <tr>\n",
       "      <th>4</th>\n",
       "      <td>1</td>\n",
       "      <td>Кира</td>\n",
       "      <td>22</td>\n",
       "      <td>Тюмень</td>\n",
       "      <td>ultra</td>\n",
       "      <td>4028.687306</td>\n",
       "      <td>26.265803</td>\n",
       "      <td>2021-08-28</td>\n",
       "      <td>8</td>\n",
       "      <td>6</td>\n",
       "      <td>0</td>\n",
       "      <td>199</td>\n",
       "    </tr>\n",
       "  </tbody>\n",
       "</table>\n",
       "</div>"
      ],
      "text/plain": [
       "   user_id  name  age    city subscription_type     distance   duration  \\\n",
       "0        1  Кира   22  Тюмень             ultra  4409.919140  25.599769   \n",
       "1        1  Кира   22  Тюмень             ultra  2617.592153  15.816871   \n",
       "2        1  Кира   22  Тюмень             ultra   754.159807   6.232113   \n",
       "3        1  Кира   22  Тюмень             ultra  2694.783254  18.511000   \n",
       "4        1  Кира   22  Тюмень             ultra  4028.687306  26.265803   \n",
       "\n",
       "        date  month  minute_price  start_ride_price  subscription_fee  \n",
       "0 2021-01-01      1             6                 0               199  \n",
       "1 2021-01-18      1             6                 0               199  \n",
       "2 2021-04-20      4             6                 0               199  \n",
       "3 2021-08-11      8             6                 0               199  \n",
       "4 2021-08-28      8             6                 0               199  "
      ]
     },
     "execution_count": 43,
     "metadata": {},
     "output_type": "execute_result"
    }
   ],
   "source": [
    "data.head()"
   ]
  },
  {
   "cell_type": "code",
   "execution_count": 44,
   "id": "466c6be0",
   "metadata": {},
   "outputs": [
    {
     "data": {
      "text/html": [
       "<div>\n",
       "<style scoped>\n",
       "    .dataframe tbody tr th:only-of-type {\n",
       "        vertical-align: middle;\n",
       "    }\n",
       "\n",
       "    .dataframe tbody tr th {\n",
       "        vertical-align: top;\n",
       "    }\n",
       "\n",
       "    .dataframe thead th {\n",
       "        text-align: right;\n",
       "    }\n",
       "</style>\n",
       "<table border=\"1\" class=\"dataframe\">\n",
       "  <thead>\n",
       "    <tr style=\"text-align: right;\">\n",
       "      <th></th>\n",
       "      <th>user_id</th>\n",
       "      <th>name</th>\n",
       "      <th>age</th>\n",
       "      <th>city</th>\n",
       "      <th>subscription_type</th>\n",
       "      <th>distance</th>\n",
       "      <th>duration</th>\n",
       "      <th>date</th>\n",
       "      <th>month</th>\n",
       "      <th>minute_price</th>\n",
       "      <th>start_ride_price</th>\n",
       "      <th>subscription_fee</th>\n",
       "    </tr>\n",
       "  </thead>\n",
       "  <tbody>\n",
       "    <tr>\n",
       "      <th>17968</th>\n",
       "      <td>1534</td>\n",
       "      <td>Альберт</td>\n",
       "      <td>25</td>\n",
       "      <td>Краснодар</td>\n",
       "      <td>free</td>\n",
       "      <td>3781.098080</td>\n",
       "      <td>19.822962</td>\n",
       "      <td>2021-11-04</td>\n",
       "      <td>11</td>\n",
       "      <td>8</td>\n",
       "      <td>50</td>\n",
       "      <td>0</td>\n",
       "    </tr>\n",
       "    <tr>\n",
       "      <th>17969</th>\n",
       "      <td>1534</td>\n",
       "      <td>Альберт</td>\n",
       "      <td>25</td>\n",
       "      <td>Краснодар</td>\n",
       "      <td>free</td>\n",
       "      <td>2840.423057</td>\n",
       "      <td>21.409799</td>\n",
       "      <td>2021-11-16</td>\n",
       "      <td>11</td>\n",
       "      <td>8</td>\n",
       "      <td>50</td>\n",
       "      <td>0</td>\n",
       "    </tr>\n",
       "    <tr>\n",
       "      <th>17970</th>\n",
       "      <td>1534</td>\n",
       "      <td>Альберт</td>\n",
       "      <td>25</td>\n",
       "      <td>Краснодар</td>\n",
       "      <td>free</td>\n",
       "      <td>3826.185507</td>\n",
       "      <td>18.435051</td>\n",
       "      <td>2021-11-18</td>\n",
       "      <td>11</td>\n",
       "      <td>8</td>\n",
       "      <td>50</td>\n",
       "      <td>0</td>\n",
       "    </tr>\n",
       "    <tr>\n",
       "      <th>17971</th>\n",
       "      <td>1534</td>\n",
       "      <td>Альберт</td>\n",
       "      <td>25</td>\n",
       "      <td>Краснодар</td>\n",
       "      <td>free</td>\n",
       "      <td>2902.308661</td>\n",
       "      <td>16.674362</td>\n",
       "      <td>2021-11-27</td>\n",
       "      <td>11</td>\n",
       "      <td>8</td>\n",
       "      <td>50</td>\n",
       "      <td>0</td>\n",
       "    </tr>\n",
       "    <tr>\n",
       "      <th>17972</th>\n",
       "      <td>1534</td>\n",
       "      <td>Альберт</td>\n",
       "      <td>25</td>\n",
       "      <td>Краснодар</td>\n",
       "      <td>free</td>\n",
       "      <td>2371.711192</td>\n",
       "      <td>15.893917</td>\n",
       "      <td>2021-12-29</td>\n",
       "      <td>12</td>\n",
       "      <td>8</td>\n",
       "      <td>50</td>\n",
       "      <td>0</td>\n",
       "    </tr>\n",
       "  </tbody>\n",
       "</table>\n",
       "</div>"
      ],
      "text/plain": [
       "       user_id     name  age       city subscription_type     distance  \\\n",
       "17968     1534  Альберт   25  Краснодар              free  3781.098080   \n",
       "17969     1534  Альберт   25  Краснодар              free  2840.423057   \n",
       "17970     1534  Альберт   25  Краснодар              free  3826.185507   \n",
       "17971     1534  Альберт   25  Краснодар              free  2902.308661   \n",
       "17972     1534  Альберт   25  Краснодар              free  2371.711192   \n",
       "\n",
       "        duration       date  month  minute_price  start_ride_price  \\\n",
       "17968  19.822962 2021-11-04     11             8                50   \n",
       "17969  21.409799 2021-11-16     11             8                50   \n",
       "17970  18.435051 2021-11-18     11             8                50   \n",
       "17971  16.674362 2021-11-27     11             8                50   \n",
       "17972  15.893917 2021-12-29     12             8                50   \n",
       "\n",
       "       subscription_fee  \n",
       "17968                 0  \n",
       "17969                 0  \n",
       "17970                 0  \n",
       "17971                 0  \n",
       "17972                 0  "
      ]
     },
     "execution_count": 44,
     "metadata": {},
     "output_type": "execute_result"
    }
   ],
   "source": [
    "data.tail()"
   ]
  },
  {
   "cell_type": "markdown",
   "id": "5836d448",
   "metadata": {},
   "source": [
    "**Вывод:** объединение прошло корректно, количество записей соответствует самому большому датафрейму. "
   ]
  },
  {
   "cell_type": "markdown",
   "id": "b44bd3de",
   "metadata": {},
   "source": [
    "<a id=\"sub_df\"></a>\n",
    "### Дополнительные датафреймы с подписками"
   ]
  },
  {
   "cell_type": "markdown",
   "id": "80799cb1",
   "metadata": {},
   "source": [
    "Создаем еще два датафрейма из `data`:\n",
    "- с данными о пользователях без подписки;\n",
    "- с данными о пользователях с подпиской."
   ]
  },
  {
   "cell_type": "code",
   "execution_count": 45,
   "id": "707d5e15",
   "metadata": {},
   "outputs": [
    {
     "data": {
      "text/html": [
       "<div>\n",
       "<style scoped>\n",
       "    .dataframe tbody tr th:only-of-type {\n",
       "        vertical-align: middle;\n",
       "    }\n",
       "\n",
       "    .dataframe tbody tr th {\n",
       "        vertical-align: top;\n",
       "    }\n",
       "\n",
       "    .dataframe thead th {\n",
       "        text-align: right;\n",
       "    }\n",
       "</style>\n",
       "<table border=\"1\" class=\"dataframe\">\n",
       "  <thead>\n",
       "    <tr style=\"text-align: right;\">\n",
       "      <th></th>\n",
       "      <th>user_id</th>\n",
       "      <th>name</th>\n",
       "      <th>age</th>\n",
       "      <th>city</th>\n",
       "      <th>subscription_type</th>\n",
       "      <th>distance</th>\n",
       "      <th>duration</th>\n",
       "      <th>date</th>\n",
       "      <th>month</th>\n",
       "      <th>minute_price</th>\n",
       "      <th>start_ride_price</th>\n",
       "      <th>subscription_fee</th>\n",
       "    </tr>\n",
       "  </thead>\n",
       "  <tbody>\n",
       "    <tr>\n",
       "      <th>0</th>\n",
       "      <td>1</td>\n",
       "      <td>Кира</td>\n",
       "      <td>22</td>\n",
       "      <td>Тюмень</td>\n",
       "      <td>ultra</td>\n",
       "      <td>4409.919140</td>\n",
       "      <td>25.599769</td>\n",
       "      <td>2021-01-01</td>\n",
       "      <td>1</td>\n",
       "      <td>6</td>\n",
       "      <td>0</td>\n",
       "      <td>199</td>\n",
       "    </tr>\n",
       "    <tr>\n",
       "      <th>1</th>\n",
       "      <td>1</td>\n",
       "      <td>Кира</td>\n",
       "      <td>22</td>\n",
       "      <td>Тюмень</td>\n",
       "      <td>ultra</td>\n",
       "      <td>2617.592153</td>\n",
       "      <td>15.816871</td>\n",
       "      <td>2021-01-18</td>\n",
       "      <td>1</td>\n",
       "      <td>6</td>\n",
       "      <td>0</td>\n",
       "      <td>199</td>\n",
       "    </tr>\n",
       "    <tr>\n",
       "      <th>2</th>\n",
       "      <td>1</td>\n",
       "      <td>Кира</td>\n",
       "      <td>22</td>\n",
       "      <td>Тюмень</td>\n",
       "      <td>ultra</td>\n",
       "      <td>754.159807</td>\n",
       "      <td>6.232113</td>\n",
       "      <td>2021-04-20</td>\n",
       "      <td>4</td>\n",
       "      <td>6</td>\n",
       "      <td>0</td>\n",
       "      <td>199</td>\n",
       "    </tr>\n",
       "    <tr>\n",
       "      <th>3</th>\n",
       "      <td>1</td>\n",
       "      <td>Кира</td>\n",
       "      <td>22</td>\n",
       "      <td>Тюмень</td>\n",
       "      <td>ultra</td>\n",
       "      <td>2694.783254</td>\n",
       "      <td>18.511000</td>\n",
       "      <td>2021-08-11</td>\n",
       "      <td>8</td>\n",
       "      <td>6</td>\n",
       "      <td>0</td>\n",
       "      <td>199</td>\n",
       "    </tr>\n",
       "    <tr>\n",
       "      <th>4</th>\n",
       "      <td>1</td>\n",
       "      <td>Кира</td>\n",
       "      <td>22</td>\n",
       "      <td>Тюмень</td>\n",
       "      <td>ultra</td>\n",
       "      <td>4028.687306</td>\n",
       "      <td>26.265803</td>\n",
       "      <td>2021-08-28</td>\n",
       "      <td>8</td>\n",
       "      <td>6</td>\n",
       "      <td>0</td>\n",
       "      <td>199</td>\n",
       "    </tr>\n",
       "  </tbody>\n",
       "</table>\n",
       "</div>"
      ],
      "text/plain": [
       "   user_id  name  age    city subscription_type     distance   duration  \\\n",
       "0        1  Кира   22  Тюмень             ultra  4409.919140  25.599769   \n",
       "1        1  Кира   22  Тюмень             ultra  2617.592153  15.816871   \n",
       "2        1  Кира   22  Тюмень             ultra   754.159807   6.232113   \n",
       "3        1  Кира   22  Тюмень             ultra  2694.783254  18.511000   \n",
       "4        1  Кира   22  Тюмень             ultra  4028.687306  26.265803   \n",
       "\n",
       "        date  month  minute_price  start_ride_price  subscription_fee  \n",
       "0 2021-01-01      1             6                 0               199  \n",
       "1 2021-01-18      1             6                 0               199  \n",
       "2 2021-04-20      4             6                 0               199  \n",
       "3 2021-08-11      8             6                 0               199  \n",
       "4 2021-08-28      8             6                 0               199  "
      ]
     },
     "execution_count": 45,
     "metadata": {},
     "output_type": "execute_result"
    }
   ],
   "source": [
    "sub_on = data[data['subscription_type'] == 'ultra']\n",
    "sub_on.head()"
   ]
  },
  {
   "cell_type": "code",
   "execution_count": 46,
   "id": "1802ab3e",
   "metadata": {
    "scrolled": true
   },
   "outputs": [
    {
     "data": {
      "text/html": [
       "<div>\n",
       "<style scoped>\n",
       "    .dataframe tbody tr th:only-of-type {\n",
       "        vertical-align: middle;\n",
       "    }\n",
       "\n",
       "    .dataframe tbody tr th {\n",
       "        vertical-align: top;\n",
       "    }\n",
       "\n",
       "    .dataframe thead th {\n",
       "        text-align: right;\n",
       "    }\n",
       "</style>\n",
       "<table border=\"1\" class=\"dataframe\">\n",
       "  <thead>\n",
       "    <tr style=\"text-align: right;\">\n",
       "      <th></th>\n",
       "      <th>user_id</th>\n",
       "      <th>name</th>\n",
       "      <th>age</th>\n",
       "      <th>city</th>\n",
       "      <th>subscription_type</th>\n",
       "      <th>distance</th>\n",
       "      <th>duration</th>\n",
       "      <th>date</th>\n",
       "      <th>month</th>\n",
       "      <th>minute_price</th>\n",
       "      <th>start_ride_price</th>\n",
       "      <th>subscription_fee</th>\n",
       "    </tr>\n",
       "  </thead>\n",
       "  <tbody>\n",
       "    <tr>\n",
       "      <th>6500</th>\n",
       "      <td>700</td>\n",
       "      <td>Айдар</td>\n",
       "      <td>22</td>\n",
       "      <td>Омск</td>\n",
       "      <td>free</td>\n",
       "      <td>2515.690719</td>\n",
       "      <td>14.944286</td>\n",
       "      <td>2021-01-02</td>\n",
       "      <td>1</td>\n",
       "      <td>8</td>\n",
       "      <td>50</td>\n",
       "      <td>0</td>\n",
       "    </tr>\n",
       "    <tr>\n",
       "      <th>6501</th>\n",
       "      <td>700</td>\n",
       "      <td>Айдар</td>\n",
       "      <td>22</td>\n",
       "      <td>Омск</td>\n",
       "      <td>free</td>\n",
       "      <td>846.932642</td>\n",
       "      <td>16.234663</td>\n",
       "      <td>2021-02-01</td>\n",
       "      <td>2</td>\n",
       "      <td>8</td>\n",
       "      <td>50</td>\n",
       "      <td>0</td>\n",
       "    </tr>\n",
       "    <tr>\n",
       "      <th>6502</th>\n",
       "      <td>700</td>\n",
       "      <td>Айдар</td>\n",
       "      <td>22</td>\n",
       "      <td>Омск</td>\n",
       "      <td>free</td>\n",
       "      <td>4004.434142</td>\n",
       "      <td>20.016628</td>\n",
       "      <td>2021-02-04</td>\n",
       "      <td>2</td>\n",
       "      <td>8</td>\n",
       "      <td>50</td>\n",
       "      <td>0</td>\n",
       "    </tr>\n",
       "    <tr>\n",
       "      <th>6503</th>\n",
       "      <td>700</td>\n",
       "      <td>Айдар</td>\n",
       "      <td>22</td>\n",
       "      <td>Омск</td>\n",
       "      <td>free</td>\n",
       "      <td>1205.911290</td>\n",
       "      <td>9.782872</td>\n",
       "      <td>2021-02-10</td>\n",
       "      <td>2</td>\n",
       "      <td>8</td>\n",
       "      <td>50</td>\n",
       "      <td>0</td>\n",
       "    </tr>\n",
       "    <tr>\n",
       "      <th>6504</th>\n",
       "      <td>700</td>\n",
       "      <td>Айдар</td>\n",
       "      <td>22</td>\n",
       "      <td>Омск</td>\n",
       "      <td>free</td>\n",
       "      <td>3047.379435</td>\n",
       "      <td>17.427673</td>\n",
       "      <td>2021-02-14</td>\n",
       "      <td>2</td>\n",
       "      <td>8</td>\n",
       "      <td>50</td>\n",
       "      <td>0</td>\n",
       "    </tr>\n",
       "  </tbody>\n",
       "</table>\n",
       "</div>"
      ],
      "text/plain": [
       "      user_id   name  age  city subscription_type     distance   duration  \\\n",
       "6500      700  Айдар   22  Омск              free  2515.690719  14.944286   \n",
       "6501      700  Айдар   22  Омск              free   846.932642  16.234663   \n",
       "6502      700  Айдар   22  Омск              free  4004.434142  20.016628   \n",
       "6503      700  Айдар   22  Омск              free  1205.911290   9.782872   \n",
       "6504      700  Айдар   22  Омск              free  3047.379435  17.427673   \n",
       "\n",
       "           date  month  minute_price  start_ride_price  subscription_fee  \n",
       "6500 2021-01-02      1             8                50                 0  \n",
       "6501 2021-02-01      2             8                50                 0  \n",
       "6502 2021-02-04      2             8                50                 0  \n",
       "6503 2021-02-10      2             8                50                 0  \n",
       "6504 2021-02-14      2             8                50                 0  "
      ]
     },
     "execution_count": 46,
     "metadata": {},
     "output_type": "execute_result"
    }
   ],
   "source": [
    "sub_not = data[data['subscription_type'] == 'free']\n",
    "sub_not.head()"
   ]
  },
  {
   "cell_type": "code",
   "execution_count": 47,
   "id": "d2f50477",
   "metadata": {},
   "outputs": [
    {
     "name": "stdout",
     "output_type": "stream",
     "text": [
      "Кол-во записей в data: 17973\n",
      "Суммарное кол-во записей в sub_on и sub_not: 17973\n"
     ]
    }
   ],
   "source": [
    "print('Кол-во записей в data:', len(data))\n",
    "print('Суммарное кол-во записей в sub_on и sub_not:', \n",
    "      len(sub_on) + len(sub_not))"
   ]
  },
  {
   "cell_type": "markdown",
   "id": "93e08be2",
   "metadata": {},
   "source": [
    "<a id=\"visual\"></a>\n",
    "### Визуализация расстояния и времени поездок для датафреймов с подписками"
   ]
  },
  {
   "cell_type": "markdown",
   "id": "3a5f8349",
   "metadata": {},
   "source": [
    "Визуализируем информацию о расстоянии и времени поездок для пользователей с подпиской и без нее."
   ]
  },
  {
   "cell_type": "code",
   "execution_count": 48,
   "id": "3925a221",
   "metadata": {},
   "outputs": [
    {
     "data": {
      "image/png": "[encoded data removed]",
      "text/plain": [
       "<Figure size 432x288 with 1 Axes>"
      ]
     },
     "metadata": {
      "needs_background": "light"
     },
     "output_type": "display_data"
    }
   ],
   "source": [
    "ax = sub_not.plot(\n",
    "    kind='hist',\n",
    "    y='distance',\n",
    "    bins=50,\n",
    "    alpha=1,\n",
    "    label='без подписки'\n",
    ")\n",
    "\n",
    "sub_on.plot(\n",
    "    kind='hist',\n",
    "    y='distance',\n",
    "    bins=50,\n",
    "    alpha=.9,\n",
    "    label='с подпиской',\n",
    "    ax=ax,\n",
    "    grid=True\n",
    ")\n",
    "\n",
    "plt.title('Расстояние поездок пользователей с подпиской и без')\n",
    "plt.ylabel('Кол-во пользователей')\n",
    "plt.xlabel('Расстояние, метры')\n",
    "plt.show()"
   ]
  },
  {
   "cell_type": "code",
   "execution_count": 49,
   "id": "1d5f5e5a",
   "metadata": {},
   "outputs": [
    {
     "name": "stdout",
     "output_type": "stream",
     "text": [
      "Расстояние пользователей без подписки\n",
      "count    11473.000000\n",
      "mean      3028.374239\n",
      "std       1235.541051\n",
      "min          0.855683\n",
      "25%       2360.878149\n",
      "50%       3102.083025\n",
      "75%       3883.979311\n",
      "max       7066.003772\n",
      "Name: distance, dtype: float64\n",
      "\n",
      "Расстояние пользователей с подпиской\n",
      "count    6500.000000\n",
      "mean     3115.445388\n",
      "std       836.895330\n",
      "min       244.210438\n",
      "25%      2785.444017\n",
      "50%      3148.637229\n",
      "75%      3560.574425\n",
      "max      5699.769662\n",
      "Name: distance, dtype: float64\n"
     ]
    }
   ],
   "source": [
    "print('Расстояние пользователей без подписки')\n",
    "print(sub_not['distance'].describe())\n",
    "print()\n",
    "print('Расстояние пользователей с подпиской')\n",
    "print(sub_on['distance'].describe())"
   ]
  },
  {
   "cell_type": "code",
   "execution_count": 50,
   "id": "9452308f",
   "metadata": {},
   "outputs": [
    {
     "data": {
      "image/png": "[encoded data removed]",
      "text/plain": [
       "<Figure size 432x288 with 1 Axes>"
      ]
     },
     "metadata": {
      "needs_background": "light"
     },
     "output_type": "display_data"
    }
   ],
   "source": [
    "ax = sub_not.plot(\n",
    "    kind='hist',\n",
    "    y='duration',\n",
    "    bins=50,\n",
    "    alpha=1,\n",
    "    label='без подписки'\n",
    ")\n",
    "\n",
    "sub_on.plot(\n",
    "    kind='hist',\n",
    "    y='duration',\n",
    "    bins=50,\n",
    "    alpha=.9,\n",
    "    label='с подпиской',\n",
    "    ax=ax,\n",
    "    grid=True\n",
    ")\n",
    "\n",
    "plt.title('Время поездок пользователей с подпиской и без')\n",
    "plt.ylabel('Кол-во пользователей')\n",
    "plt.xlabel('Время, минуты')\n",
    "plt.show()"
   ]
  },
  {
   "cell_type": "code",
   "execution_count": 51,
   "id": "48164c53",
   "metadata": {},
   "outputs": [
    {
     "name": "stdout",
     "output_type": "stream",
     "text": [
      "Вермя пользователей без подписки\n",
      "count    11473.000000\n",
      "mean        17.530771\n",
      "std          6.162609\n",
      "min          2.035632\n",
      "25%         13.085688\n",
      "50%         17.383807\n",
      "75%         21.638038\n",
      "max         34.948498\n",
      "Name: duration, dtype: float64\n",
      "\n",
      "Вермя пользователей с подпиской\n",
      "count    6500.000000\n",
      "mean       18.541985\n",
      "std         5.572048\n",
      "min         3.760353\n",
      "25%        14.524654\n",
      "50%        18.178153\n",
      "75%        21.884129\n",
      "max        40.823963\n",
      "Name: duration, dtype: float64\n"
     ]
    }
   ],
   "source": [
    "print('Вермя пользователей без подписки')\n",
    "print(sub_not['duration'].describe())\n",
    "print()\n",
    "print('Вермя пользователей с подпиской')\n",
    "print(sub_on['duration'].describe())"
   ]
  },
  {
   "cell_type": "markdown",
   "id": "5dadff90",
   "metadata": {},
   "source": [
    "**Вывод:** в объединении данных был создан новый датафрейм `data`, объединяющий три основных (с информацией о пользователях, поездках и подписках). Также были созданы два датафрейма с пользователями без подписки и с пользователями с подпиской ultra. \n",
    "В результате визуализации данных о расстоянии и времени пользователей, разденных на категории \"с подпиской\" и \"без подписки\", были получены следующие данные:\n",
    "- пользователей без подписки больше;\n",
    "- больший диапазон расстояния у пользователей без подписки - 0.86-7066 м, у пользователей с подпиской - 244.21-5699.77 м;\n",
    "- разброс по длительности поездок не сильно различается среди подписок, но у пользователей без подписки он чуть больше: 6.16 минут без подписки и 5.57 минут с подпиской;\n",
    "- медиана по времени поездок среди пользователей без подписки составляет 17.38, у пользователей с подпиской медиана немного больше и составляет 18.18."
   ]
  },
  {
   "cell_type": "markdown",
   "id": "14bc76c9",
   "metadata": {},
   "source": [
    "<a id=\"count\"></a>\n",
    "## Подсчёт выручки"
   ]
  },
  {
   "cell_type": "markdown",
   "id": "783dd983",
   "metadata": {},
   "source": [
    "Создаем датафрейм с агрегированными данными о поездках на основе датафрейма с объединёнными данными из шага 4: найходим суммарное расстояние, количество поездок и суммарное время для каждого пользователя за каждый месяц.\n",
    "\n",
    "Продолжительность каждой поездки в каждой строке исходного датафрейма для подсчёта стоимости округляется до следующего целого числа: например, значения 25.3, 25.5 и 26.0 должны быть преобразованы к 26."
   ]
  },
  {
   "cell_type": "code",
   "execution_count": 52,
   "id": "e7c93a61",
   "metadata": {},
   "outputs": [
    {
     "data": {
      "text/html": [
       "<div>\n",
       "<style scoped>\n",
       "    .dataframe tbody tr th:only-of-type {\n",
       "        vertical-align: middle;\n",
       "    }\n",
       "\n",
       "    .dataframe tbody tr th {\n",
       "        vertical-align: top;\n",
       "    }\n",
       "\n",
       "    .dataframe thead th {\n",
       "        text-align: right;\n",
       "    }\n",
       "</style>\n",
       "<table border=\"1\" class=\"dataframe\">\n",
       "  <thead>\n",
       "    <tr style=\"text-align: right;\">\n",
       "      <th></th>\n",
       "      <th>user_id</th>\n",
       "      <th>month</th>\n",
       "      <th>rides_count</th>\n",
       "      <th>distance_sum</th>\n",
       "      <th>duration_sum</th>\n",
       "    </tr>\n",
       "  </thead>\n",
       "  <tbody>\n",
       "    <tr>\n",
       "      <th>0</th>\n",
       "      <td>1</td>\n",
       "      <td>1</td>\n",
       "      <td>2</td>\n",
       "      <td>7027.51</td>\n",
       "      <td>42</td>\n",
       "    </tr>\n",
       "    <tr>\n",
       "      <th>1</th>\n",
       "      <td>1</td>\n",
       "      <td>4</td>\n",
       "      <td>1</td>\n",
       "      <td>754.16</td>\n",
       "      <td>7</td>\n",
       "    </tr>\n",
       "    <tr>\n",
       "      <th>2</th>\n",
       "      <td>1</td>\n",
       "      <td>8</td>\n",
       "      <td>2</td>\n",
       "      <td>6723.47</td>\n",
       "      <td>46</td>\n",
       "    </tr>\n",
       "    <tr>\n",
       "      <th>3</th>\n",
       "      <td>1</td>\n",
       "      <td>10</td>\n",
       "      <td>2</td>\n",
       "      <td>5809.91</td>\n",
       "      <td>32</td>\n",
       "    </tr>\n",
       "    <tr>\n",
       "      <th>4</th>\n",
       "      <td>1</td>\n",
       "      <td>11</td>\n",
       "      <td>3</td>\n",
       "      <td>7003.50</td>\n",
       "      <td>56</td>\n",
       "    </tr>\n",
       "  </tbody>\n",
       "</table>\n",
       "</div>"
      ],
      "text/plain": [
       "   user_id  month  rides_count  distance_sum  duration_sum\n",
       "0        1      1            2       7027.51            42\n",
       "1        1      4            1        754.16             7\n",
       "2        1      8            2       6723.47            46\n",
       "3        1     10            2       5809.91            32\n",
       "4        1     11            3       7003.50            56"
      ]
     },
     "execution_count": 52,
     "metadata": {},
     "output_type": "execute_result"
    }
   ],
   "source": [
    "# огругляем общее время до целого\n",
    "data['duration'] = np.ceil(data['duration'])\\\n",
    ".astype(int)\n",
    "\n",
    "data_agg = data\\\n",
    ".pivot_table(\n",
    "    index=['user_id', 'month'], \n",
    "    values=['duration', 'distance'],\n",
    "    aggfunc={\n",
    "        'duration': 'sum', \n",
    "        'distance': ['sum', 'count']\n",
    "    }\n",
    ")\\\n",
    ".reset_index()\n",
    "#округляем представление чисел до двух знаков после запятой\n",
    "pd.options.display.float_format ='{:.2f}'.format\n",
    "#переименовываем столбцы для удобства\n",
    "data_agg.columns = ['user_id', 'month', 'rides_count', \n",
    "                    'distance_sum', 'duration_sum']\n",
    "data_agg.head()"
   ]
  },
  {
   "cell_type": "markdown",
   "id": "2644926d",
   "metadata": {},
   "source": [
    "Новые столбцы:\n",
    "- `rides_count` - кол-во поездок за месяц;\n",
    "- `distance_sum` - суммарное расстояние за месяц в метрах;\n",
    "- `duration_sum` - суммарное время поездок за месяц в минутах."
   ]
  },
  {
   "cell_type": "code",
   "execution_count": 53,
   "id": "eefebc85",
   "metadata": {},
   "outputs": [
    {
     "data": {
      "text/html": [
       "<div>\n",
       "<style scoped>\n",
       "    .dataframe tbody tr th:only-of-type {\n",
       "        vertical-align: middle;\n",
       "    }\n",
       "\n",
       "    .dataframe tbody tr th {\n",
       "        vertical-align: top;\n",
       "    }\n",
       "\n",
       "    .dataframe thead th {\n",
       "        text-align: right;\n",
       "    }\n",
       "</style>\n",
       "<table border=\"1\" class=\"dataframe\">\n",
       "  <thead>\n",
       "    <tr style=\"text-align: right;\">\n",
       "      <th></th>\n",
       "      <th>user_id</th>\n",
       "      <th>name</th>\n",
       "      <th>age</th>\n",
       "      <th>city</th>\n",
       "      <th>subscription_type</th>\n",
       "      <th>month</th>\n",
       "      <th>rides_count</th>\n",
       "      <th>distance_sum</th>\n",
       "      <th>duration_sum</th>\n",
       "      <th>minute_price</th>\n",
       "      <th>start_ride_price</th>\n",
       "      <th>subscription_fee</th>\n",
       "    </tr>\n",
       "  </thead>\n",
       "  <tbody>\n",
       "    <tr>\n",
       "      <th>0</th>\n",
       "      <td>1</td>\n",
       "      <td>Кира</td>\n",
       "      <td>22</td>\n",
       "      <td>Тюмень</td>\n",
       "      <td>ultra</td>\n",
       "      <td>1</td>\n",
       "      <td>2</td>\n",
       "      <td>7027.51</td>\n",
       "      <td>42</td>\n",
       "      <td>6</td>\n",
       "      <td>0</td>\n",
       "      <td>199</td>\n",
       "    </tr>\n",
       "    <tr>\n",
       "      <th>1</th>\n",
       "      <td>1</td>\n",
       "      <td>Кира</td>\n",
       "      <td>22</td>\n",
       "      <td>Тюмень</td>\n",
       "      <td>ultra</td>\n",
       "      <td>4</td>\n",
       "      <td>1</td>\n",
       "      <td>754.16</td>\n",
       "      <td>7</td>\n",
       "      <td>6</td>\n",
       "      <td>0</td>\n",
       "      <td>199</td>\n",
       "    </tr>\n",
       "    <tr>\n",
       "      <th>2</th>\n",
       "      <td>1</td>\n",
       "      <td>Кира</td>\n",
       "      <td>22</td>\n",
       "      <td>Тюмень</td>\n",
       "      <td>ultra</td>\n",
       "      <td>8</td>\n",
       "      <td>2</td>\n",
       "      <td>6723.47</td>\n",
       "      <td>46</td>\n",
       "      <td>6</td>\n",
       "      <td>0</td>\n",
       "      <td>199</td>\n",
       "    </tr>\n",
       "    <tr>\n",
       "      <th>3</th>\n",
       "      <td>1</td>\n",
       "      <td>Кира</td>\n",
       "      <td>22</td>\n",
       "      <td>Тюмень</td>\n",
       "      <td>ultra</td>\n",
       "      <td>10</td>\n",
       "      <td>2</td>\n",
       "      <td>5809.91</td>\n",
       "      <td>32</td>\n",
       "      <td>6</td>\n",
       "      <td>0</td>\n",
       "      <td>199</td>\n",
       "    </tr>\n",
       "    <tr>\n",
       "      <th>4</th>\n",
       "      <td>1</td>\n",
       "      <td>Кира</td>\n",
       "      <td>22</td>\n",
       "      <td>Тюмень</td>\n",
       "      <td>ultra</td>\n",
       "      <td>11</td>\n",
       "      <td>3</td>\n",
       "      <td>7003.50</td>\n",
       "      <td>56</td>\n",
       "      <td>6</td>\n",
       "      <td>0</td>\n",
       "      <td>199</td>\n",
       "    </tr>\n",
       "    <tr>\n",
       "      <th>...</th>\n",
       "      <td>...</td>\n",
       "      <td>...</td>\n",
       "      <td>...</td>\n",
       "      <td>...</td>\n",
       "      <td>...</td>\n",
       "      <td>...</td>\n",
       "      <td>...</td>\n",
       "      <td>...</td>\n",
       "      <td>...</td>\n",
       "      <td>...</td>\n",
       "      <td>...</td>\n",
       "      <td>...</td>\n",
       "    </tr>\n",
       "    <tr>\n",
       "      <th>11295</th>\n",
       "      <td>1534</td>\n",
       "      <td>Альберт</td>\n",
       "      <td>25</td>\n",
       "      <td>Краснодар</td>\n",
       "      <td>free</td>\n",
       "      <td>6</td>\n",
       "      <td>2</td>\n",
       "      <td>3409.47</td>\n",
       "      <td>26</td>\n",
       "      <td>8</td>\n",
       "      <td>50</td>\n",
       "      <td>0</td>\n",
       "    </tr>\n",
       "    <tr>\n",
       "      <th>11296</th>\n",
       "      <td>1534</td>\n",
       "      <td>Альберт</td>\n",
       "      <td>25</td>\n",
       "      <td>Краснодар</td>\n",
       "      <td>free</td>\n",
       "      <td>8</td>\n",
       "      <td>2</td>\n",
       "      <td>7622.45</td>\n",
       "      <td>48</td>\n",
       "      <td>8</td>\n",
       "      <td>50</td>\n",
       "      <td>0</td>\n",
       "    </tr>\n",
       "    <tr>\n",
       "      <th>11297</th>\n",
       "      <td>1534</td>\n",
       "      <td>Альберт</td>\n",
       "      <td>25</td>\n",
       "      <td>Краснодар</td>\n",
       "      <td>free</td>\n",
       "      <td>9</td>\n",
       "      <td>1</td>\n",
       "      <td>4928.17</td>\n",
       "      <td>23</td>\n",
       "      <td>8</td>\n",
       "      <td>50</td>\n",
       "      <td>0</td>\n",
       "    </tr>\n",
       "    <tr>\n",
       "      <th>11298</th>\n",
       "      <td>1534</td>\n",
       "      <td>Альберт</td>\n",
       "      <td>25</td>\n",
       "      <td>Краснодар</td>\n",
       "      <td>free</td>\n",
       "      <td>11</td>\n",
       "      <td>4</td>\n",
       "      <td>13350.02</td>\n",
       "      <td>78</td>\n",
       "      <td>8</td>\n",
       "      <td>50</td>\n",
       "      <td>0</td>\n",
       "    </tr>\n",
       "    <tr>\n",
       "      <th>11299</th>\n",
       "      <td>1534</td>\n",
       "      <td>Альберт</td>\n",
       "      <td>25</td>\n",
       "      <td>Краснодар</td>\n",
       "      <td>free</td>\n",
       "      <td>12</td>\n",
       "      <td>1</td>\n",
       "      <td>2371.71</td>\n",
       "      <td>16</td>\n",
       "      <td>8</td>\n",
       "      <td>50</td>\n",
       "      <td>0</td>\n",
       "    </tr>\n",
       "  </tbody>\n",
       "</table>\n",
       "<p>11300 rows × 12 columns</p>\n",
       "</div>"
      ],
      "text/plain": [
       "       user_id     name  age       city subscription_type  month  rides_count  \\\n",
       "0            1     Кира   22     Тюмень             ultra      1            2   \n",
       "1            1     Кира   22     Тюмень             ultra      4            1   \n",
       "2            1     Кира   22     Тюмень             ultra      8            2   \n",
       "3            1     Кира   22     Тюмень             ultra     10            2   \n",
       "4            1     Кира   22     Тюмень             ultra     11            3   \n",
       "...        ...      ...  ...        ...               ...    ...          ...   \n",
       "11295     1534  Альберт   25  Краснодар              free      6            2   \n",
       "11296     1534  Альберт   25  Краснодар              free      8            2   \n",
       "11297     1534  Альберт   25  Краснодар              free      9            1   \n",
       "11298     1534  Альберт   25  Краснодар              free     11            4   \n",
       "11299     1534  Альберт   25  Краснодар              free     12            1   \n",
       "\n",
       "       distance_sum  duration_sum  minute_price  start_ride_price  \\\n",
       "0           7027.51            42             6                 0   \n",
       "1            754.16             7             6                 0   \n",
       "2           6723.47            46             6                 0   \n",
       "3           5809.91            32             6                 0   \n",
       "4           7003.50            56             6                 0   \n",
       "...             ...           ...           ...               ...   \n",
       "11295       3409.47            26             8                50   \n",
       "11296       7622.45            48             8                50   \n",
       "11297       4928.17            23             8                50   \n",
       "11298      13350.02            78             8                50   \n",
       "11299       2371.71            16             8                50   \n",
       "\n",
       "       subscription_fee  \n",
       "0                   199  \n",
       "1                   199  \n",
       "2                   199  \n",
       "3                   199  \n",
       "4                   199  \n",
       "...                 ...  \n",
       "11295                 0  \n",
       "11296                 0  \n",
       "11297                 0  \n",
       "11298                 0  \n",
       "11299                 0  \n",
       "\n",
       "[11300 rows x 12 columns]"
      ]
     },
     "execution_count": 53,
     "metadata": {},
     "output_type": "execute_result"
    }
   ],
   "source": [
    "# соединяем data_agg с инфо о пользователях\n",
    "data_agg = data_users.merge(\n",
    "    data_agg, \n",
    "    on='user_id',\n",
    "    how='right'\n",
    ")\n",
    "# соединяем data_agg с инфо о подписках\n",
    "data_agg = data_agg.merge(\n",
    "    data_subs, \n",
    "    on='subscription_type',\n",
    "    how='left'\n",
    ")\n",
    " \n",
    "data_agg"
   ]
  },
  {
   "cell_type": "markdown",
   "id": "de6acebc",
   "metadata": {},
   "source": [
    "В этот же датафрейм дабвляем столбец с помесячной выручкой, которую принёс каждый пользователь. Для этого обращаемся к информации об условиях оплаты для подписчиков и тех, у кого нет подписки. "
   ]
  },
  {
   "cell_type": "markdown",
   "id": "f34e1e55",
   "metadata": {},
   "source": [
    "**Помесячная выручка считается по формуле:** стоимость старта поездки ×  количество поездок + стоимость одной минуты поездки × общая продолжительность всех поездок в минутах + стоимость подписки."
   ]
  },
  {
   "cell_type": "code",
   "execution_count": 54,
   "id": "a69cc1a3",
   "metadata": {
    "scrolled": false
   },
   "outputs": [
    {
     "data": {
      "text/html": [
       "<div>\n",
       "<style scoped>\n",
       "    .dataframe tbody tr th:only-of-type {\n",
       "        vertical-align: middle;\n",
       "    }\n",
       "\n",
       "    .dataframe tbody tr th {\n",
       "        vertical-align: top;\n",
       "    }\n",
       "\n",
       "    .dataframe thead th {\n",
       "        text-align: right;\n",
       "    }\n",
       "</style>\n",
       "<table border=\"1\" class=\"dataframe\">\n",
       "  <thead>\n",
       "    <tr style=\"text-align: right;\">\n",
       "      <th></th>\n",
       "      <th>user_id</th>\n",
       "      <th>name</th>\n",
       "      <th>age</th>\n",
       "      <th>city</th>\n",
       "      <th>subscription_type</th>\n",
       "      <th>month</th>\n",
       "      <th>rides_count</th>\n",
       "      <th>distance_sum</th>\n",
       "      <th>duration_sum</th>\n",
       "      <th>minute_price</th>\n",
       "      <th>start_ride_price</th>\n",
       "      <th>subscription_fee</th>\n",
       "      <th>revenue</th>\n",
       "    </tr>\n",
       "  </thead>\n",
       "  <tbody>\n",
       "    <tr>\n",
       "      <th>0</th>\n",
       "      <td>1</td>\n",
       "      <td>Кира</td>\n",
       "      <td>22</td>\n",
       "      <td>Тюмень</td>\n",
       "      <td>ultra</td>\n",
       "      <td>1</td>\n",
       "      <td>2</td>\n",
       "      <td>7027.51</td>\n",
       "      <td>42</td>\n",
       "      <td>6</td>\n",
       "      <td>0</td>\n",
       "      <td>199</td>\n",
       "      <td>451</td>\n",
       "    </tr>\n",
       "    <tr>\n",
       "      <th>1</th>\n",
       "      <td>1</td>\n",
       "      <td>Кира</td>\n",
       "      <td>22</td>\n",
       "      <td>Тюмень</td>\n",
       "      <td>ultra</td>\n",
       "      <td>4</td>\n",
       "      <td>1</td>\n",
       "      <td>754.16</td>\n",
       "      <td>7</td>\n",
       "      <td>6</td>\n",
       "      <td>0</td>\n",
       "      <td>199</td>\n",
       "      <td>241</td>\n",
       "    </tr>\n",
       "    <tr>\n",
       "      <th>2</th>\n",
       "      <td>1</td>\n",
       "      <td>Кира</td>\n",
       "      <td>22</td>\n",
       "      <td>Тюмень</td>\n",
       "      <td>ultra</td>\n",
       "      <td>8</td>\n",
       "      <td>2</td>\n",
       "      <td>6723.47</td>\n",
       "      <td>46</td>\n",
       "      <td>6</td>\n",
       "      <td>0</td>\n",
       "      <td>199</td>\n",
       "      <td>475</td>\n",
       "    </tr>\n",
       "    <tr>\n",
       "      <th>3</th>\n",
       "      <td>1</td>\n",
       "      <td>Кира</td>\n",
       "      <td>22</td>\n",
       "      <td>Тюмень</td>\n",
       "      <td>ultra</td>\n",
       "      <td>10</td>\n",
       "      <td>2</td>\n",
       "      <td>5809.91</td>\n",
       "      <td>32</td>\n",
       "      <td>6</td>\n",
       "      <td>0</td>\n",
       "      <td>199</td>\n",
       "      <td>391</td>\n",
       "    </tr>\n",
       "    <tr>\n",
       "      <th>4</th>\n",
       "      <td>1</td>\n",
       "      <td>Кира</td>\n",
       "      <td>22</td>\n",
       "      <td>Тюмень</td>\n",
       "      <td>ultra</td>\n",
       "      <td>11</td>\n",
       "      <td>3</td>\n",
       "      <td>7003.50</td>\n",
       "      <td>56</td>\n",
       "      <td>6</td>\n",
       "      <td>0</td>\n",
       "      <td>199</td>\n",
       "      <td>535</td>\n",
       "    </tr>\n",
       "    <tr>\n",
       "      <th>...</th>\n",
       "      <td>...</td>\n",
       "      <td>...</td>\n",
       "      <td>...</td>\n",
       "      <td>...</td>\n",
       "      <td>...</td>\n",
       "      <td>...</td>\n",
       "      <td>...</td>\n",
       "      <td>...</td>\n",
       "      <td>...</td>\n",
       "      <td>...</td>\n",
       "      <td>...</td>\n",
       "      <td>...</td>\n",
       "      <td>...</td>\n",
       "    </tr>\n",
       "    <tr>\n",
       "      <th>11295</th>\n",
       "      <td>1534</td>\n",
       "      <td>Альберт</td>\n",
       "      <td>25</td>\n",
       "      <td>Краснодар</td>\n",
       "      <td>free</td>\n",
       "      <td>6</td>\n",
       "      <td>2</td>\n",
       "      <td>3409.47</td>\n",
       "      <td>26</td>\n",
       "      <td>8</td>\n",
       "      <td>50</td>\n",
       "      <td>0</td>\n",
       "      <td>308</td>\n",
       "    </tr>\n",
       "    <tr>\n",
       "      <th>11296</th>\n",
       "      <td>1534</td>\n",
       "      <td>Альберт</td>\n",
       "      <td>25</td>\n",
       "      <td>Краснодар</td>\n",
       "      <td>free</td>\n",
       "      <td>8</td>\n",
       "      <td>2</td>\n",
       "      <td>7622.45</td>\n",
       "      <td>48</td>\n",
       "      <td>8</td>\n",
       "      <td>50</td>\n",
       "      <td>0</td>\n",
       "      <td>484</td>\n",
       "    </tr>\n",
       "    <tr>\n",
       "      <th>11297</th>\n",
       "      <td>1534</td>\n",
       "      <td>Альберт</td>\n",
       "      <td>25</td>\n",
       "      <td>Краснодар</td>\n",
       "      <td>free</td>\n",
       "      <td>9</td>\n",
       "      <td>1</td>\n",
       "      <td>4928.17</td>\n",
       "      <td>23</td>\n",
       "      <td>8</td>\n",
       "      <td>50</td>\n",
       "      <td>0</td>\n",
       "      <td>234</td>\n",
       "    </tr>\n",
       "    <tr>\n",
       "      <th>11298</th>\n",
       "      <td>1534</td>\n",
       "      <td>Альберт</td>\n",
       "      <td>25</td>\n",
       "      <td>Краснодар</td>\n",
       "      <td>free</td>\n",
       "      <td>11</td>\n",
       "      <td>4</td>\n",
       "      <td>13350.02</td>\n",
       "      <td>78</td>\n",
       "      <td>8</td>\n",
       "      <td>50</td>\n",
       "      <td>0</td>\n",
       "      <td>824</td>\n",
       "    </tr>\n",
       "    <tr>\n",
       "      <th>11299</th>\n",
       "      <td>1534</td>\n",
       "      <td>Альберт</td>\n",
       "      <td>25</td>\n",
       "      <td>Краснодар</td>\n",
       "      <td>free</td>\n",
       "      <td>12</td>\n",
       "      <td>1</td>\n",
       "      <td>2371.71</td>\n",
       "      <td>16</td>\n",
       "      <td>8</td>\n",
       "      <td>50</td>\n",
       "      <td>0</td>\n",
       "      <td>178</td>\n",
       "    </tr>\n",
       "  </tbody>\n",
       "</table>\n",
       "<p>11300 rows × 13 columns</p>\n",
       "</div>"
      ],
      "text/plain": [
       "       user_id     name  age       city subscription_type  month  rides_count  \\\n",
       "0            1     Кира   22     Тюмень             ultra      1            2   \n",
       "1            1     Кира   22     Тюмень             ultra      4            1   \n",
       "2            1     Кира   22     Тюмень             ultra      8            2   \n",
       "3            1     Кира   22     Тюмень             ultra     10            2   \n",
       "4            1     Кира   22     Тюмень             ultra     11            3   \n",
       "...        ...      ...  ...        ...               ...    ...          ...   \n",
       "11295     1534  Альберт   25  Краснодар              free      6            2   \n",
       "11296     1534  Альберт   25  Краснодар              free      8            2   \n",
       "11297     1534  Альберт   25  Краснодар              free      9            1   \n",
       "11298     1534  Альберт   25  Краснодар              free     11            4   \n",
       "11299     1534  Альберт   25  Краснодар              free     12            1   \n",
       "\n",
       "       distance_sum  duration_sum  minute_price  start_ride_price  \\\n",
       "0           7027.51            42             6                 0   \n",
       "1            754.16             7             6                 0   \n",
       "2           6723.47            46             6                 0   \n",
       "3           5809.91            32             6                 0   \n",
       "4           7003.50            56             6                 0   \n",
       "...             ...           ...           ...               ...   \n",
       "11295       3409.47            26             8                50   \n",
       "11296       7622.45            48             8                50   \n",
       "11297       4928.17            23             8                50   \n",
       "11298      13350.02            78             8                50   \n",
       "11299       2371.71            16             8                50   \n",
       "\n",
       "       subscription_fee  revenue  \n",
       "0                   199      451  \n",
       "1                   199      241  \n",
       "2                   199      475  \n",
       "3                   199      391  \n",
       "4                   199      535  \n",
       "...                 ...      ...  \n",
       "11295                 0      308  \n",
       "11296                 0      484  \n",
       "11297                 0      234  \n",
       "11298                 0      824  \n",
       "11299                 0      178  \n",
       "\n",
       "[11300 rows x 13 columns]"
      ]
     },
     "execution_count": 54,
     "metadata": {},
     "output_type": "execute_result"
    }
   ],
   "source": [
    "data_agg['revenue'] = (\n",
    "    data_agg['start_ride_price'] * data_agg['rides_count']\n",
    "    + data_agg['minute_price'] * data_agg['duration_sum'] \n",
    "    + data_agg['subscription_fee']\n",
    ")\n",
    "\n",
    "data_agg"
   ]
  },
  {
   "cell_type": "markdown",
   "id": "375c648d",
   "metadata": {},
   "source": [
    "**Вывод:** на данном этапе был создан датафрейм с агрегированными данными о поездках. \n",
    "- Найдено суммарное расстояние, количество поездок и суммарное время для каждого пользователя за каждый месяц. \n",
    "- Округлены минуты поездок до целого числа.\n",
    "- Посчитана помесячная выручка, которую принес каждый пользователь."
   ]
  },
  {
   "cell_type": "markdown",
   "id": "fbda10b5",
   "metadata": {},
   "source": [
    "<a id=\"hypo\"></a>\n",
    "## Проверка гипотез"
   ]
  },
  {
   "cell_type": "markdown",
   "id": "65858a7c",
   "metadata": {},
   "source": [
    "Продакт-менеджеры сервиса хотят увеличить количество пользователей с подпиской. Для этого они будут проводить различные акции, но сначала нужно выяснить несколько важных моментов."
   ]
  },
  {
   "cell_type": "markdown",
   "id": "7ff60b02",
   "metadata": {},
   "source": [
    "### 7.1"
   ]
  },
  {
   "cell_type": "markdown",
   "id": "05eaca13",
   "metadata": {},
   "source": [
    "Важно понять, тратят ли пользователи с подпиской больше времени на поездки? Если да, то пользователи с подпиской могут быть «выгоднее» для компании. \n",
    "Проверим гипотезу. Используем исходные данные о продолжительности каждой сессии — отдельно для подписчиков и тех, у кого нет подписки."
   ]
  },
  {
   "cell_type": "markdown",
   "id": "a2ece7e7",
   "metadata": {},
   "source": [
    "Сравним две выборки `sub_on` и `sub_not` и проверим гипотезы:\n",
    "- **Нулевая гипотеза:** среднее время продолжительности поездок среди пользователей с подпиской и без **одинаково**;\n",
    "- **Альтернативная гипотеза:** среднее время продолжительности поездок среди пользователей **с подпиской больше**, чем среди пользователей без подписки."
   ]
  },
  {
   "cell_type": "code",
   "execution_count": 55,
   "id": "e709edcc",
   "metadata": {},
   "outputs": [
    {
     "name": "stdout",
     "output_type": "stream",
     "text": [
      "Среднее время пользователей С ПОДПИСКОЙ: 18.54\n",
      "Среднее время пользователей БЕЗ ПОДПИСКИ: 17.53\n",
      "p-значение: 4.704468074453899e-28\n",
      "Отвергаем нулевую гипотезу\n"
     ]
    }
   ],
   "source": [
    "print('Среднее время пользователей С ПОДПИСКОЙ:',\\\n",
    "      round(sub_on['duration'].mean(), 2))\n",
    "print(f'Среднее время пользователей БЕЗ ПОДПИСКИ:',\\\n",
    "      round(sub_not['duration'].mean(), 2))\n",
    "\n",
    "# выбранный уроваень статистической значимости\n",
    "alpha = .05\n",
    "\n",
    "results = st.ttest_ind(\n",
    "    sub_on['duration'],\n",
    "    sub_not['duration'],\n",
    "    alternative='greater'\n",
    ")\n",
    "\n",
    "print('p-значение:', results.pvalue)\n",
    "\n",
    "# вывод о нулевой гипотезе\n",
    "if results.pvalue < alpha:\n",
    "    print('Отвергаем нулевую гипотезу')\n",
    "else:\n",
    "    print('Не получилось отвергнуть нулевую гипотезу')"
   ]
  },
  {
   "cell_type": "markdown",
   "id": "9a510db1",
   "metadata": {},
   "source": [
    "**Вывод:** нулевая гипотеза о том, что среднее время продолжительности поездок среди пользователей с подпиской и без одинаково, - отвергнута. Есть основания утверждать, что верна альтернативная гипотеза - среднее время продолжительности поездок среди пользователей с подпиской больше, чем среди пользователей без подписки."
   ]
  },
  {
   "cell_type": "markdown",
   "id": "3d7af9d3",
   "metadata": {},
   "source": [
    "### 7.2"
   ]
  },
  {
   "cell_type": "markdown",
   "id": "ca1464c2",
   "metadata": {},
   "source": [
    "Расстояние одной поездки в 3130 метров — оптимальное с точки зрения износа самоката. Можно ли сказать, что среднее расстояние, которое проезжают пользователи с подпиской за одну поездку, не превышает 3130 метров? Проверим гипотезу и сделаем выводы."
   ]
  },
  {
   "cell_type": "markdown",
   "id": "c4715159",
   "metadata": {},
   "source": [
    "Сравним выборку `sub_on` с выбранным значением `3130` и проверим гипотезы:\n",
    "- **Нулевая гипотеза:** среднее расстояние поездки среди пользователей с подпиской равно **3130** метров;\n",
    "- **Альтернативная гипотеза:** среднее расстояние поездки среди пользователей с подпиской больше **3130** метров."
   ]
  },
  {
   "cell_type": "code",
   "execution_count": 56,
   "id": "bcd9c2e4",
   "metadata": {},
   "outputs": [
    {
     "name": "stdout",
     "output_type": "stream",
     "text": [
      "Среднее расстояние пользователей С ПОДПИСКОЙ: 3115.45\n",
      "p-значение: 0.9195368847849785\n",
      "Не получилось отвергнуть нулевую гипотезу\n"
     ]
    }
   ],
   "source": [
    "print('Среднее расстояние пользователей С ПОДПИСКОЙ:',\\\n",
    "      round(sub_on['distance'].mean(), 2))\n",
    "\n",
    "# выбранный уроваень статистической значимости\n",
    "alpha = .05\n",
    "# выбранное в нулевой гипотезе число\n",
    "value = 3130\n",
    "\n",
    "results = st.ttest_1samp(\n",
    "    sub_on['distance'],\n",
    "    value,\n",
    "    alternative='greater'\n",
    ")\n",
    "\n",
    "print('p-значение:', results.pvalue)\n",
    "\n",
    "# вывод о нулевой гипотезе\n",
    "if results.pvalue < alpha:\n",
    "    print('Отвергаем нулевую гипотезу')\n",
    "else:\n",
    "    print('Не получилось отвергнуть нулевую гипотезу')"
   ]
  },
  {
   "cell_type": "markdown",
   "id": "8362f015",
   "metadata": {},
   "source": [
    "**Вывод:** нулевую гипотезу нельзя отвергнуть - среднее расстояние пользователей с подпиской не превышает 3130 метров."
   ]
  },
  {
   "cell_type": "markdown",
   "id": "f878a676",
   "metadata": {},
   "source": [
    "### 7.3"
   ]
  },
  {
   "cell_type": "markdown",
   "id": "3a76c687",
   "metadata": {},
   "source": [
    "Проверим гипотезу о том, будет ли помесячная выручка от пользователей с подпиской по месяцам выше, чем выручка от пользователей без подписки."
   ]
  },
  {
   "cell_type": "markdown",
   "id": "5d1b6273",
   "metadata": {},
   "source": [
    "Сравним две выборки пользователей с подпиской и без подписки и проверим гипотезы:\n",
    "- **Нулевая гипотеза:** помесячная выручка пользователей с и без подписки **равна**;\n",
    "- **Альтернативная гипотеза:** помесячная выручка пользователей с подпиской **выше**, чем помесячная выручка пользователей без подписки."
   ]
  },
  {
   "cell_type": "code",
   "execution_count": 57,
   "id": "8195ee17",
   "metadata": {},
   "outputs": [
    {
     "name": "stdout",
     "output_type": "stream",
     "text": [
      "Среднее выручка по пользователям С ПОДПИСКОЙ: 362.79\n",
      "Среднее выручка по пользователям БЕЗ ПОДПИСКИ: 329.33\n",
      "p-значение: 2.0314113674863288e-30\n",
      "Отвергаем нулевую гипотезу\n"
     ]
    }
   ],
   "source": [
    "print('Среднее выручка по пользователям С ПОДПИСКОЙ:',\\\n",
    "      round(data_agg\\\n",
    "            .loc[data_agg['subscription_type'] == 'ultra', 'revenue']\\\n",
    "            .mean(), 2))\n",
    "print(f'Среднее выручка по пользователям БЕЗ ПОДПИСКИ:',\\\n",
    "      round(data_agg\\\n",
    "            .loc[data_agg['subscription_type'] == 'free', 'revenue']\\\n",
    "            .mean(), 2))\n",
    "\n",
    "# выбранный уроваень статистической значимости\n",
    "alpha = .05\n",
    "\n",
    "results = st.ttest_ind(\n",
    "    data_agg.loc[data_agg['subscription_type'] == 'ultra', 'revenue'],\n",
    "    data_agg.loc[data_agg['subscription_type'] == 'free', 'revenue'],\n",
    "    alternative='greater'\n",
    ")\n",
    "\n",
    "print('p-значение:', results.pvalue)\n",
    "\n",
    "# вывод о нулевой гипотезе\n",
    "if results.pvalue < alpha:\n",
    "    print('Отвергаем нулевую гипотезу')\n",
    "else:\n",
    "    print('Не получилось отвергнуть нулевую гипотезу')"
   ]
  },
  {
   "cell_type": "markdown",
   "id": "196bc0c5",
   "metadata": {},
   "source": [
    "**Вывод:** нулевая гипотеза о том, что помесячная выручка пользователей с и без подписки равна, - отвергнута. Есть основания утверждать, что верна альтернативная гипотеза - помесячная выручка выше среди пользователей с подпиской."
   ]
  },
  {
   "cell_type": "markdown",
   "id": "6cbfc3a6",
   "metadata": {},
   "source": [
    "### 7.4"
   ]
  },
  {
   "cell_type": "markdown",
   "id": "034a55e0",
   "metadata": {},
   "source": [
    "Представим такую ситуацию: \n",
    "\n",
    "техническая команда сервиса обновила сервера, с которыми взаимодействует мобильное приложение. Она надеется, что из-за этого количество обращений в техподдержку значимо снизилось. Некоторый файл содержит для каждого пользователя данные о количестве обращений до обновления и после него. \n",
    "\n",
    "Какой тест понадобился бы для проверки этой гипотезы? "
   ]
  },
  {
   "cell_type": "markdown",
   "id": "c3b179b1",
   "metadata": {},
   "source": [
    "**Ответ:** для проверки данной гипотезы понадобился бы метод `scipy.stats.ttest_rel()`, принимающий в качестве аргументов две зависимые выборки одинакового размера до и после изменения.\n",
    "\n",
    "Так как техническую команду интересует снижение количества обращений, следует использовать левосторонний тест (`alternative='less'`) - он проверит стало ли меньше среднее количество обращений в тех.поддержку после изменений. "
   ]
  },
  {
   "cell_type": "markdown",
   "id": "714b11d4",
   "metadata": {},
   "source": [
    "**Вывод:** в проверке гипотез получены следующие результаты\n",
    "- среднее время продолжительности поездок среди пользователей с подпиской больше, чем среди пользователей без подписки.\n",
    "- среднее расстояние пользователей с подпиской не превышает оптимальные с точки зрения износа самоката 3130 метров.\n",
    "- помесячная выручка выше среди пользователей с подпиской.\n",
    "\n",
    "Получается, что пользователи с подпиской \"выгоднее\" для компании."
   ]
  },
  {
   "cell_type": "markdown",
   "id": "63e8e43b",
   "metadata": {},
   "source": [
    "<a id=\"distrib\"></a>\n",
    "## Распределения"
   ]
  },
  {
   "cell_type": "markdown",
   "id": "caf261f5",
   "metadata": {},
   "source": [
    "### 7.1"
   ]
  },
  {
   "cell_type": "markdown",
   "id": "8165e460",
   "metadata": {},
   "source": [
    "Отделу маркетинга GoFast поставили задачу: \n",
    "\n",
    "нужно провести акцию с раздачей промокодов на один бесплатный месяц подписки, в рамках которой как минимум 100 существующих клиентов должны продлить эту подписку. То есть по завершении периода действия подписки пользователь может либо отказаться от неё, либо продлить, совершив соответствующий платёж. \n",
    "Эта акция уже проводилась ранее и по итогу выяснилось, что после бесплатного пробного периода **подписку продлевают 10%** пользователей. Выясните, какое **минимальное количество промокодов** нужно разослать, чтобы вероятность не выполнить план была примерно **5%**. \n",
    "\n",
    "Подберем параметры распределения, описывающего эту ситуацию, построим график распределения и сформулируем ответ на вопрос о количестве промокодов."
   ]
  },
  {
   "cell_type": "markdown",
   "id": "d5aed5f1",
   "metadata": {},
   "source": [
    "Построим график биноминального распределения и определим примерный диапазон необходимого значения."
   ]
  },
  {
   "cell_type": "code",
   "execution_count": 58,
   "id": "0dbbe8be",
   "metadata": {},
   "outputs": [
    {
     "data": {
      "image/png": "[encoded data removed]",
      "text/plain": [
       "<Figure size 432x288 with 1 Axes>"
      ]
     },
     "metadata": {
      "needs_background": "light"
     },
     "output_type": "display_data"
    }
   ],
   "source": [
    "# вероятность успеха\n",
    "p = .1\n",
    "# кол-во испытаний\n",
    "n = 500\n",
    "distr = []\n",
    "\n",
    "for k in range(0, n + 1):\n",
    "   current_value = binom.pmf(k, n, p)\n",
    "   distr.append(current_value)\n",
    "plt.bar(range(0, n + 1), distr);\n",
    "\n",
    "plt.title('График биноминального распределения')\n",
    "plt.ylabel('вероятность')\n",
    "plt.xlabel('кол-во промокодов')\n",
    "plt.show()"
   ]
  },
  {
   "cell_type": "markdown",
   "id": "6064c556",
   "metadata": {},
   "source": [
    "При 500 промокодах велика вероятность получить менее 100 подписок (если точнее - где-то около 60-ти)."
   ]
  },
  {
   "cell_type": "markdown",
   "id": "d7e5df2c",
   "metadata": {},
   "source": [
    "Найдем с помощью кумулятивной функции распределения вероятность, что случайная величина (кол-во успешных подписок) примет значение не менее 100."
   ]
  },
  {
   "cell_type": "code",
   "execution_count": 59,
   "id": "c656dee1",
   "metadata": {},
   "outputs": [
    {
     "name": "stdout",
     "output_type": "stream",
     "text": [
      "Вероятность успеха: 0.9502390990500975\n",
      "Минимальное кол-во промокодов: 1161\n"
     ]
    }
   ],
   "source": [
    "# минимальное кол-во успехов\n",
    "k = 99\n",
    "\n",
    "# перибераем минимальное необходимое кол-во промокодов,\n",
    "# при котором оформят подмиску не менее 100 пользователей\n",
    "for n in range(500, 2000):\n",
    "    if binom.cdf(k, n, p) <= 0.05:\n",
    "        print('Вероятность успеха:', 1-binom.cdf(k, n, p))\n",
    "        print('Минимальное кол-во промокодов:', n)\n",
    "        # выходим из цикла как только встретим условие\n",
    "        break"
   ]
  },
  {
   "cell_type": "markdown",
   "id": "886d25b3",
   "metadata": {},
   "source": [
    "**Вывод:** с помощью кумулятивной функции распределения, мы выяснили, что если вероятность продления подписки составляет 10%, а минимально-необходимое количество продливших подписку - 100 клиентов, то с вероятностью 95% план будет успешным при раздаче 1161 промокода или более."
   ]
  },
  {
   "cell_type": "markdown",
   "id": "7059c4f2",
   "metadata": {},
   "source": [
    "### 7.2"
   ]
  },
  {
   "cell_type": "markdown",
   "id": "85a4d047",
   "metadata": {},
   "source": [
    "Отдел маркетинга рассылает клиентам push-уведомления в мобильном приложении. Клиенты могут открыть его или не открывать. \n",
    "Известно, что уведомления открывают около 40 % получивших клиентов. Отдел планирует разослать 1 млн уведомлений. \n",
    "\n",
    "С помощью аппроксимации построим примерный график распределения и оценим вероятность того, что уведомление откроют не более 399,5 тыс. пользователей."
   ]
  },
  {
   "cell_type": "code",
   "execution_count": 60,
   "id": "b81b8196",
   "metadata": {},
   "outputs": [
    {
     "data": {
      "image/png": "[encoded data removed]",
      "text/plain": [
       "<Figure size 432x288 with 1 Axes>"
      ]
     },
     "metadata": {
      "needs_background": "light"
     },
     "output_type": "display_data"
    }
   ],
   "source": [
    "# задаём параметры биномиального распределения\n",
    "n = 1000000\n",
    "p = .4\n",
    "\n",
    "\n",
    "# границы промежутка, в котором будем строить аппроксимацию -\n",
    "# от n*p минус 3 ст.отклонения бином.распределения\n",
    "# до n*p плюс 3 ст.отклонения бином.распределения\n",
    "# (там, где вероятности значений почти не равны нулю)\n",
    "left = int(n * p - 3 * sqrt(n * p * (1 - p)))\n",
    "right = int(n * p + 3 * sqrt(n * p * (1 - p)))\n",
    "\n",
    "\n",
    "# зададим набор значений биномиальной величины на выбранном промежутке:\n",
    "# все неотрицательные целые числа от left до right\n",
    "x = list(range(max(0, left), right))\n",
    "\n",
    "# рисуем график биномиального распределения\n",
    "ax = plt.subplot()\n",
    "ax.plot(x, binom.pmf(x, n, p))\n",
    "plt.title('вероятность биномиального распределения')\n",
    "plt.ylabel('вероятность')\n",
    "plt.xlabel('кол-во открытых уведомлений')\n",
    "plt.show()"
   ]
  },
  {
   "cell_type": "code",
   "execution_count": 61,
   "id": "342acbe4",
   "metadata": {},
   "outputs": [
    {
     "name": "stdout",
     "output_type": "stream",
     "text": [
      "0.15371708296369768\n"
     ]
    }
   ],
   "source": [
    "# зададим мат.ожидание и ст.отклонение нормального распределения равными\n",
    "# мат.ожиданию и ст.отклонению биномиального распределения\n",
    "mu = n * p\n",
    "sigma = sqrt(n * p * (1 - p))\n",
    "\n",
    "\n",
    "# задаём нормальное распределение\n",
    "distr = st.norm(mu, sigma)\n",
    "\n",
    "\n",
    "# считаем вероятность хвоста слева от 399,5 тысяч\n",
    "result = distr.cdf(399500)\n",
    "print(result)"
   ]
  },
  {
   "cell_type": "markdown",
   "id": "9d696286",
   "metadata": {},
   "source": [
    "**Вывод:** если 40% клиентов открывают уведолнеие, то вероятность, что из 1 млн разосланных уведомлений откроют менее 399,5 тысяч раз, равна 15%."
   ]
  },
  {
   "cell_type": "markdown",
   "id": "b3dbbf11",
   "metadata": {},
   "source": [
    "<a id=\"fin\"></a>\n",
    "## Общие выводы"
   ]
  },
  {
   "cell_type": "markdown",
   "id": "28adfc94",
   "metadata": {},
   "source": [
    "В результате выполнения статистического анализа данных сервиса аренды самокатов GoFast были изучены датафреймы и проведена **предобработка данных:**\n",
    "- датафрейм `data_users` содержит информацию о пользователях. Типы данных все правильные, пропусков и дубликатов в столбцах нет. Удален 31 явный дубликат. Содержит 1534 записей.\n",
    "- датафрейм `data_ride`s содержит информацию о поездках. Столбец `date` приведен к типу `datetime`, пропуски и дубликаты отсутствуют. Всего в датафрейме 18068 записей.\n",
    "- в этот датафрейм был добавлен столбец с номером месяца - `month`.\n",
    "- датафрейм `data_subs` содержит информацию о видах подписок. Типы данных правильные, пропусков и дубликатов нет, всего 2 записи."
   ]
  },
  {
   "cell_type": "markdown",
   "id": "a11a6ba4",
   "metadata": {},
   "source": [
    "В ходе **исследовательского анализа данных** были изучены значения и получены следующие выводы:\n",
    "- Сервис самокатов представлен в восьми городах России. Больше всего пользователей из Пятигорска и Екатеринбурга, меньше всего из Москвы и Тюмени.\n",
    "- Пользователей без подписки больше, чем пользователей с подпиской ultra на 8.86 процентных пункта.\n",
    "- Средний возраст пользователя - 25 лет.\n",
    "- Среднее расстояние поездок - около 3 километров. Также есть всплеск около 600-700 метровых поездок. Возможно, это пользователи, которые пытаются успеть на общественный траспорт или с общественного транспорта в точку назначения (например, от метро на работу). \n",
    "- Есть несколько очень кородких по расстоянию поездок временем от 2-3 до 14-15 минут. Причиной таких коротких поездок можно предположить желание успеть на общественный транспорт, отмену поездки из-за плохого состояния самоката (возможно, пользователь тут же взял другой самокат) или сложность в понимании эксплуатации самоката.\n",
    "- Средняя продолжительность поездки составляет 17-18 минут.\n",
    "- Найдены аномальные значения - продолжительность поездки 30 секунд с расстоянием несколько километров. Скорее всего, такие данные появились из-за технической ошибки. За неимением логических вариантов исправления аномальных данных, принято решение удалить данные (такие записи составляют 0.53% от всего датафрейма), чтобы не испортить последующие исследования."
   ]
  },
  {
   "cell_type": "markdown",
   "id": "1942a90b",
   "metadata": {},
   "source": [
    "Далее проведено **объединение данных:**\n",
    "- создан новый датафрейм `data`, объединяющий три основных (с информацией о пользователях, поездках и подписках). Также были созданы два датафрейма с пользователями без подписки и с пользователями с подпиской `ultra`. \n",
    "\n",
    "В результате визуализации данных о расстоянии и времени пользователей, разденных на категории \"с подпиской\" и \"без подписки\", были получены следующие выводы:\n",
    "\n",
    "- пользователей без подписки больше;\n",
    "- больший диапазон расстояния у пользователей без подписки - 0.86-7066 м, у пользователей с подпиской - 244.21-5699.77 м;\n",
    "- разброс по длительности поездок не сильно различается среди подписок, но у пользователей без подписки он чуть больше: 6.16 минут без подписки и 5.57 минут с подпиской;\n",
    "- медиана по времени поездок среди пользователей без подписки составляет 17.38, у пользователей с подпиской медиана немного больше и составляет 18.18."
   ]
  },
  {
   "cell_type": "markdown",
   "id": "a9307a18",
   "metadata": {},
   "source": [
    "При **подсчете выручки** \n",
    "- Создан датафрейм с агрегированными данными о поездках.\n",
    "- Найдено суммарное расстояние, количество поездок и суммарное время для каждого пользователя за каждый месяц.\n",
    "- Округлены минуты поездок до целого числа.\n",
    "- Посчитана помесячная выручка, которую принес каждый пользователь."
   ]
  },
  {
   "cell_type": "markdown",
   "id": "c9c10be0",
   "metadata": {},
   "source": [
    "В ходе **проверки гипотез** получены следующие данные:\n",
    "- среднее время продолжительности поездок среди пользователей с подпиской больше, чем среди пользователей без подписки.\n",
    "- среднее расстояние пользователей с подпиской не превышает оптимальные с точки зрения износа самоката 3130 метров.\n",
    "- помесячная выручка выше среди пользователей с подпиской.\n",
    "\n",
    "Получается, что пользователи с подпиской \"выгоднее\" для компании."
   ]
  },
  {
   "cell_type": "markdown",
   "id": "651c3313",
   "metadata": {},
   "source": [
    "Построение **распределений** показало, что:\n",
    "- если вероятность продления подписки составляет 10%, а минимально-необходимое количество продливших подписку - 100 клиентов, то с вероятностью 95% план будет успешным при раздаче 1161 промокода или более.\n",
    "- если 40% клиентов открывают уведолнеие, то вероятность, что из 1 млн разосланных уведомлений откроют менее 399,5 тысяч раз, равна 15%."
   ]
  }
 ],
 "metadata": {
  "ExecuteTimeLog": [
   {
    "duration": 1225,
    "start_time": "2024-02-15T17:33:25.666Z"
   },
   {
    "duration": 72,
    "start_time": "2024-02-15T17:33:26.893Z"
   },
   {
    "duration": 13,
    "start_time": "2024-02-15T17:33:26.966Z"
   },
   {
    "duration": 30,
    "start_time": "2024-02-15T17:33:26.981Z"
   },
   {
    "duration": 15,
    "start_time": "2024-02-15T17:33:27.013Z"
   },
   {
    "duration": 19,
    "start_time": "2024-02-15T17:33:27.029Z"
   },
   {
    "duration": 10,
    "start_time": "2024-02-15T17:33:27.050Z"
   },
   {
    "duration": 21,
    "start_time": "2024-02-15T17:33:27.061Z"
   },
   {
    "duration": 22,
    "start_time": "2024-02-15T17:33:27.084Z"
   },
   {
    "duration": 18,
    "start_time": "2024-02-15T17:33:27.109Z"
   },
   {
    "duration": 17,
    "start_time": "2024-02-15T17:33:27.129Z"
   },
   {
    "duration": 24,
    "start_time": "2024-02-15T17:33:27.148Z"
   },
   {
    "duration": 36,
    "start_time": "2024-02-15T17:33:27.174Z"
   },
   {
    "duration": 33,
    "start_time": "2024-02-15T17:33:27.212Z"
   },
   {
    "duration": 27,
    "start_time": "2024-02-15T17:33:27.246Z"
   },
   {
    "duration": 29,
    "start_time": "2024-02-15T17:33:27.275Z"
   },
   {
    "duration": 28,
    "start_time": "2024-02-15T17:33:27.306Z"
   },
   {
    "duration": 34,
    "start_time": "2024-02-15T17:33:27.335Z"
   },
   {
    "duration": 192,
    "start_time": "2024-02-15T17:33:27.370Z"
   },
   {
    "duration": 12,
    "start_time": "2024-02-15T17:33:27.564Z"
   },
   {
    "duration": 180,
    "start_time": "2024-02-15T17:33:27.578Z"
   },
   {
    "duration": 13,
    "start_time": "2024-02-15T17:33:27.760Z"
   },
   {
    "duration": 294,
    "start_time": "2024-02-15T17:33:27.774Z"
   },
   {
    "duration": 8,
    "start_time": "2024-02-15T17:33:28.070Z"
   },
   {
    "duration": 232,
    "start_time": "2024-02-15T17:33:28.080Z"
   },
   {
    "duration": 11,
    "start_time": "2024-02-15T17:33:28.314Z"
   },
   {
    "duration": 225,
    "start_time": "2024-02-15T17:33:28.327Z"
   },
   {
    "duration": 8,
    "start_time": "2024-02-15T17:33:28.556Z"
   },
   {
    "duration": 42,
    "start_time": "2024-02-15T17:33:28.566Z"
   },
   {
    "duration": 17,
    "start_time": "2024-02-15T17:33:28.609Z"
   },
   {
    "duration": 14,
    "start_time": "2024-02-15T17:33:28.628Z"
   },
   {
    "duration": 475,
    "start_time": "2024-02-15T17:33:28.644Z"
   },
   {
    "duration": 361,
    "start_time": "2024-02-15T17:33:29.121Z"
   },
   {
    "duration": 39,
    "start_time": "2024-02-15T17:33:29.483Z"
   },
   {
    "duration": 35,
    "start_time": "2024-02-15T17:33:29.524Z"
   },
   {
    "duration": 8,
    "start_time": "2024-02-15T17:33:29.561Z"
   },
   {
    "duration": 7,
    "start_time": "2024-02-15T17:33:29.591Z"
   },
   {
    "duration": 20,
    "start_time": "2024-02-15T17:33:29.600Z"
   },
   {
    "duration": 889,
    "start_time": "2024-02-15T17:33:29.622Z"
   },
   {
    "duration": 102,
    "start_time": "2024-02-15T17:33:30.513Z"
   },
   {
    "duration": 177,
    "start_time": "2024-02-15T17:33:30.617Z"
   },
   {
    "duration": 6,
    "start_time": "2024-02-15T17:33:30.796Z"
   },
   {
    "duration": 20,
    "start_time": "2024-02-15T18:19:18.080Z"
   },
   {
    "duration": 1149,
    "start_time": "2024-02-15T18:27:17.721Z"
   },
   {
    "duration": 70,
    "start_time": "2024-02-15T18:27:18.872Z"
   },
   {
    "duration": 13,
    "start_time": "2024-02-15T18:27:18.944Z"
   },
   {
    "duration": 14,
    "start_time": "2024-02-15T18:27:18.960Z"
   },
   {
    "duration": 11,
    "start_time": "2024-02-15T18:27:18.976Z"
   },
   {
    "duration": 12,
    "start_time": "2024-02-15T18:27:18.989Z"
   },
   {
    "duration": 6,
    "start_time": "2024-02-15T18:27:19.003Z"
   },
   {
    "duration": 13,
    "start_time": "2024-02-15T18:27:19.011Z"
   },
   {
    "duration": 11,
    "start_time": "2024-02-15T18:27:19.025Z"
   },
   {
    "duration": 11,
    "start_time": "2024-02-15T18:27:19.039Z"
   },
   {
    "duration": 13,
    "start_time": "2024-02-15T18:27:19.051Z"
   },
   {
    "duration": 31,
    "start_time": "2024-02-15T18:27:19.066Z"
   },
   {
    "duration": 10,
    "start_time": "2024-02-15T18:27:19.098Z"
   },
   {
    "duration": 12,
    "start_time": "2024-02-15T18:27:19.110Z"
   },
   {
    "duration": 8,
    "start_time": "2024-02-15T18:27:19.123Z"
   },
   {
    "duration": 9,
    "start_time": "2024-02-15T18:27:19.133Z"
   },
   {
    "duration": 6,
    "start_time": "2024-02-15T18:27:19.144Z"
   },
   {
    "duration": 42,
    "start_time": "2024-02-15T18:27:19.151Z"
   },
   {
    "duration": 190,
    "start_time": "2024-02-15T18:27:19.195Z"
   },
   {
    "duration": 14,
    "start_time": "2024-02-15T18:27:19.387Z"
   },
   {
    "duration": 153,
    "start_time": "2024-02-15T18:27:19.403Z"
   },
   {
    "duration": 13,
    "start_time": "2024-02-15T18:27:19.557Z"
   },
   {
    "duration": 332,
    "start_time": "2024-02-15T18:27:19.572Z"
   },
   {
    "duration": 9,
    "start_time": "2024-02-15T18:27:19.906Z"
   },
   {
    "duration": 242,
    "start_time": "2024-02-15T18:27:19.916Z"
   },
   {
    "duration": 11,
    "start_time": "2024-02-15T18:27:20.161Z"
   },
   {
    "duration": 225,
    "start_time": "2024-02-15T18:27:20.174Z"
   },
   {
    "duration": 9,
    "start_time": "2024-02-15T18:27:20.403Z"
   },
   {
    "duration": 27,
    "start_time": "2024-02-15T18:27:20.413Z"
   },
   {
    "duration": 17,
    "start_time": "2024-02-15T18:27:20.442Z"
   },
   {
    "duration": 40,
    "start_time": "2024-02-15T18:27:20.460Z"
   },
   {
    "duration": 432,
    "start_time": "2024-02-15T18:27:20.501Z"
   },
   {
    "duration": 403,
    "start_time": "2024-02-15T18:27:20.935Z"
   },
   {
    "duration": 38,
    "start_time": "2024-02-15T18:27:21.391Z"
   },
   {
    "duration": 62,
    "start_time": "2024-02-15T18:27:21.431Z"
   },
   {
    "duration": 9,
    "start_time": "2024-02-15T18:27:21.495Z"
   },
   {
    "duration": 36,
    "start_time": "2024-02-15T18:27:21.506Z"
   },
   {
    "duration": 54,
    "start_time": "2024-02-15T18:27:21.543Z"
   },
   {
    "duration": 897,
    "start_time": "2024-02-15T18:27:21.599Z"
   },
   {
    "duration": 98,
    "start_time": "2024-02-15T18:27:22.498Z"
   },
   {
    "duration": 180,
    "start_time": "2024-02-15T18:27:22.597Z"
   },
   {
    "duration": 14,
    "start_time": "2024-02-15T18:27:22.779Z"
   },
   {
    "duration": 1371,
    "start_time": "2024-02-16T09:40:39.662Z"
   },
   {
    "duration": 193,
    "start_time": "2024-02-16T09:40:41.036Z"
   },
   {
    "duration": 14,
    "start_time": "2024-02-16T09:40:41.231Z"
   },
   {
    "duration": 27,
    "start_time": "2024-02-16T09:40:41.247Z"
   },
   {
    "duration": 15,
    "start_time": "2024-02-16T09:40:41.277Z"
   },
   {
    "duration": 23,
    "start_time": "2024-02-16T09:40:41.294Z"
   },
   {
    "duration": 6,
    "start_time": "2024-02-16T09:40:41.320Z"
   },
   {
    "duration": 17,
    "start_time": "2024-02-16T09:40:41.328Z"
   },
   {
    "duration": 8,
    "start_time": "2024-02-16T09:40:41.347Z"
   },
   {
    "duration": 11,
    "start_time": "2024-02-16T09:40:41.359Z"
   },
   {
    "duration": 6,
    "start_time": "2024-02-16T09:40:41.371Z"
   },
   {
    "duration": 6,
    "start_time": "2024-02-16T09:40:41.378Z"
   },
   {
    "duration": 44,
    "start_time": "2024-02-16T09:40:41.385Z"
   },
   {
    "duration": 9,
    "start_time": "2024-02-16T09:40:41.431Z"
   },
   {
    "duration": 11,
    "start_time": "2024-02-16T09:40:41.442Z"
   },
   {
    "duration": 8,
    "start_time": "2024-02-16T09:40:41.454Z"
   },
   {
    "duration": 22,
    "start_time": "2024-02-16T09:40:41.464Z"
   },
   {
    "duration": 7,
    "start_time": "2024-02-16T09:40:41.487Z"
   },
   {
    "duration": 37,
    "start_time": "2024-02-16T09:40:41.495Z"
   },
   {
    "duration": 194,
    "start_time": "2024-02-16T09:40:41.533Z"
   },
   {
    "duration": 12,
    "start_time": "2024-02-16T09:40:41.728Z"
   },
   {
    "duration": 152,
    "start_time": "2024-02-16T09:40:41.742Z"
   },
   {
    "duration": 13,
    "start_time": "2024-02-16T09:40:41.896Z"
   },
   {
    "duration": 276,
    "start_time": "2024-02-16T09:40:41.911Z"
   },
   {
    "duration": 9,
    "start_time": "2024-02-16T09:40:42.189Z"
   },
   {
    "duration": 234,
    "start_time": "2024-02-16T09:40:42.200Z"
   },
   {
    "duration": 9,
    "start_time": "2024-02-16T09:40:42.436Z"
   },
   {
    "duration": 13,
    "start_time": "2024-02-16T09:40:42.449Z"
   },
   {
    "duration": 163,
    "start_time": "2024-02-16T09:40:42.464Z"
   },
   {
    "duration": 216,
    "start_time": "2024-02-16T09:40:42.628Z"
   },
   {
    "duration": 8,
    "start_time": "2024-02-16T09:40:42.846Z"
   },
   {
    "duration": 228,
    "start_time": "2024-02-16T09:40:42.856Z"
   },
   {
    "duration": 11,
    "start_time": "2024-02-16T09:40:43.086Z"
   },
   {
    "duration": 25,
    "start_time": "2024-02-16T09:40:43.099Z"
   },
   {
    "duration": 16,
    "start_time": "2024-02-16T09:40:43.126Z"
   },
   {
    "duration": 4,
    "start_time": "2024-02-16T09:40:43.144Z"
   },
   {
    "duration": 20,
    "start_time": "2024-02-16T09:40:43.149Z"
   },
   {
    "duration": 6,
    "start_time": "2024-02-16T09:40:43.171Z"
   },
   {
    "duration": 178,
    "start_time": "2024-02-16T09:40:43.179Z"
   },
   {
    "duration": 12,
    "start_time": "2024-02-16T09:40:43.360Z"
   },
   {
    "duration": 10,
    "start_time": "2024-02-16T09:40:43.374Z"
   },
   {
    "duration": 11,
    "start_time": "2024-02-16T09:40:43.385Z"
   },
   {
    "duration": 35,
    "start_time": "2024-02-16T09:40:43.398Z"
   },
   {
    "duration": 12,
    "start_time": "2024-02-16T09:40:43.435Z"
   },
   {
    "duration": 33,
    "start_time": "2024-02-16T09:40:43.449Z"
   },
   {
    "duration": 41,
    "start_time": "2024-02-16T09:40:43.484Z"
   },
   {
    "duration": 5,
    "start_time": "2024-02-16T09:40:43.527Z"
   },
   {
    "duration": 372,
    "start_time": "2024-02-16T09:40:43.534Z"
   },
   {
    "duration": 20,
    "start_time": "2024-02-16T09:40:43.907Z"
   },
   {
    "duration": 333,
    "start_time": "2024-02-16T09:40:43.929Z"
   },
   {
    "duration": 12,
    "start_time": "2024-02-16T09:40:44.264Z"
   },
   {
    "duration": 52,
    "start_time": "2024-02-16T09:40:44.278Z"
   },
   {
    "duration": 28,
    "start_time": "2024-02-16T09:40:44.332Z"
   },
   {
    "duration": 20,
    "start_time": "2024-02-16T09:40:44.362Z"
   },
   {
    "duration": 8,
    "start_time": "2024-02-16T09:40:44.384Z"
   },
   {
    "duration": 34,
    "start_time": "2024-02-16T09:40:44.393Z"
   },
   {
    "duration": 13,
    "start_time": "2024-02-16T09:40:44.429Z"
   },
   {
    "duration": 979,
    "start_time": "2024-02-16T09:40:44.443Z"
   },
   {
    "duration": 100,
    "start_time": "2024-02-16T09:40:45.423Z"
   },
   {
    "duration": 162,
    "start_time": "2024-02-16T09:40:45.525Z"
   },
   {
    "duration": 6,
    "start_time": "2024-02-16T09:40:45.689Z"
   },
   {
    "duration": 10,
    "start_time": "2024-02-16T10:11:50.918Z"
   },
   {
    "duration": 1143,
    "start_time": "2024-02-16T10:13:21.152Z"
   },
   {
    "duration": 68,
    "start_time": "2024-02-16T10:13:22.297Z"
   },
   {
    "duration": 13,
    "start_time": "2024-02-16T10:13:22.366Z"
   },
   {
    "duration": 11,
    "start_time": "2024-02-16T10:13:22.381Z"
   },
   {
    "duration": 14,
    "start_time": "2024-02-16T10:13:22.393Z"
   },
   {
    "duration": 11,
    "start_time": "2024-02-16T10:13:22.409Z"
   },
   {
    "duration": 8,
    "start_time": "2024-02-16T10:13:22.422Z"
   },
   {
    "duration": 11,
    "start_time": "2024-02-16T10:13:22.432Z"
   },
   {
    "duration": 8,
    "start_time": "2024-02-16T10:13:22.445Z"
   },
   {
    "duration": 10,
    "start_time": "2024-02-16T10:13:22.456Z"
   },
   {
    "duration": 10,
    "start_time": "2024-02-16T10:13:22.468Z"
   },
   {
    "duration": 10,
    "start_time": "2024-02-16T10:13:22.480Z"
   },
   {
    "duration": 36,
    "start_time": "2024-02-16T10:13:22.491Z"
   },
   {
    "duration": 12,
    "start_time": "2024-02-16T10:13:22.529Z"
   },
   {
    "duration": 18,
    "start_time": "2024-02-16T10:13:22.543Z"
   },
   {
    "duration": 7,
    "start_time": "2024-02-16T10:13:22.563Z"
   },
   {
    "duration": 3,
    "start_time": "2024-02-16T10:13:22.572Z"
   },
   {
    "duration": 6,
    "start_time": "2024-02-16T10:13:22.577Z"
   },
   {
    "duration": 44,
    "start_time": "2024-02-16T10:13:22.584Z"
   },
   {
    "duration": 193,
    "start_time": "2024-02-16T10:13:22.630Z"
   },
   {
    "duration": 12,
    "start_time": "2024-02-16T10:13:22.825Z"
   },
   {
    "duration": 154,
    "start_time": "2024-02-16T10:13:22.839Z"
   },
   {
    "duration": 12,
    "start_time": "2024-02-16T10:13:22.995Z"
   },
   {
    "duration": 287,
    "start_time": "2024-02-16T10:13:23.009Z"
   },
   {
    "duration": 8,
    "start_time": "2024-02-16T10:13:23.297Z"
   },
   {
    "duration": 224,
    "start_time": "2024-02-16T10:13:23.307Z"
   },
   {
    "duration": 10,
    "start_time": "2024-02-16T10:13:23.533Z"
   },
   {
    "duration": 14,
    "start_time": "2024-02-16T10:13:23.547Z"
   },
   {
    "duration": 167,
    "start_time": "2024-02-16T10:13:23.562Z"
   },
   {
    "duration": 215,
    "start_time": "2024-02-16T10:13:23.730Z"
   },
   {
    "duration": 9,
    "start_time": "2024-02-16T10:13:23.947Z"
   },
   {
    "duration": 226,
    "start_time": "2024-02-16T10:13:23.957Z"
   },
   {
    "duration": 11,
    "start_time": "2024-02-16T10:13:24.184Z"
   },
   {
    "duration": 12,
    "start_time": "2024-02-16T10:13:24.197Z"
   },
   {
    "duration": 15,
    "start_time": "2024-02-16T10:13:24.225Z"
   },
   {
    "duration": 4,
    "start_time": "2024-02-16T10:13:24.241Z"
   },
   {
    "duration": 15,
    "start_time": "2024-02-16T10:13:24.246Z"
   },
   {
    "duration": 4,
    "start_time": "2024-02-16T10:13:24.263Z"
   },
   {
    "duration": 172,
    "start_time": "2024-02-16T10:13:24.268Z"
   },
   {
    "duration": 14,
    "start_time": "2024-02-16T10:13:24.442Z"
   },
   {
    "duration": 13,
    "start_time": "2024-02-16T10:13:24.458Z"
   },
   {
    "duration": 10,
    "start_time": "2024-02-16T10:13:24.473Z"
   },
   {
    "duration": 41,
    "start_time": "2024-02-16T10:13:24.484Z"
   },
   {
    "duration": 12,
    "start_time": "2024-02-16T10:13:24.528Z"
   },
   {
    "duration": 17,
    "start_time": "2024-02-16T10:13:24.542Z"
   },
   {
    "duration": 15,
    "start_time": "2024-02-16T10:13:24.560Z"
   },
   {
    "duration": 4,
    "start_time": "2024-02-16T10:13:24.577Z"
   },
   {
    "duration": 390,
    "start_time": "2024-02-16T10:13:24.582Z"
   },
   {
    "duration": 11,
    "start_time": "2024-02-16T10:13:24.974Z"
   },
   {
    "duration": 348,
    "start_time": "2024-02-16T10:13:24.986Z"
   },
   {
    "duration": 12,
    "start_time": "2024-02-16T10:13:25.335Z"
   },
   {
    "duration": 35,
    "start_time": "2024-02-16T10:13:25.349Z"
   },
   {
    "duration": 51,
    "start_time": "2024-02-16T10:13:25.385Z"
   },
   {
    "duration": 22,
    "start_time": "2024-02-16T10:13:25.437Z"
   },
   {
    "duration": 9,
    "start_time": "2024-02-16T10:13:25.461Z"
   },
   {
    "duration": 8,
    "start_time": "2024-02-16T10:13:25.473Z"
   },
   {
    "duration": 45,
    "start_time": "2024-02-16T10:13:25.483Z"
   },
   {
    "duration": 955,
    "start_time": "2024-02-16T10:13:25.530Z"
   },
   {
    "duration": 98,
    "start_time": "2024-02-16T10:13:26.486Z"
   },
   {
    "duration": 166,
    "start_time": "2024-02-16T10:13:26.586Z"
   },
   {
    "duration": 6,
    "start_time": "2024-02-16T10:13:26.755Z"
   },
   {
    "duration": 1156,
    "start_time": "2024-02-16T10:14:38.468Z"
   },
   {
    "duration": 70,
    "start_time": "2024-02-16T10:14:39.626Z"
   },
   {
    "duration": 13,
    "start_time": "2024-02-16T10:14:39.697Z"
   },
   {
    "duration": 17,
    "start_time": "2024-02-16T10:14:39.712Z"
   },
   {
    "duration": 33,
    "start_time": "2024-02-16T10:14:39.731Z"
   },
   {
    "duration": 14,
    "start_time": "2024-02-16T10:14:39.766Z"
   },
   {
    "duration": 7,
    "start_time": "2024-02-16T10:14:39.782Z"
   },
   {
    "duration": 13,
    "start_time": "2024-02-16T10:14:39.791Z"
   },
   {
    "duration": 9,
    "start_time": "2024-02-16T10:14:39.806Z"
   },
   {
    "duration": 13,
    "start_time": "2024-02-16T10:14:39.818Z"
   },
   {
    "duration": 6,
    "start_time": "2024-02-16T10:14:39.832Z"
   },
   {
    "duration": 29,
    "start_time": "2024-02-16T10:14:39.840Z"
   },
   {
    "duration": 40,
    "start_time": "2024-02-16T10:14:39.871Z"
   },
   {
    "duration": 53,
    "start_time": "2024-02-16T10:14:39.912Z"
   },
   {
    "duration": 27,
    "start_time": "2024-02-16T10:14:39.967Z"
   },
   {
    "duration": 22,
    "start_time": "2024-02-16T10:14:39.996Z"
   },
   {
    "duration": 26,
    "start_time": "2024-02-16T10:14:40.020Z"
   },
   {
    "duration": 26,
    "start_time": "2024-02-16T10:14:40.048Z"
   },
   {
    "duration": 24,
    "start_time": "2024-02-16T10:14:40.075Z"
   },
   {
    "duration": 184,
    "start_time": "2024-02-16T10:14:40.100Z"
   },
   {
    "duration": 12,
    "start_time": "2024-02-16T10:14:40.285Z"
   },
   {
    "duration": 151,
    "start_time": "2024-02-16T10:14:40.298Z"
   },
   {
    "duration": 13,
    "start_time": "2024-02-16T10:14:40.451Z"
   },
   {
    "duration": 296,
    "start_time": "2024-02-16T10:14:40.465Z"
   },
   {
    "duration": 9,
    "start_time": "2024-02-16T10:14:40.762Z"
   },
   {
    "duration": 227,
    "start_time": "2024-02-16T10:14:40.773Z"
   },
   {
    "duration": 8,
    "start_time": "2024-02-16T10:14:41.001Z"
   },
   {
    "duration": 14,
    "start_time": "2024-02-16T10:14:41.023Z"
   },
   {
    "duration": 153,
    "start_time": "2024-02-16T10:14:41.039Z"
   },
   {
    "duration": 221,
    "start_time": "2024-02-16T10:14:41.194Z"
   },
   {
    "duration": 12,
    "start_time": "2024-02-16T10:14:41.417Z"
   },
   {
    "duration": 236,
    "start_time": "2024-02-16T10:14:41.431Z"
   },
   {
    "duration": 12,
    "start_time": "2024-02-16T10:14:41.668Z"
   },
   {
    "duration": 23,
    "start_time": "2024-02-16T10:14:41.681Z"
   },
   {
    "duration": 23,
    "start_time": "2024-02-16T10:14:41.706Z"
   },
   {
    "duration": 3,
    "start_time": "2024-02-16T10:14:41.731Z"
   },
   {
    "duration": 19,
    "start_time": "2024-02-16T10:14:41.736Z"
   },
   {
    "duration": 5,
    "start_time": "2024-02-16T10:14:41.757Z"
   },
   {
    "duration": 143,
    "start_time": "2024-02-16T10:14:41.763Z"
   },
   {
    "duration": 17,
    "start_time": "2024-02-16T10:14:41.908Z"
   },
   {
    "duration": 10,
    "start_time": "2024-02-16T10:14:41.927Z"
   },
   {
    "duration": 9,
    "start_time": "2024-02-16T10:14:41.939Z"
   },
   {
    "duration": 12,
    "start_time": "2024-02-16T10:14:41.949Z"
   },
   {
    "duration": 16,
    "start_time": "2024-02-16T10:14:41.963Z"
   },
   {
    "duration": 53,
    "start_time": "2024-02-16T10:14:41.981Z"
   },
   {
    "duration": 16,
    "start_time": "2024-02-16T10:14:42.036Z"
   },
   {
    "duration": 4,
    "start_time": "2024-02-16T10:14:42.054Z"
   },
   {
    "duration": 368,
    "start_time": "2024-02-16T10:14:42.060Z"
   },
   {
    "duration": 13,
    "start_time": "2024-02-16T10:14:42.430Z"
   },
   {
    "duration": 361,
    "start_time": "2024-02-16T10:14:42.445Z"
   },
   {
    "duration": 16,
    "start_time": "2024-02-16T10:14:42.808Z"
   },
   {
    "duration": 36,
    "start_time": "2024-02-16T10:14:42.825Z"
   },
   {
    "duration": 28,
    "start_time": "2024-02-16T10:14:42.863Z"
   },
   {
    "duration": 48,
    "start_time": "2024-02-16T10:14:42.892Z"
   },
   {
    "duration": 15,
    "start_time": "2024-02-16T10:14:42.942Z"
   },
   {
    "duration": 7,
    "start_time": "2024-02-16T10:14:42.959Z"
   },
   {
    "duration": 17,
    "start_time": "2024-02-16T10:14:42.967Z"
   },
   {
    "duration": 949,
    "start_time": "2024-02-16T10:14:42.986Z"
   },
   {
    "duration": 89,
    "start_time": "2024-02-16T10:14:43.937Z"
   },
   {
    "duration": 166,
    "start_time": "2024-02-16T10:14:44.028Z"
   },
   {
    "duration": 5,
    "start_time": "2024-02-16T10:14:44.196Z"
   },
   {
    "duration": 1284,
    "start_time": "2024-02-16T13:09:57.340Z"
   },
   {
    "duration": 197,
    "start_time": "2024-02-16T13:09:58.625Z"
   },
   {
    "duration": 12,
    "start_time": "2024-02-16T13:09:58.823Z"
   },
   {
    "duration": 28,
    "start_time": "2024-02-16T13:09:58.837Z"
   },
   {
    "duration": 32,
    "start_time": "2024-02-16T13:09:58.867Z"
   },
   {
    "duration": 40,
    "start_time": "2024-02-16T13:09:58.900Z"
   },
   {
    "duration": 24,
    "start_time": "2024-02-16T13:09:58.941Z"
   },
   {
    "duration": 35,
    "start_time": "2024-02-16T13:09:58.967Z"
   },
   {
    "duration": 46,
    "start_time": "2024-02-16T13:09:59.003Z"
   },
   {
    "duration": 30,
    "start_time": "2024-02-16T13:09:59.051Z"
   },
   {
    "duration": 30,
    "start_time": "2024-02-16T13:09:59.082Z"
   },
   {
    "duration": 28,
    "start_time": "2024-02-16T13:09:59.114Z"
   },
   {
    "duration": 22,
    "start_time": "2024-02-16T13:09:59.143Z"
   },
   {
    "duration": 30,
    "start_time": "2024-02-16T13:09:59.167Z"
   },
   {
    "duration": 27,
    "start_time": "2024-02-16T13:09:59.199Z"
   },
   {
    "duration": 6,
    "start_time": "2024-02-16T13:09:59.228Z"
   },
   {
    "duration": 19,
    "start_time": "2024-02-16T13:09:59.236Z"
   },
   {
    "duration": 25,
    "start_time": "2024-02-16T13:09:59.257Z"
   },
   {
    "duration": 19,
    "start_time": "2024-02-16T13:09:59.284Z"
   },
   {
    "duration": 212,
    "start_time": "2024-02-16T13:09:59.305Z"
   },
   {
    "duration": 13,
    "start_time": "2024-02-16T13:09:59.519Z"
   },
   {
    "duration": 155,
    "start_time": "2024-02-16T13:09:59.534Z"
   },
   {
    "duration": 12,
    "start_time": "2024-02-16T13:09:59.690Z"
   },
   {
    "duration": 261,
    "start_time": "2024-02-16T13:09:59.704Z"
   },
   {
    "duration": 8,
    "start_time": "2024-02-16T13:09:59.967Z"
   },
   {
    "duration": 214,
    "start_time": "2024-02-16T13:09:59.977Z"
   },
   {
    "duration": 9,
    "start_time": "2024-02-16T13:10:00.193Z"
   },
   {
    "duration": 60,
    "start_time": "2024-02-16T13:10:00.206Z"
   },
   {
    "duration": 222,
    "start_time": "2024-02-16T13:10:00.268Z"
   },
   {
    "duration": 210,
    "start_time": "2024-02-16T13:10:00.492Z"
   },
   {
    "duration": 9,
    "start_time": "2024-02-16T13:10:00.704Z"
   },
   {
    "duration": 310,
    "start_time": "2024-02-16T13:10:00.714Z"
   },
   {
    "duration": 87,
    "start_time": "2024-02-16T13:10:01.026Z"
   },
   {
    "duration": 73,
    "start_time": "2024-02-16T13:10:01.115Z"
   },
   {
    "duration": 61,
    "start_time": "2024-02-16T13:10:01.190Z"
   },
   {
    "duration": 154,
    "start_time": "2024-02-16T13:10:01.253Z"
   },
   {
    "duration": 129,
    "start_time": "2024-02-16T13:10:01.408Z"
   },
   {
    "duration": 30,
    "start_time": "2024-02-16T13:10:01.539Z"
   },
   {
    "duration": 156,
    "start_time": "2024-02-16T13:10:01.570Z"
   },
   {
    "duration": 10,
    "start_time": "2024-02-16T13:10:01.728Z"
   },
   {
    "duration": 42,
    "start_time": "2024-02-16T13:10:01.740Z"
   },
   {
    "duration": 76,
    "start_time": "2024-02-16T13:10:01.783Z"
   },
   {
    "duration": 65,
    "start_time": "2024-02-16T13:10:01.860Z"
   },
   {
    "duration": 69,
    "start_time": "2024-02-16T13:10:01.927Z"
   },
   {
    "duration": 70,
    "start_time": "2024-02-16T13:10:01.998Z"
   },
   {
    "duration": 34,
    "start_time": "2024-02-16T13:10:02.070Z"
   },
   {
    "duration": 28,
    "start_time": "2024-02-16T13:10:02.105Z"
   },
   {
    "duration": 340,
    "start_time": "2024-02-16T13:10:02.134Z"
   },
   {
    "duration": 11,
    "start_time": "2024-02-16T13:10:02.476Z"
   },
   {
    "duration": 316,
    "start_time": "2024-02-16T13:10:02.488Z"
   },
   {
    "duration": 11,
    "start_time": "2024-02-16T13:10:02.805Z"
   },
   {
    "duration": 76,
    "start_time": "2024-02-16T13:10:02.818Z"
   },
   {
    "duration": 52,
    "start_time": "2024-02-16T13:10:02.896Z"
   },
   {
    "duration": 31,
    "start_time": "2024-02-16T13:10:02.950Z"
   },
   {
    "duration": 47,
    "start_time": "2024-02-16T13:10:02.983Z"
   },
   {
    "duration": 59,
    "start_time": "2024-02-16T13:10:03.032Z"
   },
   {
    "duration": 90,
    "start_time": "2024-02-16T13:10:03.092Z"
   },
   {
    "duration": 914,
    "start_time": "2024-02-16T13:10:03.184Z"
   },
   {
    "duration": 88,
    "start_time": "2024-02-16T13:10:04.099Z"
   },
   {
    "duration": 154,
    "start_time": "2024-02-16T13:10:04.189Z"
   },
   {
    "duration": 5,
    "start_time": "2024-02-16T13:10:04.344Z"
   }
  ],
  "kernelspec": {
   "display_name": "Python 3 (ipykernel)",
   "language": "python",
   "name": "python3"
  },
  "language_info": {
   "codemirror_mode": {
    "name": "ipython",
    "version": 3
   },
   "file_extension": ".py",
   "mimetype": "text/x-python",
   "name": "python",
   "nbconvert_exporter": "python",
   "pygments_lexer": "ipython3",
   "version": "3.9.18"
  },
  "toc": {
   "base_numbering": 1,
   "nav_menu": {},
   "number_sections": true,
   "sideBar": true,
   "skip_h1_title": true,
   "title_cell": "Table of Contents",
   "title_sidebar": "Contents",
   "toc_cell": false,
   "toc_position": {},
   "toc_section_display": true,
   "toc_window_display": false
  },
  "varInspector": {
   "cols": {
    "lenName": 16,
    "lenType": 16,
    "lenVar": 40
   },
   "kernels_config": {
    "python": {
     "delete_cmd_postfix": "",
     "delete_cmd_prefix": "del ",
     "library": "var_list.py",
     "varRefreshCmd": "print(var_dic_list())"
    },
    "r": {
     "delete_cmd_postfix": ") ",
     "delete_cmd_prefix": "rm(",
     "library": "var_list.r",
     "varRefreshCmd": "cat(var_dic_list()) "
    }
   },
   "types_to_exclude": [
    "module",
    "function",
    "builtin_function_or_method",
    "instance",
    "_Feature"
   ],
   "window_display": false
  }
 },
 "nbformat": 4,
 "nbformat_minor": 5
}
